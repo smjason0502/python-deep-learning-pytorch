{
  "nbformat": 4,
  "nbformat_minor": 0,
  "metadata": {
    "colab": {
      "provenance": [],
      "authorship_tag": "ABX9TyOxm4QkiOgB7kHT6gGoxp+X",
      "include_colab_link": true
    },
    "kernelspec": {
      "name": "python3",
      "display_name": "Python 3"
    },
    "language_info": {
      "name": "python"
    }
  },
  "cells": [
    {
      "cell_type": "markdown",
      "metadata": {
        "id": "view-in-github",
        "colab_type": "text"
      },
      "source": [
        "<a href=\"https://colab.research.google.com/github/smjason0502/python-deep-learning-pytorch/blob/main/2%EC%A3%BC%EC%B0%A8_%EC%8A%A4%ED%84%B0%EB%94%94(%ED%8C%8C%EC%9D%B4%EC%8D%AC_%EB%94%A5%EB%9F%AC%EB%8B%9D_%ED%8C%8C%EC%9D%B4%ED%86%A0%EC%B9%98).ipynb\" target=\"_parent\"><img src=\"https://colab.research.google.com/assets/colab-badge.svg\" alt=\"Open In Colab\"/></a>"
      ]
    },
    {
      "cell_type": "markdown",
      "source": [
        "예제 2-1 사람의 손글씨 데이터인 MNIST를 이용해 Multi Layer Perceptron(MLP)설계하기\n",
        "\n",
        "1. 모듈 임포트하기\n",
        "2. 딥러닝모델을 설계할 때 활용하는 장비 확인하기\n",
        "3. MNIST 데이터 다운로드하기(Trainset, Testset분리하기)\n",
        "4. 데이터 확인하기(1)\n",
        "5. 데이터 확인하기(2)\n",
        "6. MLP(MultiLayerPerceptron) 모델설계하기\n",
        "7. Optimizer, ObjectiveFunction 설정하기\n",
        "8. MLP 모델 학습을 진행하면서 학습 데이터에 대한 모델 성능을 확인하는 함수 정의하기\n",
        "9. 학습되는 과정 속에서 검증데이터에 대한 모델의 성능을 확인하는 함수 정의하기\n",
        "10. MLP 학습을 실행하면서 Train, Test set의 Loss 및 Test set Accuracy 확인하기\n"
      ],
      "metadata": {
        "id": "C6yo07GjCb2Q"
      }
    },
    {
      "cell_type": "code",
      "source": [
        "# 1. Module Import\n",
        "import numpy as np #(1)\n",
        "import matplotlib.pyplot as plt #(2)\n",
        "import torch #(3)\n",
        "import torch.nn as nn #(4)\n",
        "import torch.nn.functional as F #(5)\n",
        "from torchvision import transforms, datasets #(6)\n"
      ],
      "metadata": {
        "id": "u6FmFm1PCRxp"
      },
      "execution_count": 4,
      "outputs": []
    },
    {
      "cell_type": "code",
      "source": [
        "# 2. 딥러닝모델을 설계할때 활용하는 장비 확인\n",
        "if torch.cuda.is_available():\n",
        "  DEVICE = torch.device('cuda')\n",
        "else:\n",
        "  DEVICE = torch.device('cpu')\n",
        "print('Using PyTorch version:', torch.__version__, 'Device:',DEVICE)\n",
        "# Using PyTorch version: 1.5.0+cu101 Device: cuda"
      ],
      "metadata": {
        "colab": {
          "base_uri": "https://localhost:8080/"
        },
        "id": "86K16E94CRnA",
        "outputId": "f350ff29-6998-4246-8315-3ff96c77323e"
      },
      "execution_count": 5,
      "outputs": [
        {
          "output_type": "stream",
          "name": "stdout",
          "text": [
            "Using PyTorch version: 2.4.0+cu121 Device: cpu\n"
          ]
        }
      ]
    },
    {
      "cell_type": "code",
      "source": [
        "BATCH_SIZE= 32  #(1)\n",
        "EPOCHS = 10  #(2)\n",
        "# BATCH_SIZE: MLP 모델을 학습할때 필요한 데이터 개수의 단위입니다.\n",
        "#Epoch은 사용자가 정의하는 하이퍼파라미터이며 Mini- Batch의 데이터 개수를 지정해준다면 Iteration은 전체 데이터 개수에서 1개의 Mini Batch를 구성하고 있는 데이터 개수를 나눠준 몫 만큼 Iteration을 진행합니다."
      ],
      "metadata": {
        "id": "NcWzspixCRWs"
      },
      "execution_count": 6,
      "outputs": []
    },
    {
      "cell_type": "code",
      "source": [
        "# 3. MNIST 데이터 다운로드 (Train set, Test set 분리하기)\n",
        "\n",
        "train_dataset = datasets.MNIST(root = \"../data/MNIST\",\n",
        "                               train = True,\n",
        "                               download = True,\n",
        "                               transform = transforms.ToTensor())\n",
        "test_dataset = datasets.MNIST(root = \"../data/MNIST\",\n",
        "                               train = False,\n",
        "                               transform = transforms.ToTensor())\n",
        "train_loader = torch.utils.data.DataLoader(dataset = train_dataset,\n",
        "                                           batch_size = BATCH_SIZE,\n",
        "                                           shuffle = True)\n",
        "test_loader = torch.utils.data.DataLoader(dataset = test_dataset,\n",
        "                                          batch_size = BATCH_SIZE,\n",
        "                                          shuffle = False)\n",
        "## root: 데이터가 저장될 장소를 지정\n",
        "## train: 대상 데이터가 MLP모델을 학습하기 위해 이용하는 학습용 데이터인지, MLP모델의 학습된 이후 성능을 검증하기 위한 검증용 데이터인지를 지정합니다\n",
        "## download: 해당 데이터를 인터넷상에서 다운로드해 이용할 것인지를 지정\n",
        "## transform : 사람의 손글씨 데이터인 MNIST는 이미지 데이터입니다\n"
      ],
      "metadata": {
        "id": "f_mJDTuUEqKO"
      },
      "execution_count": 8,
      "outputs": []
    },
    {
      "cell_type": "code",
      "source": [
        "## 4. 데이터 확인하기(1)\n",
        "for (X_train, y_train) in train_loader:\n",
        "  print('X_train:', X_train.size( ), 'type:', X_train.type())\n",
        "  print('y_train:', y_train.size( ), 'type:', y_train.type())\n",
        "  break\n",
        "## X_train: torch. Size([32, 1, 28, 28]) type: torch.FloatTensor\n",
        "## y_train: torch. Size([32]) type: torch.LongTensor\n",
        "## X_train: 32개의 이미지 데이터가 1개의 Mini- Batch를 구성하고 있고 가로 28개, 세로 28개의 픽셀로 구성돼 있으며 채널이 1\n",
        "## y_train: 32개의 이미지 데이터 각각에 label값이 1개씩 존재하기 때문에 32개의 값을 갖고 있음"
      ],
      "metadata": {
        "colab": {
          "base_uri": "https://localhost:8080/"
        },
        "id": "ZXzAW3HXEqFE",
        "outputId": "d6708285-903d-4648-93f3-0d24076c3838"
      },
      "execution_count": 9,
      "outputs": [
        {
          "output_type": "stream",
          "name": "stdout",
          "text": [
            "X_train: torch.Size([32, 1, 28, 28]) type: torch.FloatTensor\n",
            "y_train: torch.Size([32]) type: torch.LongTensor\n"
          ]
        }
      ]
    },
    {
      "cell_type": "code",
      "source": [
        "## 5. 데이터 확인하기(2)\n",
        "pltsize = 1\n",
        "plt.figure(figsize=(10 * pltsize, pltsize))\n",
        "for i in range(10):\n",
        "  plt.subplot(1, 10, i + 1)\n",
        "  plt.axis ('off')\n",
        "  plt.imshow(X_train[i, :, :, :].numpy().reshape(28, 28), cmap = \"gray_r\")\n",
        "  plt.title('Class: ' + str(y_train[i].item()))"
      ],
      "metadata": {
        "colab": {
          "base_uri": "https://localhost:8080/",
          "height": 125
        },
        "id": "4mL5eRw4Ep9V",
        "outputId": "1cb49acc-1608-4cf6-81a6-311b03ef4d0e"
      },
      "execution_count": 10,
      "outputs": [
        {
          "output_type": "display_data",
          "data": {
            "text/plain": [
              "<Figure size 1000x100 with 10 Axes>"
            ],
            "image/png": "[encoded data removed]"
          },
          "metadata": {}
        }
      ]
    },
    {
      "cell_type": "code",
      "source": [
        "## 6. MLP(Multi Layer Perceptron) 모델 설계\n",
        "class Net(nn.Module):\n",
        "  def __init__(self):\n",
        "    super(Net, self).__init__()\n",
        "    self.fc1 = nn.Linear(28*28, 512)\n",
        "    self.fc2 = nn.Linear(512, 256)\n",
        "    self.fc3 = nn.Linear(256, 10)\n",
        "  def forward(self, x):\n",
        "    x = x.view(-1, 28 * 28)\n",
        "    x = self.fc1(x)\n",
        "    x = F.sigmoid(x)\n",
        "    x = self.fc2(x)\n",
        "    x = F.sigmoid(x)\n",
        "    x = self.fc3(x)\n",
        "    x = F. log_softmax(x, dim = 1)\n",
        "    return x\n"
      ],
      "metadata": {
        "id": "mc9DGPbFIslk"
      },
      "execution_count": 15,
      "outputs": []
    },
    {
      "cell_type": "code",
      "source": [
        "## 7. Optimizer, Objective Function 설정하기\n",
        "\n",
        "model = Net().to(DEVICE)\n",
        "optimizer = torch.optim.SGD(model.parameters(),lr=0.01, momentum =0.5)\n",
        "criterion = nn.CrossEntropyLoss()\n",
        "\n",
        "print(model)\n",
        "\n",
        "# Net (\n",
        "#    (fc1) Linear(in_features=784, out_features=512, bias=True)\n",
        "#    (fc2) Linear(in_features=512, out_features=256, bias=True)\n",
        "#    (fc3) Linear(in_features=256, out_features=10, bias=True)\n",
        "#)"
      ],
      "metadata": {
        "colab": {
          "base_uri": "https://localhost:8080/"
        },
        "id": "qVwJPdTJJn1P",
        "outputId": "db676943-b275-48a4-c7d1-eabe3475c67f"
      },
      "execution_count": 16,
      "outputs": [
        {
          "output_type": "stream",
          "name": "stdout",
          "text": [
            "Net(\n",
            "  (fc1): Linear(in_features=784, out_features=512, bias=True)\n",
            "  (fc2): Linear(in_features=512, out_features=256, bias=True)\n",
            "  (fc3): Linear(in_features=256, out_features=10, bias=True)\n",
            ")\n"
          ]
        }
      ]
    },
    {
      "cell_type": "code",
      "source": [
        "## 8. MLP 모델 학습을 진행하며 학습 데이터에 대한 모델 성능을 확인하는 함수 정의\n",
        "def train(model, train_loader, optimizer, log_interval):\n",
        "  model.train()\n",
        "  for batch_idx,(image, label) in enumerate(train_loader):\n",
        "    image = image.to(DEVICE)\n",
        "    label = label.to(DEVICE)\n",
        "    optimizer.zero_grad()\n",
        "    output = model(image)\n",
        "    loss = criterion(output, label)\n",
        "    loss. backward()\n",
        "    optimizer.step()\n",
        "\n",
        "    if batch_idx % log_interval == 0:\n",
        "      print(\"Train Epoch: {} [{}/{}({:.0f}%)]\\tTrain Loss: {:.6f}\".format(\n",
        "          Epoch, batch_idx * len(image), len(train_loader.dataset), 100. * batch_idx / len(train_loader),loss.item()))"
      ],
      "metadata": {
        "id": "h9r-uLuaKiu6"
      },
      "execution_count": 19,
      "outputs": []
    },
    {
      "cell_type": "code",
      "source": [
        "## 9. 학습되는 과정 속에서 검증 데이터에 대한 모델 성능을 확인하는 함수 정의\n",
        "def evaluate(model, test_loader):\n",
        "    model.eval()\n",
        "    test_loss = 0\n",
        "    correct =0\n",
        "\n",
        "    with torch.no_grad():\n",
        "      for image, label in test_loader:\n",
        "          image = image.to(DEVICE)\n",
        "          label = label.to(DEVICE)\n",
        "          output = model(image)\n",
        "          test_loss += criterion(output, label).item()\n",
        "          prediction = output.max(1, keepdim = True)[1]\n",
        "          correct += prediction.eq(label.view_as(prediction)).sum().item()\n",
        "    test_loss/= len(test_loader.dataset)\n",
        "    test_accuracy = 100. * correct / len(test_loader.dataset)\n",
        "    return test_loss, test_accuracy\n"
      ],
      "metadata": {
        "id": "9v_lxwjcMI_x"
      },
      "execution_count": 20,
      "outputs": []
    },
    {
      "cell_type": "code",
      "source": [
        "## 10. . MLP 학습을 실행하면서 Train , Testvset의 Loss 및 Test set Accuracy를 확인\n",
        "for Epoch in range(1,EPOCHS + 1):\n",
        "    train(model, train_loader, optimizer, log_interval = 200)\n",
        "    test_loss, test_accuracy = evaluate(model, test_loader)\n",
        "    print(\"\\n[EPOCH: {}], \\tTest Loss: {:.4f}, \\tTest Accuracy: {:.2f} %\\n\".\n",
        "    format(Epoch, test_loss, test_accuracy))\n"
      ],
      "metadata": {
        "colab": {
          "base_uri": "https://localhost:8080/"
        },
        "id": "CZt1n_7CNMIA",
        "outputId": "49f1a177-7ab7-4159-dc64-e6f93381988a"
      },
      "execution_count": 22,
      "outputs": [
        {
          "output_type": "stream",
          "name": "stdout",
          "text": [
            "Train Epoch: 1 [0/60000(0%)]\tTrain Loss: 2.328904\n",
            "Train Epoch: 1 [6400/60000(11%)]\tTrain Loss: 2.336125\n",
            "Train Epoch: 1 [12800/60000(21%)]\tTrain Loss: 2.321580\n",
            "Train Epoch: 1 [19200/60000(32%)]\tTrain Loss: 2.295601\n",
            "Train Epoch: 1 [25600/60000(43%)]\tTrain Loss: 2.317040\n",
            "Train Epoch: 1 [32000/60000(53%)]\tTrain Loss: 2.275945\n",
            "Train Epoch: 1 [38400/60000(64%)]\tTrain Loss: 2.258958\n",
            "Train Epoch: 1 [44800/60000(75%)]\tTrain Loss: 2.270050\n",
            "Train Epoch: 1 [51200/60000(85%)]\tTrain Loss: 2.275874\n",
            "Train Epoch: 1 [57600/60000(96%)]\tTrain Loss: 2.243929\n",
            "\n",
            "[EPOCH: 1], \tTest Loss: 0.0697, \tTest Accuracy: 29.64 %\n",
            "\n",
            "Train Epoch: 2 [0/60000(0%)]\tTrain Loss: 2.209803\n",
            "Train Epoch: 2 [6400/60000(11%)]\tTrain Loss: 2.233453\n",
            "Train Epoch: 2 [12800/60000(21%)]\tTrain Loss: 2.241060\n",
            "Train Epoch: 2 [19200/60000(32%)]\tTrain Loss: 2.107970\n",
            "Train Epoch: 2 [25600/60000(43%)]\tTrain Loss: 1.836896\n",
            "Train Epoch: 2 [32000/60000(53%)]\tTrain Loss: 1.902797\n",
            "Train Epoch: 2 [38400/60000(64%)]\tTrain Loss: 1.669516\n",
            "Train Epoch: 2 [44800/60000(75%)]\tTrain Loss: 1.596282\n",
            "Train Epoch: 2 [51200/60000(85%)]\tTrain Loss: 1.557480\n",
            "Train Epoch: 2 [57600/60000(96%)]\tTrain Loss: 1.402264\n",
            "\n",
            "[EPOCH: 2], \tTest Loss: 0.0408, \tTest Accuracy: 57.15 %\n",
            "\n",
            "Train Epoch: 3 [0/60000(0%)]\tTrain Loss: 1.303588\n",
            "Train Epoch: 3 [6400/60000(11%)]\tTrain Loss: 1.324470\n",
            "Train Epoch: 3 [12800/60000(21%)]\tTrain Loss: 1.160858\n",
            "Train Epoch: 3 [19200/60000(32%)]\tTrain Loss: 0.748176\n",
            "Train Epoch: 3 [25600/60000(43%)]\tTrain Loss: 0.831127\n",
            "Train Epoch: 3 [32000/60000(53%)]\tTrain Loss: 1.012117\n",
            "Train Epoch: 3 [38400/60000(64%)]\tTrain Loss: 0.902541\n",
            "Train Epoch: 3 [44800/60000(75%)]\tTrain Loss: 0.805502\n",
            "Train Epoch: 3 [51200/60000(85%)]\tTrain Loss: 0.858793\n",
            "Train Epoch: 3 [57600/60000(96%)]\tTrain Loss: 0.878137\n",
            "\n",
            "[EPOCH: 3], \tTest Loss: 0.0236, \tTest Accuracy: 77.76 %\n",
            "\n",
            "Train Epoch: 4 [0/60000(0%)]\tTrain Loss: 0.762491\n",
            "Train Epoch: 4 [6400/60000(11%)]\tTrain Loss: 0.782481\n",
            "Train Epoch: 4 [12800/60000(21%)]\tTrain Loss: 0.675223\n",
            "Train Epoch: 4 [19200/60000(32%)]\tTrain Loss: 0.890582\n",
            "Train Epoch: 4 [25600/60000(43%)]\tTrain Loss: 0.591137\n",
            "Train Epoch: 4 [32000/60000(53%)]\tTrain Loss: 0.548935\n",
            "Train Epoch: 4 [38400/60000(64%)]\tTrain Loss: 0.457116\n",
            "Train Epoch: 4 [44800/60000(75%)]\tTrain Loss: 0.926976\n",
            "Train Epoch: 4 [51200/60000(85%)]\tTrain Loss: 0.463861\n",
            "Train Epoch: 4 [57600/60000(96%)]\tTrain Loss: 0.440063\n",
            "\n",
            "[EPOCH: 4], \tTest Loss: 0.0173, \tTest Accuracy: 83.94 %\n",
            "\n",
            "Train Epoch: 5 [0/60000(0%)]\tTrain Loss: 0.496814\n",
            "Train Epoch: 5 [6400/60000(11%)]\tTrain Loss: 0.512070\n",
            "Train Epoch: 5 [12800/60000(21%)]\tTrain Loss: 0.425068\n",
            "Train Epoch: 5 [19200/60000(32%)]\tTrain Loss: 0.518455\n",
            "Train Epoch: 5 [25600/60000(43%)]\tTrain Loss: 0.565406\n",
            "Train Epoch: 5 [32000/60000(53%)]\tTrain Loss: 0.456558\n",
            "Train Epoch: 5 [38400/60000(64%)]\tTrain Loss: 0.678866\n",
            "Train Epoch: 5 [44800/60000(75%)]\tTrain Loss: 0.509807\n",
            "Train Epoch: 5 [51200/60000(85%)]\tTrain Loss: 0.479073\n",
            "Train Epoch: 5 [57600/60000(96%)]\tTrain Loss: 0.398687\n",
            "\n",
            "[EPOCH: 5], \tTest Loss: 0.0143, \tTest Accuracy: 86.87 %\n",
            "\n",
            "Train Epoch: 6 [0/60000(0%)]\tTrain Loss: 0.413137\n",
            "Train Epoch: 6 [6400/60000(11%)]\tTrain Loss: 0.515992\n",
            "Train Epoch: 6 [12800/60000(21%)]\tTrain Loss: 0.485758\n",
            "Train Epoch: 6 [19200/60000(32%)]\tTrain Loss: 0.605096\n",
            "Train Epoch: 6 [25600/60000(43%)]\tTrain Loss: 0.540350\n",
            "Train Epoch: 6 [32000/60000(53%)]\tTrain Loss: 0.396074\n",
            "Train Epoch: 6 [38400/60000(64%)]\tTrain Loss: 0.722348\n",
            "Train Epoch: 6 [44800/60000(75%)]\tTrain Loss: 0.489763\n",
            "Train Epoch: 6 [51200/60000(85%)]\tTrain Loss: 0.380173\n",
            "Train Epoch: 6 [57600/60000(96%)]\tTrain Loss: 0.542837\n",
            "\n",
            "[EPOCH: 6], \tTest Loss: 0.0126, \tTest Accuracy: 88.44 %\n",
            "\n",
            "Train Epoch: 7 [0/60000(0%)]\tTrain Loss: 0.412767\n",
            "Train Epoch: 7 [6400/60000(11%)]\tTrain Loss: 0.404434\n",
            "Train Epoch: 7 [12800/60000(21%)]\tTrain Loss: 0.309166\n",
            "Train Epoch: 7 [19200/60000(32%)]\tTrain Loss: 0.229440\n",
            "Train Epoch: 7 [25600/60000(43%)]\tTrain Loss: 0.402763\n",
            "Train Epoch: 7 [32000/60000(53%)]\tTrain Loss: 0.394790\n",
            "Train Epoch: 7 [38400/60000(64%)]\tTrain Loss: 0.296850\n",
            "Train Epoch: 7 [44800/60000(75%)]\tTrain Loss: 0.526657\n",
            "Train Epoch: 7 [51200/60000(85%)]\tTrain Loss: 0.132459\n",
            "Train Epoch: 7 [57600/60000(96%)]\tTrain Loss: 0.548472\n",
            "\n",
            "[EPOCH: 7], \tTest Loss: 0.0118, \tTest Accuracy: 89.08 %\n",
            "\n",
            "Train Epoch: 8 [0/60000(0%)]\tTrain Loss: 0.176432\n",
            "Train Epoch: 8 [6400/60000(11%)]\tTrain Loss: 0.362649\n",
            "Train Epoch: 8 [12800/60000(21%)]\tTrain Loss: 0.359440\n",
            "Train Epoch: 8 [19200/60000(32%)]\tTrain Loss: 0.185683\n",
            "Train Epoch: 8 [25600/60000(43%)]\tTrain Loss: 0.132324\n",
            "Train Epoch: 8 [32000/60000(53%)]\tTrain Loss: 0.614999\n",
            "Train Epoch: 8 [38400/60000(64%)]\tTrain Loss: 0.304089\n",
            "Train Epoch: 8 [44800/60000(75%)]\tTrain Loss: 0.531248\n",
            "Train Epoch: 8 [51200/60000(85%)]\tTrain Loss: 0.271844\n",
            "Train Epoch: 8 [57600/60000(96%)]\tTrain Loss: 0.319297\n",
            "\n",
            "[EPOCH: 8], \tTest Loss: 0.0112, \tTest Accuracy: 89.54 %\n",
            "\n",
            "Train Epoch: 9 [0/60000(0%)]\tTrain Loss: 0.586502\n",
            "Train Epoch: 9 [6400/60000(11%)]\tTrain Loss: 0.362225\n",
            "Train Epoch: 9 [12800/60000(21%)]\tTrain Loss: 0.736509\n",
            "Train Epoch: 9 [19200/60000(32%)]\tTrain Loss: 0.644449\n",
            "Train Epoch: 9 [25600/60000(43%)]\tTrain Loss: 0.153352\n",
            "Train Epoch: 9 [32000/60000(53%)]\tTrain Loss: 0.339943\n",
            "Train Epoch: 9 [38400/60000(64%)]\tTrain Loss: 0.390659\n",
            "Train Epoch: 9 [44800/60000(75%)]\tTrain Loss: 0.534801\n",
            "Train Epoch: 9 [51200/60000(85%)]\tTrain Loss: 0.469899\n",
            "Train Epoch: 9 [57600/60000(96%)]\tTrain Loss: 0.648513\n",
            "\n",
            "[EPOCH: 9], \tTest Loss: 0.0108, \tTest Accuracy: 90.03 %\n",
            "\n",
            "Train Epoch: 10 [0/60000(0%)]\tTrain Loss: 0.287617\n",
            "Train Epoch: 10 [6400/60000(11%)]\tTrain Loss: 0.292728\n",
            "Train Epoch: 10 [12800/60000(21%)]\tTrain Loss: 0.367173\n",
            "Train Epoch: 10 [19200/60000(32%)]\tTrain Loss: 0.326004\n",
            "Train Epoch: 10 [25600/60000(43%)]\tTrain Loss: 0.589297\n",
            "Train Epoch: 10 [32000/60000(53%)]\tTrain Loss: 0.111286\n",
            "Train Epoch: 10 [38400/60000(64%)]\tTrain Loss: 0.419564\n",
            "Train Epoch: 10 [44800/60000(75%)]\tTrain Loss: 0.336728\n",
            "Train Epoch: 10 [51200/60000(85%)]\tTrain Loss: 0.188626\n",
            "Train Epoch: 10 [57600/60000(96%)]\tTrain Loss: 0.320874\n",
            "\n",
            "[EPOCH: 10], \tTest Loss: 0.0106, \tTest Accuracy: 89.94 %\n",
            "\n"
          ]
        }
      ]
    },
    {
      "cell_type": "markdown",
      "source": [
        "학습이 완료됐을때, test_loader 내에 존재하는 데이터의 약 90% 수준의 정확도를 나타내는것 을 확인할 수 있습니다.\n",
        "\n",
        "```\n",
        "# 코드로 형식 지정됨\n",
        "```\n",
        "\n"
      ],
      "metadata": {
        "id": "t_DleV9vRwtp"
      }
    }
  ]
}