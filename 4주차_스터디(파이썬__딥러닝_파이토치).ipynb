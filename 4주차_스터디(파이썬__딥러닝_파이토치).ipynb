{
  "cells": [
    {
      "cell_type": "markdown",
      "metadata": {
        "id": "view-in-github",
        "colab_type": "text"
      },
      "source": [
        "<a href=\"https://colab.research.google.com/github/smjason0502/python-deep-learning-pytorch/blob/main/4%EC%A3%BC%EC%B0%A8_%EC%8A%A4%ED%84%B0%EB%94%94(%ED%8C%8C%EC%9D%B4%EC%8D%AC__%EB%94%A5%EB%9F%AC%EB%8B%9D_%ED%8C%8C%EC%9D%B4%ED%86%A0%EC%B9%98).ipynb\" target=\"_parent\"><img src=\"https://colab.research.google.com/assets/colab-badge.svg\" alt=\"Open In Colab\"/></a>"
      ]
    },
    {
      "cell_type": "markdown",
      "metadata": {
        "id": "hbnZCicoDhgf"
      },
      "source": [
        "# [예제 4-1] CIFAR-10 데이터 이용해 Multi Layer Perceptron(MLP) 설계하기"
      ]
    },
    {
      "cell_type": "code",
      "execution_count": null,
      "metadata": {
        "id": "UtjCcUrPDu3D"
      },
      "outputs": [],
      "source": [
        "# 1. module import\n",
        "import numpy as np\n",
        "import matplotlib.pyplot as plt\n",
        "\n",
        "import torch\n",
        "import torch.nn as nn\n",
        "import torch.nn.functional as F\n",
        "from torchvision import transforms, datasets"
      ]
    },
    {
      "cell_type": "code",
      "execution_count": null,
      "metadata": {
        "colab": {
          "base_uri": "https://localhost:8080/"
        },
        "id": "A5fJXzveGZJR",
        "outputId": "b95e76ad-919a-44d5-b8b6-d90f4e4fd6e2"
      },
      "outputs": [
        {
          "name": "stdout",
          "output_type": "stream",
          "text": [
            "Using PyTorch version: 2.4.1+cu121 Device: cpu\n"
          ]
        }
      ],
      "source": [
        "# 2. 딥러닝 모델 설계 시 활용 장비 확인\n",
        "if torch.cuda.is_available():\n",
        "  DEVICE = torch.device('cuda')\n",
        "else:\n",
        "  DEVICE = torch.device('cpu')\n",
        "\n",
        "print('Using PyTorch version:', torch.__version__, 'Device:', DEVICE)\n",
        "# Using PyTorch version: 1.5.0+cu101 Device: cuda"
      ]
    },
    {
      "cell_type": "code",
      "execution_count": null,
      "metadata": {
        "id": "55Kqkf6oG3JI"
      },
      "outputs": [],
      "source": [
        "BATCH_SIZE = 32\n",
        "EPOCHS = 10"
      ]
    },
    {
      "cell_type": "code",
      "execution_count": null,
      "metadata": {
        "colab": {
          "base_uri": "https://localhost:8080/"
        },
        "id": "zxDoLb10G6Zp",
        "outputId": "2b6d6c1c-3461-4f0a-af2c-20af570c844a"
      },
      "outputs": [
        {
          "name": "stdout",
          "output_type": "stream",
          "text": [
            "Downloading https://www.cs.toronto.edu/~kriz/cifar-10-python.tar.gz to ../data/CIFAR_10/cifar-10-python.tar.gz\n"
          ]
        },
        {
          "name": "stderr",
          "output_type": "stream",
          "text": [
            "100%|██████████| 170498071/170498071 [00:10<00:00, 16024547.28it/s]\n"
          ]
        },
        {
          "name": "stdout",
          "output_type": "stream",
          "text": [
            "Extracting ../data/CIFAR_10/cifar-10-python.tar.gz to ../data/CIFAR_10\n"
          ]
        }
      ],
      "source": [
        "#3. CIFAR10 데이터 다운로드(Train set, Test set 분리)\n",
        "train_dataset = datasets.CIFAR10(root = \"../data/CIFAR_10\",\n",
        "                               train = True,\n",
        "                               download = True,\n",
        "                               transform = transforms.ToTensor())\n",
        "test_dataset = datasets.CIFAR10(root = \"../data/CIFAR_10\",\n",
        "                               train = False,\n",
        "                               transform = transforms.ToTensor())\n",
        "\n",
        "train_loader = torch.utils.data.DataLoader(dataset = train_dataset,\n",
        "                                           batch_size = BATCH_SIZE,\n",
        "                                           shuffle = True)\n",
        "test_loader = torch.utils.data.DataLoader(dataset = test_dataset,\n",
        "                                          batch_size = BATCH_SIZE,\n",
        "                                          shuffle = False)"
      ]
    },
    {
      "cell_type": "code",
      "execution_count": null,
      "metadata": {
        "colab": {
          "base_uri": "https://localhost:8080/"
        },
        "id": "sa73rIbzHXoj",
        "outputId": "2f763bb0-4d70-4ef2-e235-11b311144497"
      },
      "outputs": [
        {
          "name": "stdout",
          "output_type": "stream",
          "text": [
            "X_train: torch.Size([32, 3, 32, 32]) type: torch.FloatTensor\n",
            "y_train: torch.Size([32]) type: torch.LongTensor\n"
          ]
        }
      ],
      "source": [
        "#4. 데이터 확인(1)\n",
        "for (X_train, y_train) in train_loader:\n",
        "  print('X_train:', X_train.size( ), 'type:', X_train.type())\n",
        "  print('y_train:', y_train.size( ), 'type:', y_train.type())\n",
        "  break\n",
        "\n",
        "## X_train: torch. Size([32, 3, 32, 32]) type: torch.FloatTensor\n",
        "## y_train: torch. Size([32]) type: torch.LongTensor"
      ]
    },
    {
      "cell_type": "code",
      "execution_count": null,
      "metadata": {
        "colab": {
          "base_uri": "https://localhost:8080/",
          "height": 125
        },
        "id": "xNuVBPG-HiXn",
        "outputId": "afbb7d72-9ab0-49a4-814d-d72213f92455"
      },
      "outputs": [
        {
          "data": {
            "image/png": "[encoded data removed]",
            "text/plain": [
              "<Figure size 1000x100 with 10 Axes>"
            ]
          },
          "metadata": {},
          "output_type": "display_data"
        }
      ],
      "source": [
        "# 5. 데이터 확인하기(2)\n",
        "pltsize = 1\n",
        "plt.figure(figsize=(10 * pltsize, pltsize))\n",
        "\n",
        "for i in range(10):\n",
        "  plt.subplot(1, 10, i + 1)\n",
        "  plt.axis ('off')\n",
        "  plt.imshow(np.transpose(X_train[i],(1,2,0)))\n",
        "  plt.title('Class: ' + str(y_train[i].item()))"
      ]
    },
    {
      "cell_type": "code",
      "execution_count": null,
      "metadata": {
        "id": "9GnOF6jDHwMy"
      },
      "outputs": [],
      "source": [
        "# 6. MLP(Multi Layer Perceptron) 모델 설계\n",
        "\n",
        "class Net(nn.Module):\n",
        "  def __init__(self):\n",
        "    super(Net, self).__init__()\n",
        "    self.fc1 = nn.Linear(32*32*3, 512)\n",
        "    self.fc2 = nn.Linear(512, 256)\n",
        "    self.fc3 = nn.Linear(256, 10)\n",
        "\n",
        "  def forward(self, x):\n",
        "    x = x.view(-1, 32 * 32 * 3)\n",
        "    x = self.fc1(x)\n",
        "    x = F.relu(x)\n",
        "\n",
        "    x = self.fc2(x)\n",
        "    x = F.relu(x)\n",
        "\n",
        "    x = self.fc3(x)\n",
        "    x = F.log_softmax(x, dim=1)\n",
        "    return x"
      ]
    },
    {
      "cell_type": "code",
      "execution_count": null,
      "metadata": {
        "colab": {
          "base_uri": "https://localhost:8080/"
        },
        "id": "MZDvm-WdITP1",
        "outputId": "fca6c01e-ba8d-47a7-b310-bb3f419efbad"
      },
      "outputs": [
        {
          "name": "stdout",
          "output_type": "stream",
          "text": [
            "Net(\n",
            "  (fc1): Linear(in_features=3072, out_features=512, bias=True)\n",
            "  (fc2): Linear(in_features=512, out_features=256, bias=True)\n",
            "  (fc3): Linear(in_features=256, out_features=10, bias=True)\n",
            ")\n"
          ]
        }
      ],
      "source": [
        "# 7. Optimizer, Objective Function 설정하기\n",
        "\n",
        "model = Net().to(DEVICE)\n",
        "optimizer = torch.optim.Adam(model.parameters(),lr=0.001)\n",
        "criterion = nn.CrossEntropyLoss()\n",
        "\n",
        "print(model)\n",
        "\n",
        "# Net (\n",
        "#    (fc1) Linear(in_features=784, out_features=512, bias=True)\n",
        "#    (fc2) Linear(in_features=512, out_features=256, bias=True)\n",
        "#    (fc3) Linear(in_features=256, out_features=10, bias=True)\n",
        "# )\n"
      ]
    },
    {
      "cell_type": "code",
      "execution_count": null,
      "metadata": {
        "id": "D9PzHWRyIigr"
      },
      "outputs": [],
      "source": [
        "# 8. MLP 모델 학습을 진행하며 학습 데이터에 대한 모델 성능을 확인하는 함수 정의\n",
        "def train(model, train_loader, optimizer, log_interval):\n",
        "  model.train()\n",
        "  for batch_idx,(image, label) in enumerate(train_loader):\n",
        "    image = image.to(DEVICE)\n",
        "    label = label.to(DEVICE)\n",
        "    optimizer.zero_grad()\n",
        "    output = model(image)\n",
        "    loss = criterion(output, label)\n",
        "    loss.backward()\n",
        "    optimizer.step()\n",
        "\n",
        "    if batch_idx % log_interval == 0:\n",
        "      print(\"Train Epoch: {} [{}/{}({:.0f}%)]\\tTrain Loss: {:.6f}\".format(\n",
        "          Epoch, batch_idx * len(image),\n",
        "          len(train_loader.dataset), 100. * batch_idx / len(train_loader),\n",
        "          loss.item()))"
      ]
    },
    {
      "cell_type": "code",
      "execution_count": null,
      "metadata": {
        "id": "VvIjJiMCJOZH"
      },
      "outputs": [],
      "source": [
        "\n",
        "# 9. 학습되는 과정 속에서 검증 데이터에 대한 모델 성능을 확인하는 함수 정의\n",
        "def evaluate(model, test_loader):\n",
        "    model.eval()\n",
        "    test_loss = 0\n",
        "    correct =0\n",
        "\n",
        "    with torch.no_grad():\n",
        "      for image, label in test_loader:\n",
        "          image = image.to(DEVICE)\n",
        "          label = label.to(DEVICE)\n",
        "          output = model(image)\n",
        "          test_loss += criterion(output, label).item()\n",
        "          prediction = output.max(1, keepdim = True)[1]\n",
        "          correct += prediction.eq(label.view_as(prediction)).sum().item()\n",
        "    test_loss /= len(test_loader.dataset)\n",
        "    test_accuracy = 100. * correct / len(test_loader.dataset)\n",
        "    return test_loss, test_accuracy\n"
      ]
    },
    {
      "cell_type": "code",
      "execution_count": null,
      "metadata": {
        "colab": {
          "base_uri": "https://localhost:8080/"
        },
        "id": "R8HCS7BgJa05",
        "outputId": "41cf01e0-f00a-40b3-f943-32fda902041b"
      },
      "outputs": [
        {
          "name": "stdout",
          "output_type": "stream",
          "text": [
            "Train Epoch: 1 [0/50000(0%)]\tTrain Loss: 2.305684\n",
            "Train Epoch: 1 [6400/50000(13%)]\tTrain Loss: 1.940948\n",
            "Train Epoch: 1 [12800/50000(26%)]\tTrain Loss: 2.225945\n",
            "Train Epoch: 1 [19200/50000(38%)]\tTrain Loss: 1.602637\n",
            "Train Epoch: 1 [25600/50000(51%)]\tTrain Loss: 1.560904\n",
            "Train Epoch: 1 [32000/50000(64%)]\tTrain Loss: 1.859074\n",
            "Train Epoch: 1 [38400/50000(77%)]\tTrain Loss: 1.536332\n",
            "Train Epoch: 1 [44800/50000(90%)]\tTrain Loss: 1.675193\n",
            "\n",
            "[EPOCH: 1], \tTest Loss: 0.0531, \tTest Accuracy: 38.43 %\n",
            "\n",
            "Train Epoch: 2 [0/50000(0%)]\tTrain Loss: 1.758455\n",
            "Train Epoch: 2 [6400/50000(13%)]\tTrain Loss: 1.637225\n",
            "Train Epoch: 2 [12800/50000(26%)]\tTrain Loss: 1.554496\n",
            "Train Epoch: 2 [19200/50000(38%)]\tTrain Loss: 1.921081\n",
            "Train Epoch: 2 [25600/50000(51%)]\tTrain Loss: 1.977284\n",
            "Train Epoch: 2 [32000/50000(64%)]\tTrain Loss: 1.701655\n",
            "Train Epoch: 2 [38400/50000(77%)]\tTrain Loss: 1.404687\n",
            "Train Epoch: 2 [44800/50000(90%)]\tTrain Loss: 1.513639\n",
            "\n",
            "[EPOCH: 2], \tTest Loss: 0.0500, \tTest Accuracy: 43.27 %\n",
            "\n",
            "Train Epoch: 3 [0/50000(0%)]\tTrain Loss: 1.864862\n",
            "Train Epoch: 3 [6400/50000(13%)]\tTrain Loss: 1.508369\n",
            "Train Epoch: 3 [12800/50000(26%)]\tTrain Loss: 1.763513\n",
            "Train Epoch: 3 [19200/50000(38%)]\tTrain Loss: 1.607058\n",
            "Train Epoch: 3 [25600/50000(51%)]\tTrain Loss: 1.474398\n",
            "Train Epoch: 3 [32000/50000(64%)]\tTrain Loss: 1.888900\n",
            "Train Epoch: 3 [38400/50000(77%)]\tTrain Loss: 1.516754\n",
            "Train Epoch: 3 [44800/50000(90%)]\tTrain Loss: 1.337378\n",
            "\n",
            "[EPOCH: 3], \tTest Loss: 0.0482, \tTest Accuracy: 44.82 %\n",
            "\n",
            "Train Epoch: 4 [0/50000(0%)]\tTrain Loss: 1.799442\n",
            "Train Epoch: 4 [6400/50000(13%)]\tTrain Loss: 1.571054\n",
            "Train Epoch: 4 [12800/50000(26%)]\tTrain Loss: 1.650561\n",
            "Train Epoch: 4 [19200/50000(38%)]\tTrain Loss: 1.357193\n",
            "Train Epoch: 4 [25600/50000(51%)]\tTrain Loss: 1.237044\n",
            "Train Epoch: 4 [32000/50000(64%)]\tTrain Loss: 1.465170\n",
            "Train Epoch: 4 [38400/50000(77%)]\tTrain Loss: 1.912945\n",
            "Train Epoch: 4 [44800/50000(90%)]\tTrain Loss: 1.275582\n",
            "\n",
            "[EPOCH: 4], \tTest Loss: 0.0469, \tTest Accuracy: 45.61 %\n",
            "\n",
            "Train Epoch: 5 [0/50000(0%)]\tTrain Loss: 1.463584\n",
            "Train Epoch: 5 [6400/50000(13%)]\tTrain Loss: 1.159808\n",
            "Train Epoch: 5 [12800/50000(26%)]\tTrain Loss: 1.511838\n",
            "Train Epoch: 5 [19200/50000(38%)]\tTrain Loss: 1.256351\n",
            "Train Epoch: 5 [25600/50000(51%)]\tTrain Loss: 1.385442\n",
            "Train Epoch: 5 [32000/50000(64%)]\tTrain Loss: 1.462934\n",
            "Train Epoch: 5 [38400/50000(77%)]\tTrain Loss: 1.461128\n",
            "Train Epoch: 5 [44800/50000(90%)]\tTrain Loss: 1.441370\n",
            "\n",
            "[EPOCH: 5], \tTest Loss: 0.0464, \tTest Accuracy: 47.53 %\n",
            "\n",
            "Train Epoch: 6 [0/50000(0%)]\tTrain Loss: 1.537437\n",
            "Train Epoch: 6 [6400/50000(13%)]\tTrain Loss: 1.468979\n",
            "Train Epoch: 6 [12800/50000(26%)]\tTrain Loss: 1.628255\n",
            "Train Epoch: 6 [19200/50000(38%)]\tTrain Loss: 1.487849\n",
            "Train Epoch: 6 [25600/50000(51%)]\tTrain Loss: 1.292006\n",
            "Train Epoch: 6 [32000/50000(64%)]\tTrain Loss: 1.902542\n",
            "Train Epoch: 6 [38400/50000(77%)]\tTrain Loss: 1.860186\n",
            "Train Epoch: 6 [44800/50000(90%)]\tTrain Loss: 1.538923\n",
            "\n",
            "[EPOCH: 6], \tTest Loss: 0.0470, \tTest Accuracy: 46.42 %\n",
            "\n",
            "Train Epoch: 7 [0/50000(0%)]\tTrain Loss: 1.124056\n",
            "Train Epoch: 7 [6400/50000(13%)]\tTrain Loss: 1.391768\n",
            "Train Epoch: 7 [12800/50000(26%)]\tTrain Loss: 1.123325\n",
            "Train Epoch: 7 [19200/50000(38%)]\tTrain Loss: 0.997638\n",
            "Train Epoch: 7 [25600/50000(51%)]\tTrain Loss: 1.599125\n",
            "Train Epoch: 7 [32000/50000(64%)]\tTrain Loss: 1.598221\n",
            "Train Epoch: 7 [38400/50000(77%)]\tTrain Loss: 1.648230\n",
            "Train Epoch: 7 [44800/50000(90%)]\tTrain Loss: 1.355329\n",
            "\n",
            "[EPOCH: 7], \tTest Loss: 0.0455, \tTest Accuracy: 48.44 %\n",
            "\n",
            "Train Epoch: 8 [0/50000(0%)]\tTrain Loss: 1.386876\n",
            "Train Epoch: 8 [6400/50000(13%)]\tTrain Loss: 1.411848\n",
            "Train Epoch: 8 [12800/50000(26%)]\tTrain Loss: 1.427154\n",
            "Train Epoch: 8 [19200/50000(38%)]\tTrain Loss: 1.579569\n",
            "Train Epoch: 8 [25600/50000(51%)]\tTrain Loss: 1.468142\n",
            "Train Epoch: 8 [32000/50000(64%)]\tTrain Loss: 1.170021\n",
            "Train Epoch: 8 [38400/50000(77%)]\tTrain Loss: 1.185476\n",
            "Train Epoch: 8 [44800/50000(90%)]\tTrain Loss: 1.187965\n",
            "\n",
            "[EPOCH: 8], \tTest Loss: 0.0472, \tTest Accuracy: 47.08 %\n",
            "\n",
            "Train Epoch: 9 [0/50000(0%)]\tTrain Loss: 1.589737\n",
            "Train Epoch: 9 [6400/50000(13%)]\tTrain Loss: 1.110832\n",
            "Train Epoch: 9 [12800/50000(26%)]\tTrain Loss: 1.428480\n",
            "Train Epoch: 9 [19200/50000(38%)]\tTrain Loss: 1.453413\n",
            "Train Epoch: 9 [25600/50000(51%)]\tTrain Loss: 1.543536\n",
            "Train Epoch: 9 [32000/50000(64%)]\tTrain Loss: 1.195759\n",
            "Train Epoch: 9 [38400/50000(77%)]\tTrain Loss: 1.363857\n",
            "Train Epoch: 9 [44800/50000(90%)]\tTrain Loss: 1.071757\n",
            "\n",
            "[EPOCH: 9], \tTest Loss: 0.0452, \tTest Accuracy: 49.18 %\n",
            "\n",
            "Train Epoch: 10 [0/50000(0%)]\tTrain Loss: 1.456736\n",
            "Train Epoch: 10 [6400/50000(13%)]\tTrain Loss: 1.513945\n",
            "Train Epoch: 10 [12800/50000(26%)]\tTrain Loss: 1.767924\n",
            "Train Epoch: 10 [19200/50000(38%)]\tTrain Loss: 1.382594\n",
            "Train Epoch: 10 [25600/50000(51%)]\tTrain Loss: 1.060764\n",
            "Train Epoch: 10 [32000/50000(64%)]\tTrain Loss: 1.530363\n",
            "Train Epoch: 10 [38400/50000(77%)]\tTrain Loss: 1.578681\n",
            "Train Epoch: 10 [44800/50000(90%)]\tTrain Loss: 1.070684\n",
            "\n",
            "[EPOCH: 10], \tTest Loss: 0.0445, \tTest Accuracy: 48.95 %\n",
            "\n"
          ]
        }
      ],
      "source": [
        "# 10. MLP 학습을 실행하며 Train , Test set의 Loss 및 Test set Accuracy를 확인\n",
        "for Epoch in range(1, EPOCHS + 1):\n",
        "    train(model, train_loader, optimizer, log_interval = 200)\n",
        "    test_loss, test_accuracy = evaluate(model, test_loader)\n",
        "    print(\"\\n[EPOCH: {}], \\tTest Loss: {:.4f}, \\tTest Accuracy: {:.2f} %\\n\".\n",
        "          format(Epoch, test_loss, test_accuracy))"
      ]
    },
    {
      "cell_type": "markdown",
      "metadata": {
        "id": "Qm-fD8ifMFIh"
      },
      "source": [
        "#[예제4-2] CIFAR-10 데이터를 이용해 Convolutional Neural Network(CNN)설계하기\n"
      ]
    },
    {
      "cell_type": "code",
      "execution_count": null,
      "metadata": {
        "id": "jeAwO7ddjCsu"
      },
      "outputs": [],
      "source": [
        "# 1. module import\n",
        "import numpy as np\n",
        "import matplotlib.pyplot as plt\n",
        "\n",
        "import torch\n",
        "import torch.nn as nn\n",
        "import torch.nn.functional as F\n",
        "from torchvision import transforms, datasets"
      ]
    },
    {
      "cell_type": "code",
      "execution_count": null,
      "metadata": {
        "colab": {
          "base_uri": "https://localhost:8080/"
        },
        "id": "PElatmBFjCl0",
        "outputId": "aeab9f8b-e20a-496b-cca2-4c20e15224b0"
      },
      "outputs": [
        {
          "name": "stdout",
          "output_type": "stream",
          "text": [
            "Using PyTorch version: 2.4.1+cu121 Device: cpu\n"
          ]
        }
      ],
      "source": [
        "# 2. 딥러닝 모델 설계 시 활용 장비 확인\n",
        "if torch.cuda.is_available():\n",
        "  DEVICE = torch.device('cuda')\n",
        "else:\n",
        "  DEVICE = torch.device('cpu')\n",
        "\n",
        "print('Using PyTorch version:', torch.__version__, 'Device:', DEVICE)\n",
        "# Using PyTorch version: 1.5.0+cu101 Device: cuda"
      ]
    },
    {
      "cell_type": "code",
      "execution_count": null,
      "metadata": {
        "id": "Fnv0Au8XjCjY"
      },
      "outputs": [],
      "source": [
        "BATCH_SIZE = 32\n",
        "EPOCHS = 10"
      ]
    },
    {
      "cell_type": "code",
      "execution_count": null,
      "metadata": {
        "colab": {
          "base_uri": "https://localhost:8080/"
        },
        "id": "yjSeT2L7jCgW",
        "outputId": "e1af84c8-1609-433d-9926-04b43a4281f7"
      },
      "outputs": [
        {
          "name": "stdout",
          "output_type": "stream",
          "text": [
            "Files already downloaded and verified\n"
          ]
        }
      ],
      "source": [
        "#3. CIFAR10 데이터 다운로드(Train set, Test set 분리)\n",
        "train_dataset = datasets.CIFAR10(root = \"../data/CIFAR_10\",\n",
        "                               train = True,\n",
        "                               download = True,\n",
        "                               transform = transforms.ToTensor())\n",
        "test_dataset = datasets.CIFAR10(root = \"../data/CIFAR_10\",\n",
        "                               train = False,\n",
        "                               transform = transforms.ToTensor())\n",
        "\n",
        "train_loader = torch.utils.data.DataLoader(dataset = train_dataset,\n",
        "                                           batch_size = BATCH_SIZE,\n",
        "                                           shuffle = True)\n",
        "test_loader = torch.utils.data.DataLoader(dataset = test_dataset,\n",
        "                                          batch_size = BATCH_SIZE,\n",
        "                                          shuffle = False)"
      ]
    },
    {
      "cell_type": "code",
      "execution_count": null,
      "metadata": {
        "colab": {
          "base_uri": "https://localhost:8080/"
        },
        "id": "KQQFp95ajCbr",
        "outputId": "19278f0a-dc5e-44b0-cdeb-4b6298c61be2"
      },
      "outputs": [
        {
          "name": "stdout",
          "output_type": "stream",
          "text": [
            "X_train: torch.Size([32, 3, 32, 32]) type: torch.FloatTensor\n",
            "y_train: torch.Size([32]) type: torch.LongTensor\n"
          ]
        }
      ],
      "source": [
        "#4. 데이터 확인(1)\n",
        "for (X_train, y_train) in train_loader:\n",
        "  print('X_train:', X_train.size( ), 'type:', X_train.type())\n",
        "  print('y_train:', y_train.size( ), 'type:', y_train.type())\n",
        "  break\n",
        "\n",
        "## X_train: torch. Size([32, 3, 32, 32]) type: torch.FloatTensor\n",
        "## y_train: torch. Size([32]) type: torch.LongTensor"
      ]
    },
    {
      "cell_type": "code",
      "execution_count": null,
      "metadata": {
        "colab": {
          "base_uri": "https://localhost:8080/",
          "height": 125
        },
        "id": "i8sqETgRjMcK",
        "outputId": "7fef75cf-50a9-4fa2-ea1b-8d22343e94ee"
      },
      "outputs": [
        {
          "data": {
            "image/png": "[encoded data removed]",
            "text/plain": [
              "<Figure size 1000x100 with 10 Axes>"
            ]
          },
          "metadata": {},
          "output_type": "display_data"
        }
      ],
      "source": [
        "# 5. 데이터 확인하기(2)\n",
        "pltsize = 1\n",
        "plt.figure(figsize=(10 * pltsize, pltsize))\n",
        "\n",
        "for i in range(10):\n",
        "  plt.subplot(1, 10, i + 1)\n",
        "  plt.axis ('off')\n",
        "  plt.imshow(np.transpose(X_train[i],(1,2,0)))\n",
        "  plt.title('Class: ' + str(y_train[i].item()))"
      ]
    },
    {
      "cell_type": "code",
      "execution_count": null,
      "metadata": {
        "id": "hnabz6o4MLWh"
      },
      "outputs": [],
      "source": [
        "# 6. CNN(Convolutional Neural Network) 모델 설계\n",
        "\n",
        "class CNN(nn.Module):\n",
        "  def __init__(self):\n",
        "    super(CNN, self).__init__()\n",
        "    self.conv1 = nn.Conv2d(\n",
        "        in_channels = 3,\n",
        "        out_channels = 8,\n",
        "        kernel_size = 3,\n",
        "        padding =1)\n",
        "    self.conv2 = nn.Conv2d(\n",
        "        in_channels = 8,\n",
        "        out_channels = 16,\n",
        "        kernel_size = 3,\n",
        "        padding =1)\n",
        "    self.pool = nn.MaxPool2d(\n",
        "        kernel_size = 2,\n",
        "        stride =2)\n",
        "    self.fc1 = nn.Linear(8*8*16, 64)\n",
        "    self.fc2 = nn.Linear(64, 32)\n",
        "    self.fc3 = nn.Linear(32, 10)\n",
        "\n",
        "  def forward(self, x):\n",
        "    x = self.conv1(x)\n",
        "    x = F.relu(x)\n",
        "    x = self.pool(x)\n",
        "    x = self.conv2(x)\n",
        "    x = F.relu(x)\n",
        "    x = self.pool(x)\n",
        "\n",
        "    x = x.view(-1, 8 * 8 * 16)\n",
        "    x = self.fc1(x)\n",
        "    x = F.relu(x)\n",
        "    x = self.fc2(x)\n",
        "    x = F.relu(x)\n",
        "    x = self.fc3(x)\n",
        "    x = F.log_softmax(x)\n",
        "    return x"
      ]
    },
    {
      "cell_type": "code",
      "execution_count": null,
      "metadata": {
        "colab": {
          "base_uri": "https://localhost:8080/"
        },
        "id": "yv7Yd5XMjU_1",
        "outputId": "0290ca8c-798d-4800-8d24-804025486564"
      },
      "outputs": [
        {
          "name": "stdout",
          "output_type": "stream",
          "text": [
            "Net(\n",
            "  (fc1): Linear(in_features=3072, out_features=512, bias=True)\n",
            "  (fc2): Linear(in_features=512, out_features=256, bias=True)\n",
            "  (fc3): Linear(in_features=256, out_features=10, bias=True)\n",
            ")\n"
          ]
        }
      ],
      "source": [
        "# 7. Optimizer, Objective Function 설정하기\n",
        "\n",
        "model = Net().to(DEVICE)\n",
        "optimizer = torch.optim.Adam(model.parameters(),lr=0.001)\n",
        "criterion = nn.CrossEntropyLoss()\n",
        "\n",
        "print(model)\n",
        "\n",
        "# Net (\n",
        "#    (fc1) Linear(in_features=784, out_features=512, bias=True)\n",
        "#    (fc2) Linear(in_features=512, out_features=256, bias=True)\n",
        "#    (fc3) Linear(in_features=256, out_features=10, bias=True)\n",
        "# )\n"
      ]
    },
    {
      "cell_type": "code",
      "execution_count": null,
      "metadata": {
        "id": "qGPC3_ZVjZ6q"
      },
      "outputs": [],
      "source": [
        "# 8. MLP 모델 학습을 진행하며 학습 데이터에 대한 모델 성능을 확인하는 함수 정의\n",
        "def train(model, train_loader, optimizer, log_interval):\n",
        "  model.train()\n",
        "  for batch_idx,(image, label) in enumerate(train_loader):\n",
        "    image = image.to(DEVICE)\n",
        "    label = label.to(DEVICE)\n",
        "    optimizer.zero_grad()\n",
        "    output = model(image)\n",
        "    loss = criterion(output, label)\n",
        "    loss.backward()\n",
        "    optimizer.step()\n",
        "\n",
        "    if batch_idx % log_interval == 0:\n",
        "      print(\"Train Epoch: {} [{}/{}({:.0f}%)]\\tTrain Loss: {:.6f}\".format(\n",
        "          Epoch, batch_idx * len(image),\n",
        "          len(train_loader.dataset), 100. * batch_idx / len(train_loader),\n",
        "          loss.item()))"
      ]
    },
    {
      "cell_type": "code",
      "execution_count": null,
      "metadata": {
        "id": "KUFZUnpnjbqP"
      },
      "outputs": [],
      "source": [
        "# 9. 학습되는 과정 속에서 검증 데이터에 대한 모델 성능을 확인하는 함수 정의\n",
        "def evaluate(model, test_loader):\n",
        "    model.eval()\n",
        "    test_loss = 0\n",
        "    correct =0\n",
        "\n",
        "    with torch.no_grad():\n",
        "      for image, label in test_loader:\n",
        "          image = image.to(DEVICE)\n",
        "          label = label.to(DEVICE)\n",
        "          output = model(image)\n",
        "          test_loss += criterion(output, label).item()\n",
        "          prediction = output.max(1, keepdim = True)[1]\n",
        "          correct += prediction.eq(label.view_as(prediction)).sum().item()\n",
        "    test_loss /= len(test_loader.dataset)\n",
        "    test_accuracy = 100. * correct / len(test_loader.dataset)\n",
        "    return test_loss, test_accuracy\n"
      ]
    },
    {
      "cell_type": "code",
      "execution_count": null,
      "metadata": {
        "colab": {
          "base_uri": "https://localhost:8080/"
        },
        "id": "lnmrWNQ1jbj6",
        "outputId": "b3e642bb-ff30-4d40-bb0c-f1b6639b2252"
      },
      "outputs": [
        {
          "name": "stdout",
          "output_type": "stream",
          "text": [
            "Train Epoch: 1 [0/50000(0%)]\tTrain Loss: 2.315614\n",
            "Train Epoch: 1 [6400/50000(13%)]\tTrain Loss: 1.863046\n",
            "Train Epoch: 1 [12800/50000(26%)]\tTrain Loss: 1.968138\n",
            "Train Epoch: 1 [19200/50000(38%)]\tTrain Loss: 2.313465\n",
            "Train Epoch: 1 [25600/50000(51%)]\tTrain Loss: 1.534825\n",
            "Train Epoch: 1 [32000/50000(64%)]\tTrain Loss: 2.204509\n",
            "Train Epoch: 1 [38400/50000(77%)]\tTrain Loss: 1.661923\n",
            "Train Epoch: 1 [44800/50000(90%)]\tTrain Loss: 1.711978\n",
            "\n",
            "[EPOCH: 1], \tTest Loss: 0.0541, \tTest Accuracy: 37.52 %\n",
            "\n",
            "Train Epoch: 2 [0/50000(0%)]\tTrain Loss: 1.834213\n",
            "Train Epoch: 2 [6400/50000(13%)]\tTrain Loss: 2.073775\n",
            "Train Epoch: 2 [12800/50000(26%)]\tTrain Loss: 1.964701\n",
            "Train Epoch: 2 [19200/50000(38%)]\tTrain Loss: 1.620500\n",
            "Train Epoch: 2 [25600/50000(51%)]\tTrain Loss: 1.426276\n",
            "Train Epoch: 2 [32000/50000(64%)]\tTrain Loss: 1.716867\n",
            "Train Epoch: 2 [38400/50000(77%)]\tTrain Loss: 1.404718\n",
            "Train Epoch: 2 [44800/50000(90%)]\tTrain Loss: 1.392380\n",
            "\n",
            "[EPOCH: 2], \tTest Loss: 0.0500, \tTest Accuracy: 42.92 %\n",
            "\n",
            "Train Epoch: 3 [0/50000(0%)]\tTrain Loss: 1.540582\n",
            "Train Epoch: 3 [6400/50000(13%)]\tTrain Loss: 1.389201\n",
            "Train Epoch: 3 [12800/50000(26%)]\tTrain Loss: 1.620651\n",
            "Train Epoch: 3 [19200/50000(38%)]\tTrain Loss: 2.091899\n",
            "Train Epoch: 3 [25600/50000(51%)]\tTrain Loss: 1.510329\n",
            "Train Epoch: 3 [32000/50000(64%)]\tTrain Loss: 1.439414\n",
            "Train Epoch: 3 [38400/50000(77%)]\tTrain Loss: 1.550420\n",
            "Train Epoch: 3 [44800/50000(90%)]\tTrain Loss: 1.751473\n",
            "\n",
            "[EPOCH: 3], \tTest Loss: 0.0484, \tTest Accuracy: 43.96 %\n",
            "\n",
            "Train Epoch: 4 [0/50000(0%)]\tTrain Loss: 1.627095\n",
            "Train Epoch: 4 [6400/50000(13%)]\tTrain Loss: 1.773332\n",
            "Train Epoch: 4 [12800/50000(26%)]\tTrain Loss: 1.359529\n",
            "Train Epoch: 4 [19200/50000(38%)]\tTrain Loss: 1.667387\n",
            "Train Epoch: 4 [25600/50000(51%)]\tTrain Loss: 1.531619\n",
            "Train Epoch: 4 [32000/50000(64%)]\tTrain Loss: 1.521327\n",
            "Train Epoch: 4 [38400/50000(77%)]\tTrain Loss: 1.862436\n",
            "Train Epoch: 4 [44800/50000(90%)]\tTrain Loss: 1.407213\n",
            "\n",
            "[EPOCH: 4], \tTest Loss: 0.0471, \tTest Accuracy: 46.51 %\n",
            "\n",
            "Train Epoch: 5 [0/50000(0%)]\tTrain Loss: 1.530805\n",
            "Train Epoch: 5 [6400/50000(13%)]\tTrain Loss: 1.416243\n",
            "Train Epoch: 5 [12800/50000(26%)]\tTrain Loss: 1.411776\n",
            "Train Epoch: 5 [19200/50000(38%)]\tTrain Loss: 1.270121\n",
            "Train Epoch: 5 [25600/50000(51%)]\tTrain Loss: 1.525852\n",
            "Train Epoch: 5 [32000/50000(64%)]\tTrain Loss: 1.694971\n",
            "Train Epoch: 5 [38400/50000(77%)]\tTrain Loss: 1.690158\n",
            "Train Epoch: 5 [44800/50000(90%)]\tTrain Loss: 1.443058\n",
            "\n",
            "[EPOCH: 5], \tTest Loss: 0.0467, \tTest Accuracy: 47.17 %\n",
            "\n",
            "Train Epoch: 6 [0/50000(0%)]\tTrain Loss: 1.258043\n",
            "Train Epoch: 6 [6400/50000(13%)]\tTrain Loss: 1.377270\n",
            "Train Epoch: 6 [12800/50000(26%)]\tTrain Loss: 1.548741\n",
            "Train Epoch: 6 [19200/50000(38%)]\tTrain Loss: 1.758142\n",
            "Train Epoch: 6 [25600/50000(51%)]\tTrain Loss: 1.306790\n",
            "Train Epoch: 6 [32000/50000(64%)]\tTrain Loss: 1.731261\n",
            "Train Epoch: 6 [38400/50000(77%)]\tTrain Loss: 1.671367\n",
            "Train Epoch: 6 [44800/50000(90%)]\tTrain Loss: 1.287023\n",
            "\n",
            "[EPOCH: 6], \tTest Loss: 0.0471, \tTest Accuracy: 46.70 %\n",
            "\n",
            "Train Epoch: 7 [0/50000(0%)]\tTrain Loss: 1.688066\n",
            "Train Epoch: 7 [6400/50000(13%)]\tTrain Loss: 1.268765\n",
            "Train Epoch: 7 [12800/50000(26%)]\tTrain Loss: 1.317470\n",
            "Train Epoch: 7 [19200/50000(38%)]\tTrain Loss: 1.536114\n",
            "Train Epoch: 7 [25600/50000(51%)]\tTrain Loss: 1.306354\n",
            "Train Epoch: 7 [32000/50000(64%)]\tTrain Loss: 1.319910\n",
            "Train Epoch: 7 [38400/50000(77%)]\tTrain Loss: 1.531642\n",
            "Train Epoch: 7 [44800/50000(90%)]\tTrain Loss: 1.236945\n",
            "\n",
            "[EPOCH: 7], \tTest Loss: 0.0461, \tTest Accuracy: 47.35 %\n",
            "\n",
            "Train Epoch: 8 [0/50000(0%)]\tTrain Loss: 1.701099\n",
            "Train Epoch: 8 [6400/50000(13%)]\tTrain Loss: 1.171001\n",
            "Train Epoch: 8 [12800/50000(26%)]\tTrain Loss: 1.670298\n",
            "Train Epoch: 8 [19200/50000(38%)]\tTrain Loss: 1.925909\n",
            "Train Epoch: 8 [25600/50000(51%)]\tTrain Loss: 1.303416\n",
            "Train Epoch: 8 [32000/50000(64%)]\tTrain Loss: 1.360182\n",
            "Train Epoch: 8 [38400/50000(77%)]\tTrain Loss: 1.893660\n",
            "Train Epoch: 8 [44800/50000(90%)]\tTrain Loss: 1.358964\n",
            "\n",
            "[EPOCH: 8], \tTest Loss: 0.0462, \tTest Accuracy: 47.65 %\n",
            "\n",
            "Train Epoch: 9 [0/50000(0%)]\tTrain Loss: 1.255636\n",
            "Train Epoch: 9 [6400/50000(13%)]\tTrain Loss: 1.427638\n",
            "Train Epoch: 9 [12800/50000(26%)]\tTrain Loss: 1.554654\n",
            "Train Epoch: 9 [19200/50000(38%)]\tTrain Loss: 1.021871\n",
            "Train Epoch: 9 [25600/50000(51%)]\tTrain Loss: 1.171816\n",
            "Train Epoch: 9 [32000/50000(64%)]\tTrain Loss: 1.476566\n",
            "Train Epoch: 9 [38400/50000(77%)]\tTrain Loss: 1.445340\n",
            "Train Epoch: 9 [44800/50000(90%)]\tTrain Loss: 1.091756\n",
            "\n",
            "[EPOCH: 9], \tTest Loss: 0.0458, \tTest Accuracy: 47.80 %\n",
            "\n",
            "Train Epoch: 10 [0/50000(0%)]\tTrain Loss: 1.395999\n",
            "Train Epoch: 10 [6400/50000(13%)]\tTrain Loss: 0.938369\n",
            "Train Epoch: 10 [12800/50000(26%)]\tTrain Loss: 1.456416\n",
            "Train Epoch: 10 [19200/50000(38%)]\tTrain Loss: 1.384247\n",
            "Train Epoch: 10 [25600/50000(51%)]\tTrain Loss: 1.146629\n",
            "Train Epoch: 10 [32000/50000(64%)]\tTrain Loss: 1.312201\n",
            "Train Epoch: 10 [38400/50000(77%)]\tTrain Loss: 1.245170\n",
            "Train Epoch: 10 [44800/50000(90%)]\tTrain Loss: 1.401643\n",
            "\n",
            "[EPOCH: 10], \tTest Loss: 0.0464, \tTest Accuracy: 47.53 %\n",
            "\n"
          ]
        }
      ],
      "source": [
        "# 10. MLP 학습을 실행하며 Train , Test set의 Loss 및 Test set Accuracy를 확인\n",
        "for Epoch in range(1,EPOCHS + 1):\n",
        "    train(model, train_loader, optimizer, log_interval = 200)\n",
        "    test_loss, test_accuracy = evaluate(model, test_loader)\n",
        "    print(\"\\n[EPOCH: {}], \\tTest Loss: {:.4f}, \\tTest Accuracy: {:.2f} %\\n\".\n",
        "          format(Epoch, test_loss, test_accuracy))"
      ]
    },
    {
      "cell_type": "markdown",
      "metadata": {
        "id": "dib8PieXpZWb"
      },
      "source": [
        "# [예제4-3] CIFAR-10 데이터에 Augmentation 기법을 이용해 모델의 성능 향상시키기\n"
      ]
    },
    {
      "cell_type": "code",
      "execution_count": null,
      "metadata": {
        "id": "gTwmNncbphF4"
      },
      "outputs": [],
      "source": [
        "# 1. module import\n",
        "import numpy as np\n",
        "import matplotlib.pyplot as plt\n",
        "\n",
        "import torch\n",
        "import torch.nn as nn\n",
        "import torch.nn.functional as F\n",
        "from torchvision import transforms, datasets"
      ]
    },
    {
      "cell_type": "code",
      "execution_count": null,
      "metadata": {
        "colab": {
          "base_uri": "https://localhost:8080/"
        },
        "id": "QANFJw6Bph5m",
        "outputId": "d5d3a34f-f38f-44a9-9a30-92b255090186"
      },
      "outputs": [
        {
          "name": "stdout",
          "output_type": "stream",
          "text": [
            "Using PyTorch version: 2.4.1+cu121 Device: cpu\n"
          ]
        }
      ],
      "source": [
        "# 2. 딥러닝 모델 설계 시 활용 장비 확인\n",
        "if torch.cuda.is_available():\n",
        "  DEVICE = torch.device('cuda')\n",
        "else:\n",
        "  DEVICE = torch.device('cpu')\n",
        "\n",
        "print('Using PyTorch version:', torch.__version__, 'Device:', DEVICE)\n",
        "# Using PyTorch version: 1.5.0+cu101 Device: cuda"
      ]
    },
    {
      "cell_type": "code",
      "execution_count": null,
      "metadata": {
        "id": "-NBhJWuJphzY"
      },
      "outputs": [],
      "source": [
        "BATCH_SIZE = 32\n",
        "EPOCHS = 10"
      ]
    },
    {
      "cell_type": "code",
      "execution_count": null,
      "metadata": {
        "colab": {
          "base_uri": "https://localhost:8080/"
        },
        "id": "GO1MxWE_phw2",
        "outputId": "f6cf154b-8cc7-4971-aefc-1445617a43db"
      },
      "outputs": [
        {
          "name": "stdout",
          "output_type": "stream",
          "text": [
            "Files already downloaded and verified\n"
          ]
        }
      ],
      "source": [
        "#3. Data Augmentation 적용된 CIFAR10 데이터 다운로드(Train set, Test set 분리)\n",
        "\n",
        "train_dataset = datasets.CIFAR10(root = \"../data/CIFAR_10\",\n",
        "                               train = True,\n",
        "                               download = True,\n",
        "                               transform = transforms.Compose([\n",
        "                                   transforms.RandomHorizontalFlip(),\n",
        "                                   transforms.ToTensor(),\n",
        "                                   transforms.Normalize((0.5,0.5,0.5),\n",
        "                                   (0.5,0.5,0.5))]))\n",
        "\n",
        "test_dataset = datasets.CIFAR10(root = \"../data/CIFAR_10\",\n",
        "                               train = False,\n",
        "                               transform = transforms.Compose([\n",
        "                               transforms.RandomHorizontalFlip(),\n",
        "                                   transforms.ToTensor(),\n",
        "                                   transforms.Normalize((0.5,0.5,0.5),\n",
        "                                   (0.5,0.5,0.5))]))\n",
        "\n",
        "\n",
        "train_loader = torch.utils.data.DataLoader(dataset = train_dataset,\n",
        "                                           batch_size = BATCH_SIZE,\n",
        "                                           shuffle = True)\n",
        "\n",
        "test_loader = torch.utils.data.DataLoader(dataset = test_dataset,\n",
        "                                          batch_size = BATCH_SIZE,\n",
        "                                          shuffle = False)"
      ]
    },
    {
      "cell_type": "code",
      "execution_count": null,
      "metadata": {
        "colab": {
          "base_uri": "https://localhost:8080/"
        },
        "id": "d-pW_5GGphub",
        "outputId": "8d8d7f4e-794e-482a-9cc2-6de8a4ce9268"
      },
      "outputs": [
        {
          "name": "stdout",
          "output_type": "stream",
          "text": [
            "X_train: torch.Size([32, 3, 32, 32]) type: torch.FloatTensor\n",
            "y_train: torch.Size([32]) type: torch.LongTensor\n"
          ]
        }
      ],
      "source": [
        "#4. 데이터 확인(1)\n",
        "for (X_train, y_train) in train_loader:\n",
        "  print('X_train:', X_train.size( ), 'type:', X_train.type())\n",
        "  print('y_train:', y_train.size( ), 'type:', y_train.type())\n",
        "  break\n",
        "\n",
        "## X_train: torch. Size([32, 3, 32, 32]) type: torch.FloatTensor\n",
        "## y_train: torch. Size([32]) type: torch.LongTensor"
      ]
    },
    {
      "cell_type": "code",
      "execution_count": null,
      "metadata": {
        "colab": {
          "base_uri": "https://localhost:8080/",
          "height": 304
        },
        "id": "MKcOKzQFphp5",
        "outputId": "f82cc789-c48d-4ea9-c04a-5bc20829b225"
      },
      "outputs": [
        {
          "name": "stderr",
          "output_type": "stream",
          "text": [
            "WARNING:matplotlib.image:Clipping input data to the valid range for imshow with RGB data ([0..1] for floats or [0..255] for integers).\n",
            "WARNING:matplotlib.image:Clipping input data to the valid range for imshow with RGB data ([0..1] for floats or [0..255] for integers).\n",
            "WARNING:matplotlib.image:Clipping input data to the valid range for imshow with RGB data ([0..1] for floats or [0..255] for integers).\n",
            "WARNING:matplotlib.image:Clipping input data to the valid range for imshow with RGB data ([0..1] for floats or [0..255] for integers).\n",
            "WARNING:matplotlib.image:Clipping input data to the valid range for imshow with RGB data ([0..1] for floats or [0..255] for integers).\n",
            "WARNING:matplotlib.image:Clipping input data to the valid range for imshow with RGB data ([0..1] for floats or [0..255] for integers).\n",
            "WARNING:matplotlib.image:Clipping input data to the valid range for imshow with RGB data ([0..1] for floats or [0..255] for integers).\n",
            "WARNING:matplotlib.image:Clipping input data to the valid range for imshow with RGB data ([0..1] for floats or [0..255] for integers).\n",
            "WARNING:matplotlib.image:Clipping input data to the valid range for imshow with RGB data ([0..1] for floats or [0..255] for integers).\n",
            "WARNING:matplotlib.image:Clipping input data to the valid range for imshow with RGB data ([0..1] for floats or [0..255] for integers).\n"
          ]
        },
        {
          "data": {
            "image/png": "[encoded data removed]",
            "text/plain": [
              "<Figure size 1000x100 with 10 Axes>"
            ]
          },
          "metadata": {},
          "output_type": "display_data"
        }
      ],
      "source": [
        "# 5. 데이터 확인하기(2)\n",
        "pltsize = 1\n",
        "plt.figure(figsize=(10 * pltsize, pltsize))\n",
        "\n",
        "for i in range(10):\n",
        "  plt.subplot(1, 10, i + 1)\n",
        "  plt.axis ('off')\n",
        "  plt.imshow(np.transpose(X_train[i],(1,2,0)))\n",
        "  plt.title('Class: ' + str(y_train[i].item()))"
      ]
    },
    {
      "cell_type": "code",
      "execution_count": null,
      "metadata": {
        "id": "a47D9yHvphoa"
      },
      "outputs": [],
      "source": [
        "# 6. MLP(Multi Layer Perceptron) 모델 설계\n",
        "\n",
        "class Net(nn.Module):\n",
        "  def __init__(self):\n",
        "    super(Net, self).__init__()\n",
        "    self.fc1 = nn.Linear(32*32*3, 512)\n",
        "    self.fc2 = nn.Linear(512, 256)\n",
        "    self.fc3 = nn.Linear(256, 10)\n",
        "\n",
        "  def forward(self, x):\n",
        "    x = x.view(-1, 32 * 32 * 3)\n",
        "    x = self.fc1(x)\n",
        "    x = F.relu(x)\n",
        "\n",
        "    x = self.fc2(x)\n",
        "    x = F.relu(x)\n",
        "\n",
        "    x = self.fc3(x)\n",
        "    x = F.log_softmax(x, dim=1)\n",
        "    return x"
      ]
    },
    {
      "cell_type": "code",
      "execution_count": null,
      "metadata": {
        "colab": {
          "base_uri": "https://localhost:8080/"
        },
        "id": "KAmuAOuBphmd",
        "outputId": "7ec80a77-ffc4-426d-a722-0f0324b38e4d"
      },
      "outputs": [
        {
          "name": "stdout",
          "output_type": "stream",
          "text": [
            "Net(\n",
            "  (fc1): Linear(in_features=3072, out_features=512, bias=True)\n",
            "  (fc2): Linear(in_features=512, out_features=256, bias=True)\n",
            "  (fc3): Linear(in_features=256, out_features=10, bias=True)\n",
            ")\n"
          ]
        }
      ],
      "source": [
        "# 7. Optimizer, Objective Function 설정하기\n",
        "\n",
        "model = Net().to(DEVICE)\n",
        "optimizer = torch.optim.Adam(model.parameters(),lr=0.001)\n",
        "criterion = nn.CrossEntropyLoss()\n",
        "\n",
        "print(model)\n",
        "\n",
        "# Net (\n",
        "#    (fc1) Linear(in_features=784, out_features=512, bias=True)\n",
        "#    (fc2) Linear(in_features=512, out_features=256, bias=True)\n",
        "#    (fc3) Linear(in_features=256, out_features=10, bias=True)\n",
        "# )\n"
      ]
    },
    {
      "cell_type": "code",
      "execution_count": null,
      "metadata": {
        "id": "Ppk--ptGphkj"
      },
      "outputs": [],
      "source": [
        "# 8. MLP 모델 학습을 진행하며 학습 데이터에 대한 모델 성능을 확인하는 함수 정의\n",
        "def train(model, train_loader, optimizer, log_interval):\n",
        "  model.train()\n",
        "  for batch_idx,(image, label) in enumerate(train_loader):\n",
        "    image = image.to(DEVICE)\n",
        "    label = label.to(DEVICE)\n",
        "    optimizer.zero_grad()\n",
        "    output = model(image)\n",
        "    loss = criterion(output, label)\n",
        "    loss.backward()\n",
        "    optimizer.step()\n",
        "\n",
        "    if batch_idx % log_interval == 0:\n",
        "      print(\"Train Epoch: {} [{}/{}({:.0f}%)]\\tTrain Loss: {:.6f}\".format(\n",
        "          Epoch, batch_idx * len(image),\n",
        "          len(train_loader.dataset), 100. * batch_idx / len(train_loader),\n",
        "          loss.item()))"
      ]
    },
    {
      "cell_type": "code",
      "execution_count": null,
      "metadata": {
        "id": "LATvgchEphhq"
      },
      "outputs": [],
      "source": [
        "# 9. 학습되는 과정 속에서 검증 데이터에 대한 모델 성능을 확인하는 함수 정의\n",
        "def evaluate(model, test_loader):\n",
        "    model.eval()\n",
        "    test_loss = 0\n",
        "    correct =0\n",
        "\n",
        "    with torch.no_grad():\n",
        "      for image, label in test_loader:\n",
        "          image = image.to(DEVICE)\n",
        "          label = label.to(DEVICE)\n",
        "          output = model(image)\n",
        "          test_loss += criterion(output, label).item()\n",
        "          prediction = output.max(1, keepdim = True)[1]\n",
        "          correct += prediction.eq(label.view_as(prediction)).sum().item()\n",
        "    test_loss /= len(test_loader.dataset)\n",
        "    test_accuracy = 100. * correct / len(test_loader.dataset)\n",
        "    return test_loss, test_accuracy\n"
      ]
    },
    {
      "cell_type": "code",
      "execution_count": null,
      "metadata": {
        "colab": {
          "base_uri": "https://localhost:8080/"
        },
        "id": "Jvl5pH91IgSL",
        "outputId": "42a774f1-3e91-4dca-fd9b-48e084109239"
      },
      "outputs": [
        {
          "name": "stdout",
          "output_type": "stream",
          "text": [
            "Train Epoch: 1 [0/50000(0%)]\tTrain Loss: 2.302849\n",
            "Train Epoch: 1 [6400/50000(13%)]\tTrain Loss: 1.686178\n",
            "Train Epoch: 1 [12800/50000(26%)]\tTrain Loss: 1.491226\n",
            "Train Epoch: 1 [19200/50000(38%)]\tTrain Loss: 1.586158\n",
            "Train Epoch: 1 [25600/50000(51%)]\tTrain Loss: 1.761520\n",
            "Train Epoch: 1 [32000/50000(64%)]\tTrain Loss: 2.035388\n",
            "Train Epoch: 1 [38400/50000(77%)]\tTrain Loss: 2.040009\n",
            "Train Epoch: 1 [44800/50000(90%)]\tTrain Loss: 1.813178\n",
            "\n",
            "[EPOCH: 1], \tTest Loss: 0.0478, \tTest Accuracy: 45.75 %\n",
            "\n",
            "Train Epoch: 2 [0/50000(0%)]\tTrain Loss: 1.755304\n",
            "Train Epoch: 2 [6400/50000(13%)]\tTrain Loss: 1.339910\n",
            "Train Epoch: 2 [12800/50000(26%)]\tTrain Loss: 1.191593\n",
            "Train Epoch: 2 [19200/50000(38%)]\tTrain Loss: 1.836809\n",
            "Train Epoch: 2 [25600/50000(51%)]\tTrain Loss: 1.330683\n",
            "Train Epoch: 2 [32000/50000(64%)]\tTrain Loss: 1.227121\n",
            "Train Epoch: 2 [38400/50000(77%)]\tTrain Loss: 1.435548\n",
            "Train Epoch: 2 [44800/50000(90%)]\tTrain Loss: 1.448776\n",
            "\n",
            "[EPOCH: 2], \tTest Loss: 0.0458, \tTest Accuracy: 47.58 %\n",
            "\n",
            "Train Epoch: 3 [0/50000(0%)]\tTrain Loss: 1.269428\n",
            "Train Epoch: 3 [6400/50000(13%)]\tTrain Loss: 1.422476\n",
            "Train Epoch: 3 [12800/50000(26%)]\tTrain Loss: 1.179312\n",
            "Train Epoch: 3 [19200/50000(38%)]\tTrain Loss: 1.357311\n",
            "Train Epoch: 3 [25600/50000(51%)]\tTrain Loss: 1.610130\n",
            "Train Epoch: 3 [32000/50000(64%)]\tTrain Loss: 2.116956\n",
            "Train Epoch: 3 [38400/50000(77%)]\tTrain Loss: 1.355064\n",
            "Train Epoch: 3 [44800/50000(90%)]\tTrain Loss: 1.534421\n",
            "\n",
            "[EPOCH: 3], \tTest Loss: 0.0443, \tTest Accuracy: 50.53 %\n",
            "\n",
            "Train Epoch: 4 [0/50000(0%)]\tTrain Loss: 1.098757\n",
            "Train Epoch: 4 [6400/50000(13%)]\tTrain Loss: 1.315004\n",
            "Train Epoch: 4 [12800/50000(26%)]\tTrain Loss: 1.395233\n",
            "Train Epoch: 4 [19200/50000(38%)]\tTrain Loss: 1.447186\n",
            "Train Epoch: 4 [25600/50000(51%)]\tTrain Loss: 1.105549\n",
            "Train Epoch: 4 [32000/50000(64%)]\tTrain Loss: 1.341119\n",
            "Train Epoch: 4 [38400/50000(77%)]\tTrain Loss: 1.308281\n",
            "Train Epoch: 4 [44800/50000(90%)]\tTrain Loss: 1.363419\n",
            "\n",
            "[EPOCH: 4], \tTest Loss: 0.0437, \tTest Accuracy: 51.02 %\n",
            "\n",
            "Train Epoch: 5 [0/50000(0%)]\tTrain Loss: 1.219829\n",
            "Train Epoch: 5 [6400/50000(13%)]\tTrain Loss: 1.274524\n",
            "Train Epoch: 5 [12800/50000(26%)]\tTrain Loss: 1.613489\n",
            "Train Epoch: 5 [19200/50000(38%)]\tTrain Loss: 1.089572\n",
            "Train Epoch: 5 [25600/50000(51%)]\tTrain Loss: 1.350024\n",
            "Train Epoch: 5 [32000/50000(64%)]\tTrain Loss: 1.449086\n",
            "Train Epoch: 5 [38400/50000(77%)]\tTrain Loss: 1.306951\n",
            "Train Epoch: 5 [44800/50000(90%)]\tTrain Loss: 1.064309\n",
            "\n",
            "[EPOCH: 5], \tTest Loss: 0.0426, \tTest Accuracy: 52.33 %\n",
            "\n",
            "Train Epoch: 6 [0/50000(0%)]\tTrain Loss: 1.360549\n",
            "Train Epoch: 6 [6400/50000(13%)]\tTrain Loss: 1.303584\n",
            "Train Epoch: 6 [12800/50000(26%)]\tTrain Loss: 1.357099\n",
            "Train Epoch: 6 [19200/50000(38%)]\tTrain Loss: 1.536242\n",
            "Train Epoch: 6 [25600/50000(51%)]\tTrain Loss: 1.159387\n",
            "Train Epoch: 6 [32000/50000(64%)]\tTrain Loss: 1.357272\n",
            "Train Epoch: 6 [38400/50000(77%)]\tTrain Loss: 0.998394\n",
            "Train Epoch: 6 [44800/50000(90%)]\tTrain Loss: 1.079151\n",
            "\n",
            "[EPOCH: 6], \tTest Loss: 0.0435, \tTest Accuracy: 52.31 %\n",
            "\n",
            "Train Epoch: 7 [0/50000(0%)]\tTrain Loss: 1.095361\n",
            "Train Epoch: 7 [6400/50000(13%)]\tTrain Loss: 0.996016\n",
            "Train Epoch: 7 [12800/50000(26%)]\tTrain Loss: 1.039069\n",
            "Train Epoch: 7 [19200/50000(38%)]\tTrain Loss: 1.003177\n",
            "Train Epoch: 7 [25600/50000(51%)]\tTrain Loss: 1.171370\n",
            "Train Epoch: 7 [32000/50000(64%)]\tTrain Loss: 1.158233\n",
            "Train Epoch: 7 [38400/50000(77%)]\tTrain Loss: 1.224181\n",
            "Train Epoch: 7 [44800/50000(90%)]\tTrain Loss: 1.501379\n",
            "\n",
            "[EPOCH: 7], \tTest Loss: 0.0422, \tTest Accuracy: 53.18 %\n",
            "\n",
            "Train Epoch: 8 [0/50000(0%)]\tTrain Loss: 1.233083\n",
            "Train Epoch: 8 [6400/50000(13%)]\tTrain Loss: 1.305708\n",
            "Train Epoch: 8 [12800/50000(26%)]\tTrain Loss: 0.995293\n",
            "Train Epoch: 8 [19200/50000(38%)]\tTrain Loss: 1.178876\n",
            "Train Epoch: 8 [25600/50000(51%)]\tTrain Loss: 1.070671\n",
            "Train Epoch: 8 [32000/50000(64%)]\tTrain Loss: 1.099757\n",
            "Train Epoch: 8 [38400/50000(77%)]\tTrain Loss: 1.242586\n",
            "Train Epoch: 8 [44800/50000(90%)]\tTrain Loss: 0.886319\n",
            "\n",
            "[EPOCH: 8], \tTest Loss: 0.0431, \tTest Accuracy: 52.77 %\n",
            "\n",
            "Train Epoch: 9 [0/50000(0%)]\tTrain Loss: 1.267511\n",
            "Train Epoch: 9 [6400/50000(13%)]\tTrain Loss: 1.254522\n",
            "Train Epoch: 9 [12800/50000(26%)]\tTrain Loss: 0.938130\n",
            "Train Epoch: 9 [19200/50000(38%)]\tTrain Loss: 1.174061\n",
            "Train Epoch: 9 [25600/50000(51%)]\tTrain Loss: 1.329568\n",
            "Train Epoch: 9 [32000/50000(64%)]\tTrain Loss: 1.173542\n",
            "Train Epoch: 9 [38400/50000(77%)]\tTrain Loss: 1.508133\n",
            "Train Epoch: 9 [44800/50000(90%)]\tTrain Loss: 1.196307\n",
            "\n",
            "[EPOCH: 9], \tTest Loss: 0.0432, \tTest Accuracy: 53.24 %\n",
            "\n",
            "Train Epoch: 10 [0/50000(0%)]\tTrain Loss: 1.183194\n",
            "Train Epoch: 10 [6400/50000(13%)]\tTrain Loss: 1.022448\n",
            "Train Epoch: 10 [12800/50000(26%)]\tTrain Loss: 1.423523\n",
            "Train Epoch: 10 [19200/50000(38%)]\tTrain Loss: 0.977903\n",
            "Train Epoch: 10 [25600/50000(51%)]\tTrain Loss: 0.986163\n",
            "Train Epoch: 10 [32000/50000(64%)]\tTrain Loss: 0.807545\n",
            "Train Epoch: 10 [38400/50000(77%)]\tTrain Loss: 1.225095\n",
            "Train Epoch: 10 [44800/50000(90%)]\tTrain Loss: 1.171815\n",
            "\n",
            "[EPOCH: 10], \tTest Loss: 0.0425, \tTest Accuracy: 54.20 %\n",
            "\n"
          ]
        }
      ],
      "source": [
        "# 10. MLP 학습을 실행하며 Train , Test set의 Loss 및 Test set Accuracy를 확인\n",
        "for Epoch in range(1,EPOCHS + 1):\n",
        "    train(model, train_loader, optimizer, log_interval = 200)\n",
        "    test_loss, test_accuracy = evaluate(model, test_loader)\n",
        "    print(\"\\n[EPOCH: {}], \\tTest Loss: {:.4f}, \\tTest Accuracy: {:.2f} %\\n\".\n",
        "    format(Epoch, test_loss, test_accuracy))"
      ]
    },
    {
      "cell_type": "markdown",
      "metadata": {
        "id": "7YkhNc67IrFp"
      },
      "source": [
        "#[예제4-4] CIFAR-10 데이터에 고급 Convolutional Neural Network 모델을 적용해 성능 향상시키기\n"
      ]
    },
    {
      "cell_type": "code",
      "execution_count": null,
      "metadata": {
        "id": "OpBC8xAUIqKk"
      },
      "outputs": [],
      "source": [
        "# 1. module import\n",
        "import numpy as np\n",
        "import matplotlib.pyplot as plt\n",
        "\n",
        "import torch\n",
        "import torch.nn as nn\n",
        "import torch.nn.functional as F\n",
        "from torchvision import transforms, datasets"
      ]
    },
    {
      "cell_type": "code",
      "execution_count": null,
      "metadata": {
        "colab": {
          "base_uri": "https://localhost:8080/"
        },
        "id": "WPRRcX2vKqvj",
        "outputId": "ca91641d-3ffb-4b5d-c633-62ad6a419b3f"
      },
      "outputs": [
        {
          "name": "stdout",
          "output_type": "stream",
          "text": [
            "Using PyTorch version: 2.4.1+cu121 Device: cpu\n"
          ]
        }
      ],
      "source": [
        "# 2. 딥러닝 모델 설계 시 활용 장비 확인\n",
        "if torch.cuda.is_available():\n",
        "  DEVICE = torch.device('cuda')\n",
        "else:\n",
        "  DEVICE = torch.device('cpu')\n",
        "\n",
        "print('Using PyTorch version:', torch.__version__, 'Device:', DEVICE)\n",
        "# Using PyTorch version: 1.5.0+cu101 Device: cuda"
      ]
    },
    {
      "cell_type": "code",
      "execution_count": null,
      "metadata": {
        "id": "zoO-nyFYKqtY"
      },
      "outputs": [],
      "source": [
        "BATCH_SIZE = 32\n",
        "EPOCHS = 10"
      ]
    },
    {
      "cell_type": "code",
      "execution_count": null,
      "metadata": {
        "colab": {
          "base_uri": "https://localhost:8080/"
        },
        "id": "V2b1ojnTKqrw",
        "outputId": "d7145813-49e1-4d4e-97dd-bc2388ee82be"
      },
      "outputs": [
        {
          "name": "stdout",
          "output_type": "stream",
          "text": [
            "Files already downloaded and verified\n"
          ]
        }
      ],
      "source": [
        "#3. CIFAR10 데이터 다운로드(Train set, Test set 분리)\n",
        "train_dataset = datasets.CIFAR10(root = \"../data/CIFAR_10\",\n",
        "                               train = True,\n",
        "                               download = True,\n",
        "                               transform = transforms.ToTensor())\n",
        "test_dataset = datasets.CIFAR10(root = \"../data/CIFAR_10\",\n",
        "                               train = False,\n",
        "                               transform = transforms.ToTensor())\n",
        "\n",
        "train_loader = torch.utils.data.DataLoader(dataset = train_dataset,\n",
        "                                           batch_size = BATCH_SIZE,\n",
        "                                           shuffle = True)\n",
        "test_loader = torch.utils.data.DataLoader(dataset = test_dataset,\n",
        "                                          batch_size = BATCH_SIZE,\n",
        "                                          shuffle = False)"
      ]
    },
    {
      "cell_type": "code",
      "execution_count": null,
      "metadata": {
        "colab": {
          "base_uri": "https://localhost:8080/"
        },
        "id": "hk7ozie-Kqp3",
        "outputId": "be317428-a418-42d4-cb4c-2200087ad88a"
      },
      "outputs": [
        {
          "name": "stdout",
          "output_type": "stream",
          "text": [
            "X_train: torch.Size([32, 3, 32, 32]) type: torch.FloatTensor\n",
            "y_train: torch.Size([32]) type: torch.LongTensor\n"
          ]
        }
      ],
      "source": [
        "#4. 데이터 확인(1)\n",
        "for (X_train, y_train) in train_loader:\n",
        "  print('X_train:', X_train.size( ), 'type:', X_train.type())\n",
        "  print('y_train:', y_train.size( ), 'type:', y_train.type())\n",
        "  break\n",
        "\n",
        "## X_train: torch. Size([32, 3, 32, 32]) type: torch.FloatTensor\n",
        "## y_train: torch. Size([32]) type: torch.LongTensor"
      ]
    },
    {
      "cell_type": "code",
      "execution_count": null,
      "metadata": {
        "colab": {
          "base_uri": "https://localhost:8080/",
          "height": 125
        },
        "id": "LL4rt31lKqoP",
        "outputId": "cde1c42e-3eb5-49a6-aac3-13a35cadb27a"
      },
      "outputs": [
        {
          "data": {
            "image/png": "[encoded data removed]",
            "text/plain": [
              "<Figure size 1000x100 with 10 Axes>"
            ]
          },
          "metadata": {},
          "output_type": "display_data"
        }
      ],
      "source": [
        "# 5. 데이터 확인하기(2)\n",
        "pltsize = 1\n",
        "plt.figure(figsize=(10 * pltsize, pltsize))\n",
        "\n",
        "for i in range(10):\n",
        "  plt.subplot(1, 10, i + 1)\n",
        "  plt.axis ('off')\n",
        "  plt.imshow(np.transpose(X_train[i],(1,2,0)))\n",
        "  plt.title('Class: ' + str(y_train[i].item()))"
      ]
    },
    {
      "cell_type": "code",
      "execution_count": null,
      "metadata": {
        "id": "Im8EQ2wiKqmW"
      },
      "outputs": [],
      "source": [
        "# 6. ResNet 모델 설계\n",
        "# ResNet 모델은 내부에 반복적으로 이용하는 Block을 바탕으로 구성\n",
        "\n",
        "class BasicBlock(nn.Module):\n",
        "  def __init__(self, in_planes, planes, stride = 1):\n",
        "    super(BasicBlock, self).__init__()\n",
        "    self.conv1 = nn.Conv2d(in_planes, planes,\n",
        "        kernel_size = 3,\n",
        "        stride = stride,\n",
        "        padding = 1,\n",
        "        bias = False)\n",
        "    self.bn1 = nn.BatchNorm2d(planes)\n",
        "    self.conv2 = nn.Conv2d(planes, planes,\n",
        "        kernel_size = 3,\n",
        "        stride = 1,\n",
        "        padding =1,\n",
        "        bias = False)\n",
        "    self.bn2 = nn.BatchNorm2d(planes)\n",
        "\n",
        "    self.shortcut = nn.Sequential()\n",
        "    if stride != 1 or in_planes != planes:\n",
        "      self.shortcut = nn.Sequential(\n",
        "          nn.Conv2d(in_planes, planes,\n",
        "                    kernel_size = 1,\n",
        "                    stirde = stride,\n",
        "                    bias = False),\n",
        "          nn.BatchNorm2d(planes))\n",
        "\n",
        "  def forward(self, x):\n",
        "    out = F.relu(self.bn1(self.conv1(x)))\n",
        "    out = self.bn2(self.conv2(out))\n",
        "    out += self.shortcut(x)\n",
        "    out = F.relu(out)\n",
        "    return out\n",
        "\n",
        "class ResNet(nn.Module):\n",
        "  def __init__(self, num_classes = 10):\n",
        "    super(ResNet, self).__init__()\n",
        "    self.in_planes = 16\n",
        "\n",
        "    self.conv1 = nn.Conv2d(3, 16,\n",
        "                           kernel_size = 3,\n",
        "                           stride = 1,\n",
        "                           padding = 1,\n",
        "                           bias = False)\n",
        "    self.bn1 = nn.BatchNorm2d(16)\n",
        "    self.layer1 = self._make_layer(16,2,stride=1)\n",
        "    self.layer2 = self._make_layer(32,2,stride=2)\n",
        "    self.layer3 = self._make_layer(64,2,stride=2)\n",
        "    self.linear = nn.Linear(64, num_classes)\n",
        "\n",
        "  def make_layer(self,planes,num_blocks,stride):\n",
        "    strides = [stride] + [1] * (num_blocks - 1)\n",
        "    layers = []\n",
        "    for stide in strides:\n",
        "      layers.append(BasicBlock(self.in_planes, planes, stride))\n",
        "      self.in_planes = planes\n",
        "    return nn.Sequential(*layers)\n",
        "\n",
        "  def forward(self,x):\n",
        "    out = F.relu(self.bn1(self.conv1(x)))\n",
        "    out = self.layer1(out)\n",
        "    out = self.layer2(out)\n",
        "    out = self.layer3(out)\n",
        "    out = F.avg_pool2d(out, 8)\n",
        "    out = out.view(out.size(0), -1)\n",
        "    out = self.linear(out)\n",
        "    return out"
      ]
    },
    {
      "cell_type": "code",
      "execution_count": null,
      "metadata": {
        "colab": {
          "base_uri": "https://localhost:8080/"
        },
        "id": "87Iu6JV0Kqke",
        "outputId": "d1259263-3309-4569-d943-7a7d2086ba4e"
      },
      "outputs": [
        {
          "name": "stdout",
          "output_type": "stream",
          "text": [
            "Net(\n",
            "  (fc1): Linear(in_features=3072, out_features=512, bias=True)\n",
            "  (fc2): Linear(in_features=512, out_features=256, bias=True)\n",
            "  (fc3): Linear(in_features=256, out_features=10, bias=True)\n",
            ")\n"
          ]
        }
      ],
      "source": [
        "# 7. Optimizer, Objective Function 설정하기\n",
        "\n",
        "model = Net().to(DEVICE)\n",
        "optimizer = torch.optim.Adam(model.parameters(),lr=0.001)\n",
        "criterion = nn.CrossEntropyLoss()\n",
        "\n",
        "print(model)\n",
        "\n",
        "# Net (\n",
        "#    (fc1) Linear(in_features=784, out_features=512, bias=True)\n",
        "#    (fc2) Linear(in_features=512, out_features=256, bias=True)\n",
        "#    (fc3) Linear(in_features=256, out_features=10, bias=True)\n",
        "# )\n"
      ]
    },
    {
      "cell_type": "code",
      "execution_count": null,
      "metadata": {
        "id": "lu1VuJKDKqi0"
      },
      "outputs": [],
      "source": [
        "# 8. MLP 모델 학습을 진행하며 학습 데이터에 대한 모델 성능을 확인하는 함수 정의\n",
        "def train(model, train_loader, optimizer, log_interval):\n",
        "  model.train()\n",
        "  for batch_idx,(image, label) in enumerate(train_loader):\n",
        "    image = image.to(DEVICE)\n",
        "    label = label.to(DEVICE)\n",
        "    optimizer.zero_grad()\n",
        "    output = model(image)\n",
        "    loss = criterion(output, label)\n",
        "    loss.backward()\n",
        "    optimizer.step()\n",
        "\n",
        "    if batch_idx % log_interval == 0:\n",
        "      print(\"Train Epoch: {} [{}/{}({:.0f}%)]\\tTrain Loss: {:.6f}\".format(\n",
        "          Epoch, batch_idx * len(image),\n",
        "          len(train_loader.dataset), 100. * batch_idx / len(train_loader),\n",
        "          loss.item()))"
      ]
    },
    {
      "cell_type": "code",
      "execution_count": null,
      "metadata": {
        "id": "4CRYsfM4KqhM"
      },
      "outputs": [],
      "source": [
        "# 9. 학습되는 과정 속에서 검증 데이터에 대한 모델 성능을 확인하는 함수 정의\n",
        "def evaluate(model, test_loader):\n",
        "    model.eval()\n",
        "    test_loss = 0\n",
        "    correct =0\n",
        "\n",
        "    with torch.no_grad():\n",
        "      for image, label in test_loader:\n",
        "          image = image.to(DEVICE)\n",
        "          label = label.to(DEVICE)\n",
        "          output = model(image)\n",
        "          test_loss += criterion(output, label).item()\n",
        "          prediction = output.max(1, keepdim = True)[1]\n",
        "          correct += prediction.eq(label.view_as(prediction)).sum().item()\n",
        "    test_loss /= len(test_loader.dataset)\n",
        "    test_accuracy = 100. * correct / len(test_loader.dataset)\n",
        "    return test_loss, test_accuracy\n"
      ]
    },
    {
      "cell_type": "code",
      "execution_count": null,
      "metadata": {
        "colab": {
          "base_uri": "https://localhost:8080/"
        },
        "id": "N3TsyrbkKqfj",
        "outputId": "efa6ed18-8edf-4f72-c9fc-67c088972fd4"
      },
      "outputs": [
        {
          "name": "stdout",
          "output_type": "stream",
          "text": [
            "Train Epoch: 1 [0/50000(0%)]\tTrain Loss: 2.299913\n",
            "Train Epoch: 1 [6400/50000(13%)]\tTrain Loss: 2.001451\n",
            "Train Epoch: 1 [12800/50000(26%)]\tTrain Loss: 1.953109\n",
            "Train Epoch: 1 [19200/50000(38%)]\tTrain Loss: 2.028984\n",
            "Train Epoch: 1 [25600/50000(51%)]\tTrain Loss: 1.680089\n",
            "Train Epoch: 1 [32000/50000(64%)]\tTrain Loss: 2.029781\n",
            "Train Epoch: 1 [38400/50000(77%)]\tTrain Loss: 1.896943\n",
            "Train Epoch: 1 [44800/50000(90%)]\tTrain Loss: 1.839601\n",
            "\n",
            "[EPOCH: 1], \tTest Loss: 0.0548, \tTest Accuracy: 37.40 %\n",
            "\n",
            "Train Epoch: 2 [0/50000(0%)]\tTrain Loss: 1.542321\n",
            "Train Epoch: 2 [6400/50000(13%)]\tTrain Loss: 1.477510\n",
            "Train Epoch: 2 [12800/50000(26%)]\tTrain Loss: 1.817630\n",
            "Train Epoch: 2 [19200/50000(38%)]\tTrain Loss: 2.041057\n",
            "Train Epoch: 2 [25600/50000(51%)]\tTrain Loss: 1.378478\n",
            "Train Epoch: 2 [32000/50000(64%)]\tTrain Loss: 1.566309\n",
            "Train Epoch: 2 [38400/50000(77%)]\tTrain Loss: 1.369925\n",
            "Train Epoch: 2 [44800/50000(90%)]\tTrain Loss: 1.704204\n",
            "\n",
            "[EPOCH: 2], \tTest Loss: 0.0506, \tTest Accuracy: 41.89 %\n",
            "\n",
            "Train Epoch: 3 [0/50000(0%)]\tTrain Loss: 1.575743\n",
            "Train Epoch: 3 [6400/50000(13%)]\tTrain Loss: 1.649089\n",
            "Train Epoch: 3 [12800/50000(26%)]\tTrain Loss: 1.323322\n",
            "Train Epoch: 3 [19200/50000(38%)]\tTrain Loss: 1.389928\n",
            "Train Epoch: 3 [25600/50000(51%)]\tTrain Loss: 1.625722\n",
            "Train Epoch: 3 [32000/50000(64%)]\tTrain Loss: 1.542839\n",
            "Train Epoch: 3 [38400/50000(77%)]\tTrain Loss: 1.614436\n",
            "Train Epoch: 3 [44800/50000(90%)]\tTrain Loss: 1.484283\n",
            "\n",
            "[EPOCH: 3], \tTest Loss: 0.0498, \tTest Accuracy: 42.75 %\n",
            "\n",
            "Train Epoch: 4 [0/50000(0%)]\tTrain Loss: 1.641441\n",
            "Train Epoch: 4 [6400/50000(13%)]\tTrain Loss: 1.421260\n",
            "Train Epoch: 4 [12800/50000(26%)]\tTrain Loss: 1.611655\n",
            "Train Epoch: 4 [19200/50000(38%)]\tTrain Loss: 1.431253\n",
            "Train Epoch: 4 [25600/50000(51%)]\tTrain Loss: 1.680102\n",
            "Train Epoch: 4 [32000/50000(64%)]\tTrain Loss: 1.594485\n",
            "Train Epoch: 4 [38400/50000(77%)]\tTrain Loss: 1.439910\n",
            "Train Epoch: 4 [44800/50000(90%)]\tTrain Loss: 1.689587\n",
            "\n",
            "[EPOCH: 4], \tTest Loss: 0.0479, \tTest Accuracy: 45.42 %\n",
            "\n",
            "Train Epoch: 5 [0/50000(0%)]\tTrain Loss: 1.519969\n",
            "Train Epoch: 5 [6400/50000(13%)]\tTrain Loss: 1.488376\n",
            "Train Epoch: 5 [12800/50000(26%)]\tTrain Loss: 1.344790\n",
            "Train Epoch: 5 [19200/50000(38%)]\tTrain Loss: 1.547137\n",
            "Train Epoch: 5 [25600/50000(51%)]\tTrain Loss: 1.446319\n",
            "Train Epoch: 5 [32000/50000(64%)]\tTrain Loss: 1.509515\n",
            "Train Epoch: 5 [38400/50000(77%)]\tTrain Loss: 1.597932\n",
            "Train Epoch: 5 [44800/50000(90%)]\tTrain Loss: 1.723100\n",
            "\n",
            "[EPOCH: 5], \tTest Loss: 0.0476, \tTest Accuracy: 46.27 %\n",
            "\n",
            "Train Epoch: 6 [0/50000(0%)]\tTrain Loss: 1.472235\n",
            "Train Epoch: 6 [6400/50000(13%)]\tTrain Loss: 1.227762\n",
            "Train Epoch: 6 [12800/50000(26%)]\tTrain Loss: 1.301656\n",
            "Train Epoch: 6 [19200/50000(38%)]\tTrain Loss: 1.944317\n",
            "Train Epoch: 6 [25600/50000(51%)]\tTrain Loss: 1.596621\n",
            "Train Epoch: 6 [32000/50000(64%)]\tTrain Loss: 1.244097\n",
            "Train Epoch: 6 [38400/50000(77%)]\tTrain Loss: 1.315902\n",
            "Train Epoch: 6 [44800/50000(90%)]\tTrain Loss: 1.587075\n",
            "\n",
            "[EPOCH: 6], \tTest Loss: 0.0464, \tTest Accuracy: 47.43 %\n",
            "\n",
            "Train Epoch: 7 [0/50000(0%)]\tTrain Loss: 1.292993\n",
            "Train Epoch: 7 [6400/50000(13%)]\tTrain Loss: 1.321038\n",
            "Train Epoch: 7 [12800/50000(26%)]\tTrain Loss: 1.410469\n",
            "Train Epoch: 7 [19200/50000(38%)]\tTrain Loss: 1.464899\n",
            "Train Epoch: 7 [25600/50000(51%)]\tTrain Loss: 1.288728\n",
            "Train Epoch: 7 [32000/50000(64%)]\tTrain Loss: 1.745916\n",
            "Train Epoch: 7 [38400/50000(77%)]\tTrain Loss: 1.719476\n",
            "Train Epoch: 7 [44800/50000(90%)]\tTrain Loss: 1.574436\n",
            "\n",
            "[EPOCH: 7], \tTest Loss: 0.0458, \tTest Accuracy: 47.86 %\n",
            "\n",
            "Train Epoch: 8 [0/50000(0%)]\tTrain Loss: 1.288466\n",
            "Train Epoch: 8 [6400/50000(13%)]\tTrain Loss: 1.289080\n",
            "Train Epoch: 8 [12800/50000(26%)]\tTrain Loss: 1.527770\n",
            "Train Epoch: 8 [19200/50000(38%)]\tTrain Loss: 1.798862\n",
            "Train Epoch: 8 [25600/50000(51%)]\tTrain Loss: 1.598040\n",
            "Train Epoch: 8 [32000/50000(64%)]\tTrain Loss: 1.292009\n",
            "Train Epoch: 8 [38400/50000(77%)]\tTrain Loss: 1.206466\n",
            "Train Epoch: 8 [44800/50000(90%)]\tTrain Loss: 1.191744\n",
            "\n",
            "[EPOCH: 8], \tTest Loss: 0.0453, \tTest Accuracy: 48.78 %\n",
            "\n",
            "Train Epoch: 9 [0/50000(0%)]\tTrain Loss: 1.384919\n",
            "Train Epoch: 9 [6400/50000(13%)]\tTrain Loss: 1.030171\n",
            "Train Epoch: 9 [12800/50000(26%)]\tTrain Loss: 1.214793\n",
            "Train Epoch: 9 [19200/50000(38%)]\tTrain Loss: 1.104841\n",
            "Train Epoch: 9 [25600/50000(51%)]\tTrain Loss: 1.397104\n",
            "Train Epoch: 9 [32000/50000(64%)]\tTrain Loss: 1.314069\n",
            "Train Epoch: 9 [38400/50000(77%)]\tTrain Loss: 1.247166\n",
            "Train Epoch: 9 [44800/50000(90%)]\tTrain Loss: 1.295195\n",
            "\n",
            "[EPOCH: 9], \tTest Loss: 0.0455, \tTest Accuracy: 48.19 %\n",
            "\n",
            "Train Epoch: 10 [0/50000(0%)]\tTrain Loss: 1.193049\n",
            "Train Epoch: 10 [6400/50000(13%)]\tTrain Loss: 1.162122\n",
            "Train Epoch: 10 [12800/50000(26%)]\tTrain Loss: 1.167852\n",
            "Train Epoch: 10 [19200/50000(38%)]\tTrain Loss: 1.106289\n",
            "Train Epoch: 10 [25600/50000(51%)]\tTrain Loss: 1.580885\n",
            "Train Epoch: 10 [32000/50000(64%)]\tTrain Loss: 1.216900\n",
            "Train Epoch: 10 [38400/50000(77%)]\tTrain Loss: 1.556179\n",
            "Train Epoch: 10 [44800/50000(90%)]\tTrain Loss: 1.618690\n",
            "\n",
            "[EPOCH: 10], \tTest Loss: 0.0455, \tTest Accuracy: 48.07 %\n",
            "\n"
          ]
        }
      ],
      "source": [
        "# 10. MLP 학습을 실행하며 Train , Test set의 Loss 및 Test set Accuracy를 확인\n",
        "for Epoch in range(1,EPOCHS + 1):\n",
        "    train(model, train_loader, optimizer, log_interval = 200)\n",
        "    test_loss, test_accuracy = evaluate(model, test_loader)\n",
        "    print(\"\\n[EPOCH: {}], \\tTest Loss: {:.4f}, \\tTest Accuracy: {:.2f} %\\n\".\n",
        "    format(Epoch, test_loss, test_accuracy))"
      ]
    },
    {
      "cell_type": "markdown",
      "metadata": {
        "id": "z3QkrwkbJBhK"
      },
      "source": [
        "# [예제 4-5] CIFAR-10 데이터에 대표적인 딥러닝 모델을 불러와 적용"
      ]
    },
    {
      "cell_type": "code",
      "execution_count": null,
      "metadata": {
        "id": "nER_elCaJBwh"
      },
      "outputs": [],
      "source": [
        "# 1. module import\n",
        "import numpy as np\n",
        "import matplotlib.pyplot as plt\n",
        "\n",
        "import torch\n",
        "import torch.nn as nn\n",
        "import torch.nn.functional as F\n",
        "from torchvision import transforms, datasets"
      ]
    },
    {
      "cell_type": "code",
      "execution_count": null,
      "metadata": {
        "colab": {
          "base_uri": "https://localhost:8080/"
        },
        "id": "3ea5vll1JCao",
        "outputId": "3df9d458-a21e-4c75-ce5d-7915ce1ad0a3"
      },
      "outputs": [
        {
          "name": "stdout",
          "output_type": "stream",
          "text": [
            "Using PyTorch version: 2.4.0+cpu Device: cpu\n"
          ]
        }
      ],
      "source": [
        "# 2. 딥러닝 모델 설계 시 활용 장비 확인\n",
        "if torch.cuda.is_available():\n",
        "  DEVICE = torch.device('cuda')\n",
        "else:\n",
        "  DEVICE = torch.device('cpu')\n",
        "\n",
        "print('Using PyTorch version:', torch.__version__, 'Device:', DEVICE)\n",
        "# Using PyTorch version: 1.5.0+cu101 Device: cuda"
      ]
    },
    {
      "cell_type": "code",
      "execution_count": null,
      "metadata": {
        "id": "7LwvWIZoJCWu"
      },
      "outputs": [],
      "source": [
        "BATCH_SIZE = 32\n",
        "EPOCHS = 10"
      ]
    },
    {
      "cell_type": "code",
      "execution_count": null,
      "metadata": {
        "colab": {
          "base_uri": "https://localhost:8080/"
        },
        "id": "ye2yov0IJCUj",
        "outputId": "43b925f4-ddca-429b-a1e7-3821df0f6bc2"
      },
      "outputs": [
        {
          "name": "stdout",
          "output_type": "stream",
          "text": [
            "Downloading https://www.cs.toronto.edu/~kriz/cifar-10-python.tar.gz to ../data/CIFAR_10/cifar-10-python.tar.gz\n"
          ]
        },
        {
          "name": "stderr",
          "output_type": "stream",
          "text": [
            "100%|██████████| 170498071/170498071 [00:02<00:00, 81476995.88it/s]\n"
          ]
        },
        {
          "name": "stdout",
          "output_type": "stream",
          "text": [
            "Extracting ../data/CIFAR_10/cifar-10-python.tar.gz to ../data/CIFAR_10\n"
          ]
        }
      ],
      "source": [
        "#3. CIFAR10 데이터 다운로드(Train set, Test set 분리)\n",
        "train_dataset = datasets.CIFAR10(root = \"../data/CIFAR_10\",\n",
        "                               train = True,\n",
        "                               download = True,\n",
        "                               transform = transforms.ToTensor())\n",
        "test_dataset = datasets.CIFAR10(root = \"../data/CIFAR_10\",\n",
        "                               train = False,\n",
        "                               transform = transforms.ToTensor())\n",
        "\n",
        "train_loader = torch.utils.data.DataLoader(dataset = train_dataset,\n",
        "                                           batch_size = BATCH_SIZE,\n",
        "                                           shuffle = True)\n",
        "test_loader = torch.utils.data.DataLoader(dataset = test_dataset,\n",
        "                                          batch_size = BATCH_SIZE,\n",
        "                                          shuffle = False)"
      ]
    },
    {
      "cell_type": "code",
      "execution_count": null,
      "metadata": {
        "colab": {
          "base_uri": "https://localhost:8080/"
        },
        "id": "KM4A90aVJCSn",
        "outputId": "2a508f4e-b040-42fc-c229-f7a344407b91"
      },
      "outputs": [
        {
          "name": "stdout",
          "output_type": "stream",
          "text": [
            "X_train: torch.Size([32, 3, 32, 32]) type: torch.FloatTensor\n",
            "y_train: torch.Size([32]) type: torch.LongTensor\n"
          ]
        }
      ],
      "source": [
        "#4. 데이터 확인(1)\n",
        "for (X_train, y_train) in train_loader:\n",
        "  print('X_train:', X_train.size( ), 'type:', X_train.type())\n",
        "  print('y_train:', y_train.size( ), 'type:', y_train.type())\n",
        "  break\n",
        "\n",
        "## X_train: torch. Size([32, 3, 32, 32]) type: torch.FloatTensor\n",
        "## y_train: torch. Size([32]) type: torch.LongTensor"
      ]
    },
    {
      "cell_type": "code",
      "execution_count": null,
      "metadata": {
        "colab": {
          "base_uri": "https://localhost:8080/",
          "height": 125
        },
        "id": "GtwRDPfUJCQn",
        "outputId": "b2c78875-765b-4658-c1b3-9ed24bcf2842"
      },
      "outputs": [
        {
          "data": {
            "image/png": "[encoded data removed]",
            "text/plain": [
              "<Figure size 1000x100 with 10 Axes>"
            ]
          },
          "metadata": {},
          "output_type": "display_data"
        }
      ],
      "source": [
        "# 5. 데이터 확인하기(2)\n",
        "pltsize = 1\n",
        "plt.figure(figsize=(10 * pltsize, pltsize))\n",
        "\n",
        "for i in range(10):\n",
        "  plt.subplot(1, 10, i + 1)\n",
        "  plt.axis ('off')\n",
        "  plt.imshow(np.transpose(X_train[i],(1,2,0)))\n",
        "  plt.title('Class: ' + str(y_train[i].item()))"
      ]
    },
    {
      "cell_type": "code",
      "execution_count": null,
      "metadata": {
        "colab": {
          "base_uri": "https://localhost:8080/"
        },
        "id": "_Qi74C1RJCOd",
        "outputId": "61f10e4c-b58b-40f8-dee4-2f41f09f3769"
      },
      "outputs": [
        {
          "name": "stderr",
          "output_type": "stream",
          "text": [
            "/usr/local/lib/python3.10/dist-packages/torchvision/models/_utils.py:208: UserWarning: The parameter 'pretrained' is deprecated since 0.13 and may be removed in the future, please use 'weights' instead.\n",
            "  warnings.warn(\n",
            "/usr/local/lib/python3.10/dist-packages/torchvision/models/_utils.py:223: UserWarning: Arguments other than a weight enum or `None` for 'weights' are deprecated since 0.13 and may be removed in the future. The current behavior is equivalent to passing `weights=None`.\n",
            "  warnings.warn(msg)\n"
          ]
        },
        {
          "data": {
            "text/plain": [
              "ResNet(\n",
              "  (conv1): Conv2d(3, 64, kernel_size=(7, 7), stride=(2, 2), padding=(3, 3), bias=False)\n",
              "  (bn1): BatchNorm2d(64, eps=1e-05, momentum=0.1, affine=True, track_running_stats=True)\n",
              "  (relu): ReLU(inplace=True)\n",
              "  (maxpool): MaxPool2d(kernel_size=3, stride=2, padding=1, dilation=1, ceil_mode=False)\n",
              "  (layer1): Sequential(\n",
              "    (0): BasicBlock(\n",
              "      (conv1): Conv2d(64, 64, kernel_size=(3, 3), stride=(1, 1), padding=(1, 1), bias=False)\n",
              "      (bn1): BatchNorm2d(64, eps=1e-05, momentum=0.1, affine=True, track_running_stats=True)\n",
              "      (relu): ReLU(inplace=True)\n",
              "      (conv2): Conv2d(64, 64, kernel_size=(3, 3), stride=(1, 1), padding=(1, 1), bias=False)\n",
              "      (bn2): BatchNorm2d(64, eps=1e-05, momentum=0.1, affine=True, track_running_stats=True)\n",
              "    )\n",
              "    (1): BasicBlock(\n",
              "      (conv1): Conv2d(64, 64, kernel_size=(3, 3), stride=(1, 1), padding=(1, 1), bias=False)\n",
              "      (bn1): BatchNorm2d(64, eps=1e-05, momentum=0.1, affine=True, track_running_stats=True)\n",
              "      (relu): ReLU(inplace=True)\n",
              "      (conv2): Conv2d(64, 64, kernel_size=(3, 3), stride=(1, 1), padding=(1, 1), bias=False)\n",
              "      (bn2): BatchNorm2d(64, eps=1e-05, momentum=0.1, affine=True, track_running_stats=True)\n",
              "    )\n",
              "    (2): BasicBlock(\n",
              "      (conv1): Conv2d(64, 64, kernel_size=(3, 3), stride=(1, 1), padding=(1, 1), bias=False)\n",
              "      (bn1): BatchNorm2d(64, eps=1e-05, momentum=0.1, affine=True, track_running_stats=True)\n",
              "      (relu): ReLU(inplace=True)\n",
              "      (conv2): Conv2d(64, 64, kernel_size=(3, 3), stride=(1, 1), padding=(1, 1), bias=False)\n",
              "      (bn2): BatchNorm2d(64, eps=1e-05, momentum=0.1, affine=True, track_running_stats=True)\n",
              "    )\n",
              "  )\n",
              "  (layer2): Sequential(\n",
              "    (0): BasicBlock(\n",
              "      (conv1): Conv2d(64, 128, kernel_size=(3, 3), stride=(2, 2), padding=(1, 1), bias=False)\n",
              "      (bn1): BatchNorm2d(128, eps=1e-05, momentum=0.1, affine=True, track_running_stats=True)\n",
              "      (relu): ReLU(inplace=True)\n",
              "      (conv2): Conv2d(128, 128, kernel_size=(3, 3), stride=(1, 1), padding=(1, 1), bias=False)\n",
              "      (bn2): BatchNorm2d(128, eps=1e-05, momentum=0.1, affine=True, track_running_stats=True)\n",
              "      (downsample): Sequential(\n",
              "        (0): Conv2d(64, 128, kernel_size=(1, 1), stride=(2, 2), bias=False)\n",
              "        (1): BatchNorm2d(128, eps=1e-05, momentum=0.1, affine=True, track_running_stats=True)\n",
              "      )\n",
              "    )\n",
              "    (1): BasicBlock(\n",
              "      (conv1): Conv2d(128, 128, kernel_size=(3, 3), stride=(1, 1), padding=(1, 1), bias=False)\n",
              "      (bn1): BatchNorm2d(128, eps=1e-05, momentum=0.1, affine=True, track_running_stats=True)\n",
              "      (relu): ReLU(inplace=True)\n",
              "      (conv2): Conv2d(128, 128, kernel_size=(3, 3), stride=(1, 1), padding=(1, 1), bias=False)\n",
              "      (bn2): BatchNorm2d(128, eps=1e-05, momentum=0.1, affine=True, track_running_stats=True)\n",
              "    )\n",
              "    (2): BasicBlock(\n",
              "      (conv1): Conv2d(128, 128, kernel_size=(3, 3), stride=(1, 1), padding=(1, 1), bias=False)\n",
              "      (bn1): BatchNorm2d(128, eps=1e-05, momentum=0.1, affine=True, track_running_stats=True)\n",
              "      (relu): ReLU(inplace=True)\n",
              "      (conv2): Conv2d(128, 128, kernel_size=(3, 3), stride=(1, 1), padding=(1, 1), bias=False)\n",
              "      (bn2): BatchNorm2d(128, eps=1e-05, momentum=0.1, affine=True, track_running_stats=True)\n",
              "    )\n",
              "    (3): BasicBlock(\n",
              "      (conv1): Conv2d(128, 128, kernel_size=(3, 3), stride=(1, 1), padding=(1, 1), bias=False)\n",
              "      (bn1): BatchNorm2d(128, eps=1e-05, momentum=0.1, affine=True, track_running_stats=True)\n",
              "      (relu): ReLU(inplace=True)\n",
              "      (conv2): Conv2d(128, 128, kernel_size=(3, 3), stride=(1, 1), padding=(1, 1), bias=False)\n",
              "      (bn2): BatchNorm2d(128, eps=1e-05, momentum=0.1, affine=True, track_running_stats=True)\n",
              "    )\n",
              "  )\n",
              "  (layer3): Sequential(\n",
              "    (0): BasicBlock(\n",
              "      (conv1): Conv2d(128, 256, kernel_size=(3, 3), stride=(2, 2), padding=(1, 1), bias=False)\n",
              "      (bn1): BatchNorm2d(256, eps=1e-05, momentum=0.1, affine=True, track_running_stats=True)\n",
              "      (relu): ReLU(inplace=True)\n",
              "      (conv2): Conv2d(256, 256, kernel_size=(3, 3), stride=(1, 1), padding=(1, 1), bias=False)\n",
              "      (bn2): BatchNorm2d(256, eps=1e-05, momentum=0.1, affine=True, track_running_stats=True)\n",
              "      (downsample): Sequential(\n",
              "        (0): Conv2d(128, 256, kernel_size=(1, 1), stride=(2, 2), bias=False)\n",
              "        (1): BatchNorm2d(256, eps=1e-05, momentum=0.1, affine=True, track_running_stats=True)\n",
              "      )\n",
              "    )\n",
              "    (1): BasicBlock(\n",
              "      (conv1): Conv2d(256, 256, kernel_size=(3, 3), stride=(1, 1), padding=(1, 1), bias=False)\n",
              "      (bn1): BatchNorm2d(256, eps=1e-05, momentum=0.1, affine=True, track_running_stats=True)\n",
              "      (relu): ReLU(inplace=True)\n",
              "      (conv2): Conv2d(256, 256, kernel_size=(3, 3), stride=(1, 1), padding=(1, 1), bias=False)\n",
              "      (bn2): BatchNorm2d(256, eps=1e-05, momentum=0.1, affine=True, track_running_stats=True)\n",
              "    )\n",
              "    (2): BasicBlock(\n",
              "      (conv1): Conv2d(256, 256, kernel_size=(3, 3), stride=(1, 1), padding=(1, 1), bias=False)\n",
              "      (bn1): BatchNorm2d(256, eps=1e-05, momentum=0.1, affine=True, track_running_stats=True)\n",
              "      (relu): ReLU(inplace=True)\n",
              "      (conv2): Conv2d(256, 256, kernel_size=(3, 3), stride=(1, 1), padding=(1, 1), bias=False)\n",
              "      (bn2): BatchNorm2d(256, eps=1e-05, momentum=0.1, affine=True, track_running_stats=True)\n",
              "    )\n",
              "    (3): BasicBlock(\n",
              "      (conv1): Conv2d(256, 256, kernel_size=(3, 3), stride=(1, 1), padding=(1, 1), bias=False)\n",
              "      (bn1): BatchNorm2d(256, eps=1e-05, momentum=0.1, affine=True, track_running_stats=True)\n",
              "      (relu): ReLU(inplace=True)\n",
              "      (conv2): Conv2d(256, 256, kernel_size=(3, 3), stride=(1, 1), padding=(1, 1), bias=False)\n",
              "      (bn2): BatchNorm2d(256, eps=1e-05, momentum=0.1, affine=True, track_running_stats=True)\n",
              "    )\n",
              "    (4): BasicBlock(\n",
              "      (conv1): Conv2d(256, 256, kernel_size=(3, 3), stride=(1, 1), padding=(1, 1), bias=False)\n",
              "      (bn1): BatchNorm2d(256, eps=1e-05, momentum=0.1, affine=True, track_running_stats=True)\n",
              "      (relu): ReLU(inplace=True)\n",
              "      (conv2): Conv2d(256, 256, kernel_size=(3, 3), stride=(1, 1), padding=(1, 1), bias=False)\n",
              "      (bn2): BatchNorm2d(256, eps=1e-05, momentum=0.1, affine=True, track_running_stats=True)\n",
              "    )\n",
              "    (5): BasicBlock(\n",
              "      (conv1): Conv2d(256, 256, kernel_size=(3, 3), stride=(1, 1), padding=(1, 1), bias=False)\n",
              "      (bn1): BatchNorm2d(256, eps=1e-05, momentum=0.1, affine=True, track_running_stats=True)\n",
              "      (relu): ReLU(inplace=True)\n",
              "      (conv2): Conv2d(256, 256, kernel_size=(3, 3), stride=(1, 1), padding=(1, 1), bias=False)\n",
              "      (bn2): BatchNorm2d(256, eps=1e-05, momentum=0.1, affine=True, track_running_stats=True)\n",
              "    )\n",
              "  )\n",
              "  (layer4): Sequential(\n",
              "    (0): BasicBlock(\n",
              "      (conv1): Conv2d(256, 512, kernel_size=(3, 3), stride=(2, 2), padding=(1, 1), bias=False)\n",
              "      (bn1): BatchNorm2d(512, eps=1e-05, momentum=0.1, affine=True, track_running_stats=True)\n",
              "      (relu): ReLU(inplace=True)\n",
              "      (conv2): Conv2d(512, 512, kernel_size=(3, 3), stride=(1, 1), padding=(1, 1), bias=False)\n",
              "      (bn2): BatchNorm2d(512, eps=1e-05, momentum=0.1, affine=True, track_running_stats=True)\n",
              "      (downsample): Sequential(\n",
              "        (0): Conv2d(256, 512, kernel_size=(1, 1), stride=(2, 2), bias=False)\n",
              "        (1): BatchNorm2d(512, eps=1e-05, momentum=0.1, affine=True, track_running_stats=True)\n",
              "      )\n",
              "    )\n",
              "    (1): BasicBlock(\n",
              "      (conv1): Conv2d(512, 512, kernel_size=(3, 3), stride=(1, 1), padding=(1, 1), bias=False)\n",
              "      (bn1): BatchNorm2d(512, eps=1e-05, momentum=0.1, affine=True, track_running_stats=True)\n",
              "      (relu): ReLU(inplace=True)\n",
              "      (conv2): Conv2d(512, 512, kernel_size=(3, 3), stride=(1, 1), padding=(1, 1), bias=False)\n",
              "      (bn2): BatchNorm2d(512, eps=1e-05, momentum=0.1, affine=True, track_running_stats=True)\n",
              "    )\n",
              "    (2): BasicBlock(\n",
              "      (conv1): Conv2d(512, 512, kernel_size=(3, 3), stride=(1, 1), padding=(1, 1), bias=False)\n",
              "      (bn1): BatchNorm2d(512, eps=1e-05, momentum=0.1, affine=True, track_running_stats=True)\n",
              "      (relu): ReLU(inplace=True)\n",
              "      (conv2): Conv2d(512, 512, kernel_size=(3, 3), stride=(1, 1), padding=(1, 1), bias=False)\n",
              "      (bn2): BatchNorm2d(512, eps=1e-05, momentum=0.1, affine=True, track_running_stats=True)\n",
              "    )\n",
              "  )\n",
              "  (avgpool): AdaptiveAvgPool2d(output_size=(1, 1))\n",
              "  (fc): Linear(in_features=512, out_features=10, bias=True)\n",
              ")"
            ]
          },
          "execution_count": 7,
          "metadata": {},
          "output_type": "execute_result"
        }
      ],
      "source": [
        "\n",
        "# 6. 파이토치 내에서 제공 ResNet34 모델 불러온 후 FC 층 추가 및 Output 크기 설정\n",
        "import torchvision.models as models\n",
        "model = models.resnet34(pretrained = False)\n",
        "num_ftrs = model.fc.in_features\n",
        "model.fc = nn.Linear(num_ftrs, 10)\n",
        "model.to(DEVICE)\n"
      ]
    },
    {
      "cell_type": "code",
      "execution_count": null,
      "metadata": {
        "colab": {
          "base_uri": "https://localhost:8080/"
        },
        "id": "AungMs2XJCLi",
        "outputId": "8b72b7e2-84e7-440a-b444-e4890b2c3e52"
      },
      "outputs": [
        {
          "name": "stdout",
          "output_type": "stream",
          "text": [
            "ResNet(\n",
            "  (conv1): Conv2d(3, 64, kernel_size=(7, 7), stride=(2, 2), padding=(3, 3), bias=False)\n",
            "  (bn1): BatchNorm2d(64, eps=1e-05, momentum=0.1, affine=True, track_running_stats=True)\n",
            "  (relu): ReLU(inplace=True)\n",
            "  (maxpool): MaxPool2d(kernel_size=3, stride=2, padding=1, dilation=1, ceil_mode=False)\n",
            "  (layer1): Sequential(\n",
            "    (0): BasicBlock(\n",
            "      (conv1): Conv2d(64, 64, kernel_size=(3, 3), stride=(1, 1), padding=(1, 1), bias=False)\n",
            "      (bn1): BatchNorm2d(64, eps=1e-05, momentum=0.1, affine=True, track_running_stats=True)\n",
            "      (relu): ReLU(inplace=True)\n",
            "      (conv2): Conv2d(64, 64, kernel_size=(3, 3), stride=(1, 1), padding=(1, 1), bias=False)\n",
            "      (bn2): BatchNorm2d(64, eps=1e-05, momentum=0.1, affine=True, track_running_stats=True)\n",
            "    )\n",
            "    (1): BasicBlock(\n",
            "      (conv1): Conv2d(64, 64, kernel_size=(3, 3), stride=(1, 1), padding=(1, 1), bias=False)\n",
            "      (bn1): BatchNorm2d(64, eps=1e-05, momentum=0.1, affine=True, track_running_stats=True)\n",
            "      (relu): ReLU(inplace=True)\n",
            "      (conv2): Conv2d(64, 64, kernel_size=(3, 3), stride=(1, 1), padding=(1, 1), bias=False)\n",
            "      (bn2): BatchNorm2d(64, eps=1e-05, momentum=0.1, affine=True, track_running_stats=True)\n",
            "    )\n",
            "    (2): BasicBlock(\n",
            "      (conv1): Conv2d(64, 64, kernel_size=(3, 3), stride=(1, 1), padding=(1, 1), bias=False)\n",
            "      (bn1): BatchNorm2d(64, eps=1e-05, momentum=0.1, affine=True, track_running_stats=True)\n",
            "      (relu): ReLU(inplace=True)\n",
            "      (conv2): Conv2d(64, 64, kernel_size=(3, 3), stride=(1, 1), padding=(1, 1), bias=False)\n",
            "      (bn2): BatchNorm2d(64, eps=1e-05, momentum=0.1, affine=True, track_running_stats=True)\n",
            "    )\n",
            "  )\n",
            "  (layer2): Sequential(\n",
            "    (0): BasicBlock(\n",
            "      (conv1): Conv2d(64, 128, kernel_size=(3, 3), stride=(2, 2), padding=(1, 1), bias=False)\n",
            "      (bn1): BatchNorm2d(128, eps=1e-05, momentum=0.1, affine=True, track_running_stats=True)\n",
            "      (relu): ReLU(inplace=True)\n",
            "      (conv2): Conv2d(128, 128, kernel_size=(3, 3), stride=(1, 1), padding=(1, 1), bias=False)\n",
            "      (bn2): BatchNorm2d(128, eps=1e-05, momentum=0.1, affine=True, track_running_stats=True)\n",
            "      (downsample): Sequential(\n",
            "        (0): Conv2d(64, 128, kernel_size=(1, 1), stride=(2, 2), bias=False)\n",
            "        (1): BatchNorm2d(128, eps=1e-05, momentum=0.1, affine=True, track_running_stats=True)\n",
            "      )\n",
            "    )\n",
            "    (1): BasicBlock(\n",
            "      (conv1): Conv2d(128, 128, kernel_size=(3, 3), stride=(1, 1), padding=(1, 1), bias=False)\n",
            "      (bn1): BatchNorm2d(128, eps=1e-05, momentum=0.1, affine=True, track_running_stats=True)\n",
            "      (relu): ReLU(inplace=True)\n",
            "      (conv2): Conv2d(128, 128, kernel_size=(3, 3), stride=(1, 1), padding=(1, 1), bias=False)\n",
            "      (bn2): BatchNorm2d(128, eps=1e-05, momentum=0.1, affine=True, track_running_stats=True)\n",
            "    )\n",
            "    (2): BasicBlock(\n",
            "      (conv1): Conv2d(128, 128, kernel_size=(3, 3), stride=(1, 1), padding=(1, 1), bias=False)\n",
            "      (bn1): BatchNorm2d(128, eps=1e-05, momentum=0.1, affine=True, track_running_stats=True)\n",
            "      (relu): ReLU(inplace=True)\n",
            "      (conv2): Conv2d(128, 128, kernel_size=(3, 3), stride=(1, 1), padding=(1, 1), bias=False)\n",
            "      (bn2): BatchNorm2d(128, eps=1e-05, momentum=0.1, affine=True, track_running_stats=True)\n",
            "    )\n",
            "    (3): BasicBlock(\n",
            "      (conv1): Conv2d(128, 128, kernel_size=(3, 3), stride=(1, 1), padding=(1, 1), bias=False)\n",
            "      (bn1): BatchNorm2d(128, eps=1e-05, momentum=0.1, affine=True, track_running_stats=True)\n",
            "      (relu): ReLU(inplace=True)\n",
            "      (conv2): Conv2d(128, 128, kernel_size=(3, 3), stride=(1, 1), padding=(1, 1), bias=False)\n",
            "      (bn2): BatchNorm2d(128, eps=1e-05, momentum=0.1, affine=True, track_running_stats=True)\n",
            "    )\n",
            "  )\n",
            "  (layer3): Sequential(\n",
            "    (0): BasicBlock(\n",
            "      (conv1): Conv2d(128, 256, kernel_size=(3, 3), stride=(2, 2), padding=(1, 1), bias=False)\n",
            "      (bn1): BatchNorm2d(256, eps=1e-05, momentum=0.1, affine=True, track_running_stats=True)\n",
            "      (relu): ReLU(inplace=True)\n",
            "      (conv2): Conv2d(256, 256, kernel_size=(3, 3), stride=(1, 1), padding=(1, 1), bias=False)\n",
            "      (bn2): BatchNorm2d(256, eps=1e-05, momentum=0.1, affine=True, track_running_stats=True)\n",
            "      (downsample): Sequential(\n",
            "        (0): Conv2d(128, 256, kernel_size=(1, 1), stride=(2, 2), bias=False)\n",
            "        (1): BatchNorm2d(256, eps=1e-05, momentum=0.1, affine=True, track_running_stats=True)\n",
            "      )\n",
            "    )\n",
            "    (1): BasicBlock(\n",
            "      (conv1): Conv2d(256, 256, kernel_size=(3, 3), stride=(1, 1), padding=(1, 1), bias=False)\n",
            "      (bn1): BatchNorm2d(256, eps=1e-05, momentum=0.1, affine=True, track_running_stats=True)\n",
            "      (relu): ReLU(inplace=True)\n",
            "      (conv2): Conv2d(256, 256, kernel_size=(3, 3), stride=(1, 1), padding=(1, 1), bias=False)\n",
            "      (bn2): BatchNorm2d(256, eps=1e-05, momentum=0.1, affine=True, track_running_stats=True)\n",
            "    )\n",
            "    (2): BasicBlock(\n",
            "      (conv1): Conv2d(256, 256, kernel_size=(3, 3), stride=(1, 1), padding=(1, 1), bias=False)\n",
            "      (bn1): BatchNorm2d(256, eps=1e-05, momentum=0.1, affine=True, track_running_stats=True)\n",
            "      (relu): ReLU(inplace=True)\n",
            "      (conv2): Conv2d(256, 256, kernel_size=(3, 3), stride=(1, 1), padding=(1, 1), bias=False)\n",
            "      (bn2): BatchNorm2d(256, eps=1e-05, momentum=0.1, affine=True, track_running_stats=True)\n",
            "    )\n",
            "    (3): BasicBlock(\n",
            "      (conv1): Conv2d(256, 256, kernel_size=(3, 3), stride=(1, 1), padding=(1, 1), bias=False)\n",
            "      (bn1): BatchNorm2d(256, eps=1e-05, momentum=0.1, affine=True, track_running_stats=True)\n",
            "      (relu): ReLU(inplace=True)\n",
            "      (conv2): Conv2d(256, 256, kernel_size=(3, 3), stride=(1, 1), padding=(1, 1), bias=False)\n",
            "      (bn2): BatchNorm2d(256, eps=1e-05, momentum=0.1, affine=True, track_running_stats=True)\n",
            "    )\n",
            "    (4): BasicBlock(\n",
            "      (conv1): Conv2d(256, 256, kernel_size=(3, 3), stride=(1, 1), padding=(1, 1), bias=False)\n",
            "      (bn1): BatchNorm2d(256, eps=1e-05, momentum=0.1, affine=True, track_running_stats=True)\n",
            "      (relu): ReLU(inplace=True)\n",
            "      (conv2): Conv2d(256, 256, kernel_size=(3, 3), stride=(1, 1), padding=(1, 1), bias=False)\n",
            "      (bn2): BatchNorm2d(256, eps=1e-05, momentum=0.1, affine=True, track_running_stats=True)\n",
            "    )\n",
            "    (5): BasicBlock(\n",
            "      (conv1): Conv2d(256, 256, kernel_size=(3, 3), stride=(1, 1), padding=(1, 1), bias=False)\n",
            "      (bn1): BatchNorm2d(256, eps=1e-05, momentum=0.1, affine=True, track_running_stats=True)\n",
            "      (relu): ReLU(inplace=True)\n",
            "      (conv2): Conv2d(256, 256, kernel_size=(3, 3), stride=(1, 1), padding=(1, 1), bias=False)\n",
            "      (bn2): BatchNorm2d(256, eps=1e-05, momentum=0.1, affine=True, track_running_stats=True)\n",
            "    )\n",
            "  )\n",
            "  (layer4): Sequential(\n",
            "    (0): BasicBlock(\n",
            "      (conv1): Conv2d(256, 512, kernel_size=(3, 3), stride=(2, 2), padding=(1, 1), bias=False)\n",
            "      (bn1): BatchNorm2d(512, eps=1e-05, momentum=0.1, affine=True, track_running_stats=True)\n",
            "      (relu): ReLU(inplace=True)\n",
            "      (conv2): Conv2d(512, 512, kernel_size=(3, 3), stride=(1, 1), padding=(1, 1), bias=False)\n",
            "      (bn2): BatchNorm2d(512, eps=1e-05, momentum=0.1, affine=True, track_running_stats=True)\n",
            "      (downsample): Sequential(\n",
            "        (0): Conv2d(256, 512, kernel_size=(1, 1), stride=(2, 2), bias=False)\n",
            "        (1): BatchNorm2d(512, eps=1e-05, momentum=0.1, affine=True, track_running_stats=True)\n",
            "      )\n",
            "    )\n",
            "    (1): BasicBlock(\n",
            "      (conv1): Conv2d(512, 512, kernel_size=(3, 3), stride=(1, 1), padding=(1, 1), bias=False)\n",
            "      (bn1): BatchNorm2d(512, eps=1e-05, momentum=0.1, affine=True, track_running_stats=True)\n",
            "      (relu): ReLU(inplace=True)\n",
            "      (conv2): Conv2d(512, 512, kernel_size=(3, 3), stride=(1, 1), padding=(1, 1), bias=False)\n",
            "      (bn2): BatchNorm2d(512, eps=1e-05, momentum=0.1, affine=True, track_running_stats=True)\n",
            "    )\n",
            "    (2): BasicBlock(\n",
            "      (conv1): Conv2d(512, 512, kernel_size=(3, 3), stride=(1, 1), padding=(1, 1), bias=False)\n",
            "      (bn1): BatchNorm2d(512, eps=1e-05, momentum=0.1, affine=True, track_running_stats=True)\n",
            "      (relu): ReLU(inplace=True)\n",
            "      (conv2): Conv2d(512, 512, kernel_size=(3, 3), stride=(1, 1), padding=(1, 1), bias=False)\n",
            "      (bn2): BatchNorm2d(512, eps=1e-05, momentum=0.1, affine=True, track_running_stats=True)\n",
            "    )\n",
            "  )\n",
            "  (avgpool): AdaptiveAvgPool2d(output_size=(1, 1))\n",
            "  (fc): Linear(in_features=512, out_features=10, bias=True)\n",
            ")\n"
          ]
        }
      ],
      "source": [
        "# 7. Optimizer, Objective Function 설정하기\n",
        "\n",
        "optimizer = torch.optim.Adam(model.parameters(),lr=0.001)\n",
        "criterion = nn.CrossEntropyLoss()\n",
        "\n",
        "print(model)\n",
        "\n",
        "# Net (\n",
        "#    (fc1) Linear(in_features=784, out_features=512, bias=True)\n",
        "#    (fc2) Linear(in_features=512, out_features=256, bias=True)\n",
        "#    (fc3) Linear(in_features=256, out_features=10, bias=True)\n",
        "# )\n"
      ]
    },
    {
      "cell_type": "code",
      "execution_count": null,
      "metadata": {
        "id": "ITjxraKWQMjC"
      },
      "outputs": [],
      "source": [
        "# 8. MLP 모델 학습을 진행하며 학습 데이터에 대한 모델 성능을 확인하는 함수 정의\n",
        "def train(model, train_loader, optimizer, log_interval):\n",
        "  model.train()\n",
        "  for batch_idx,(image, label) in enumerate(train_loader):\n",
        "    image = image.to(DEVICE)\n",
        "    label = label.to(DEVICE)\n",
        "    optimizer.zero_grad()\n",
        "    output = model(image)\n",
        "    loss = criterion(output, label)\n",
        "    loss. backward()\n",
        "    optimizer.step()\n",
        "\n",
        "    if batch_idx % log_interval == 0:\n",
        "      print(\"Train Epoch: {} [{}/{}({:.0f}%)]\\tTrain Loss: {:.6f}\".format(\n",
        "          Epoch, batch_idx * len(image),\n",
        "          len(train_loader.dataset), 100. * batch_idx / len(train_loader),\n",
        "          loss.item()))"
      ]
    },
    {
      "cell_type": "code",
      "execution_count": null,
      "metadata": {
        "id": "Xtqrq5dnJCJL"
      },
      "outputs": [],
      "source": [
        "# 9. 학습되는 과정 속에서 검증 데이터에 대한 모델 성능을 확인하는 함수 정의\n",
        "def evaluate(model, test_loader):\n",
        "    model.eval()\n",
        "    test_loss = 0\n",
        "    correct =0\n",
        "\n",
        "    with torch.no_grad():\n",
        "      for image, label in test_loader:\n",
        "          image = image.to(DEVICE)\n",
        "          label = label.to(DEVICE)\n",
        "          output = model(image)\n",
        "          test_loss += criterion(output, label).item()\n",
        "          prediction = output.max(1, keepdim = True)[1]\n",
        "          correct += prediction.eq(label.view_as(prediction)).sum().item()\n",
        "    test_loss /= len(test_loader.dataset)\n",
        "    test_accuracy = 100. * correct / len(test_loader.dataset)\n",
        "    return test_loss, test_accuracy\n"
      ]
    },
    {
      "cell_type": "code",
      "execution_count": null,
      "metadata": {
        "colab": {
          "background_save": true,
          "base_uri": "https://localhost:8080/"
        },
        "id": "Rctz7UpdQQcO",
        "outputId": "fbea4429-1e91-44fd-a05d-5ff668259601"
      },
      "outputs": [
        {
          "name": "stdout",
          "output_type": "stream",
          "text": [
            "Train Epoch: 1 [0/50000(0%)]\tTrain Loss: 2.782387\n",
            "Train Epoch: 1 [6400/50000(13%)]\tTrain Loss: 1.916012\n",
            "Train Epoch: 1 [12800/50000(26%)]\tTrain Loss: 1.859912\n",
            "Train Epoch: 1 [19200/50000(38%)]\tTrain Loss: 1.337984\n",
            "Train Epoch: 1 [25600/50000(51%)]\tTrain Loss: 1.546345\n",
            "Train Epoch: 1 [32000/50000(64%)]\tTrain Loss: 1.720192\n",
            "Train Epoch: 1 [38400/50000(77%)]\tTrain Loss: 1.645320\n",
            "Train Epoch: 1 [44800/50000(90%)]\tTrain Loss: 1.384421\n",
            "\n",
            "[EPOCH: 1], \tTest Loss: 0.0485, \tTest Accuracy: 49.03 %\n",
            "\n",
            "Train Epoch: 2 [0/50000(0%)]\tTrain Loss: 1.509261\n",
            "Train Epoch: 2 [6400/50000(13%)]\tTrain Loss: 1.316490\n",
            "Train Epoch: 2 [12800/50000(26%)]\tTrain Loss: 1.136010\n",
            "Train Epoch: 2 [19200/50000(38%)]\tTrain Loss: 1.307865\n",
            "Train Epoch: 2 [25600/50000(51%)]\tTrain Loss: 1.750279\n",
            "Train Epoch: 2 [32000/50000(64%)]\tTrain Loss: 1.042413\n",
            "Train Epoch: 2 [38400/50000(77%)]\tTrain Loss: 1.402939\n",
            "Train Epoch: 2 [44800/50000(90%)]\tTrain Loss: 1.127019\n",
            "\n",
            "[EPOCH: 2], \tTest Loss: 0.0310, \tTest Accuracy: 65.97 %\n",
            "\n",
            "Train Epoch: 3 [0/50000(0%)]\tTrain Loss: 1.125266\n",
            "Train Epoch: 3 [6400/50000(13%)]\tTrain Loss: 0.770031\n",
            "Train Epoch: 3 [12800/50000(26%)]\tTrain Loss: 0.941844\n",
            "Train Epoch: 3 [19200/50000(38%)]\tTrain Loss: 0.737460\n",
            "Train Epoch: 3 [25600/50000(51%)]\tTrain Loss: 1.244808\n",
            "Train Epoch: 3 [32000/50000(64%)]\tTrain Loss: 1.207978\n",
            "Train Epoch: 3 [38400/50000(77%)]\tTrain Loss: 1.239968\n",
            "Train Epoch: 3 [44800/50000(90%)]\tTrain Loss: 1.210419\n",
            "\n",
            "[EPOCH: 3], \tTest Loss: 0.0303, \tTest Accuracy: 67.32 %\n",
            "\n",
            "Train Epoch: 4 [0/50000(0%)]\tTrain Loss: 0.534322\n",
            "Train Epoch: 4 [6400/50000(13%)]\tTrain Loss: 0.585492\n",
            "Train Epoch: 4 [12800/50000(26%)]\tTrain Loss: 1.081557\n",
            "Train Epoch: 4 [19200/50000(38%)]\tTrain Loss: 0.985197\n",
            "Train Epoch: 4 [25600/50000(51%)]\tTrain Loss: 1.266068\n",
            "Train Epoch: 4 [32000/50000(64%)]\tTrain Loss: 0.868299\n",
            "Train Epoch: 4 [38400/50000(77%)]\tTrain Loss: 0.709139\n",
            "Train Epoch: 4 [44800/50000(90%)]\tTrain Loss: 0.744077\n",
            "\n",
            "[EPOCH: 4], \tTest Loss: 0.0294, \tTest Accuracy: 67.89 %\n",
            "\n",
            "Train Epoch: 5 [0/50000(0%)]\tTrain Loss: 0.722646\n",
            "Train Epoch: 5 [6400/50000(13%)]\tTrain Loss: 0.421962\n",
            "Train Epoch: 5 [12800/50000(26%)]\tTrain Loss: 0.839917\n",
            "Train Epoch: 5 [19200/50000(38%)]\tTrain Loss: 1.027907\n",
            "Train Epoch: 5 [25600/50000(51%)]\tTrain Loss: 0.510373\n",
            "Train Epoch: 5 [32000/50000(64%)]\tTrain Loss: 0.662082\n",
            "Train Epoch: 5 [38400/50000(77%)]\tTrain Loss: 0.786464\n",
            "Train Epoch: 5 [44800/50000(90%)]\tTrain Loss: 0.682335\n",
            "\n",
            "[EPOCH: 5], \tTest Loss: 0.0255, \tTest Accuracy: 72.37 %\n",
            "\n",
            "Train Epoch: 6 [0/50000(0%)]\tTrain Loss: 0.991274\n",
            "Train Epoch: 6 [6400/50000(13%)]\tTrain Loss: 0.588130\n",
            "Train Epoch: 6 [12800/50000(26%)]\tTrain Loss: 0.575992\n",
            "Train Epoch: 6 [19200/50000(38%)]\tTrain Loss: 0.501425\n",
            "Train Epoch: 6 [25600/50000(51%)]\tTrain Loss: 0.557928\n",
            "Train Epoch: 6 [32000/50000(64%)]\tTrain Loss: 0.304914\n",
            "Train Epoch: 6 [38400/50000(77%)]\tTrain Loss: 0.696173\n",
            "Train Epoch: 6 [44800/50000(90%)]\tTrain Loss: 0.515301\n",
            "\n",
            "[EPOCH: 6], \tTest Loss: 0.0274, \tTest Accuracy: 70.04 %\n",
            "\n",
            "Train Epoch: 7 [0/50000(0%)]\tTrain Loss: 0.470986\n",
            "Train Epoch: 7 [6400/50000(13%)]\tTrain Loss: 0.463731\n",
            "Train Epoch: 7 [12800/50000(26%)]\tTrain Loss: 0.741506\n",
            "Train Epoch: 7 [19200/50000(38%)]\tTrain Loss: 0.491784\n",
            "Train Epoch: 7 [25600/50000(51%)]\tTrain Loss: 0.546247\n",
            "Train Epoch: 7 [32000/50000(64%)]\tTrain Loss: 0.559581\n",
            "Train Epoch: 7 [38400/50000(77%)]\tTrain Loss: 0.574188\n",
            "Train Epoch: 7 [44800/50000(90%)]\tTrain Loss: 0.486625\n",
            "\n",
            "[EPOCH: 7], \tTest Loss: 0.0240, \tTest Accuracy: 74.23 %\n",
            "\n",
            "Train Epoch: 8 [0/50000(0%)]\tTrain Loss: 0.373623\n",
            "Train Epoch: 8 [6400/50000(13%)]\tTrain Loss: 0.371665\n",
            "Train Epoch: 8 [12800/50000(26%)]\tTrain Loss: 0.297043\n",
            "Train Epoch: 8 [19200/50000(38%)]\tTrain Loss: 0.166619\n",
            "Train Epoch: 8 [25600/50000(51%)]\tTrain Loss: 0.331298\n",
            "Train Epoch: 8 [32000/50000(64%)]\tTrain Loss: 0.484836\n",
            "Train Epoch: 8 [38400/50000(77%)]\tTrain Loss: 0.418314\n",
            "Train Epoch: 8 [44800/50000(90%)]\tTrain Loss: 0.301383\n",
            "\n",
            "[EPOCH: 8], \tTest Loss: 0.0257, \tTest Accuracy: 72.84 %\n",
            "\n",
            "Train Epoch: 9 [0/50000(0%)]\tTrain Loss: 0.667134\n",
            "Train Epoch: 9 [6400/50000(13%)]\tTrain Loss: 0.554648\n",
            "Train Epoch: 9 [12800/50000(26%)]\tTrain Loss: 0.276487\n",
            "Train Epoch: 9 [19200/50000(38%)]\tTrain Loss: 0.195018\n",
            "Train Epoch: 9 [25600/50000(51%)]\tTrain Loss: 0.482911\n",
            "Train Epoch: 9 [32000/50000(64%)]\tTrain Loss: 0.346364\n",
            "Train Epoch: 9 [38400/50000(77%)]\tTrain Loss: 0.285410\n",
            "Train Epoch: 9 [44800/50000(90%)]\tTrain Loss: 0.245104\n",
            "\n",
            "[EPOCH: 9], \tTest Loss: 0.0266, \tTest Accuracy: 73.96 %\n",
            "\n",
            "Train Epoch: 10 [0/50000(0%)]\tTrain Loss: 0.304438\n",
            "Train Epoch: 10 [6400/50000(13%)]\tTrain Loss: 0.120499\n",
            "Train Epoch: 10 [12800/50000(26%)]\tTrain Loss: 0.209356\n",
            "Train Epoch: 10 [19200/50000(38%)]\tTrain Loss: 0.442530\n",
            "Train Epoch: 10 [25600/50000(51%)]\tTrain Loss: 0.398732\n",
            "Train Epoch: 10 [32000/50000(64%)]\tTrain Loss: 0.526461\n",
            "Train Epoch: 10 [38400/50000(77%)]\tTrain Loss: 0.233966\n",
            "Train Epoch: 10 [44800/50000(90%)]\tTrain Loss: 0.246133\n",
            "\n",
            "[EPOCH: 10], \tTest Loss: 0.0225, \tTest Accuracy: 78.04 %\n",
            "\n"
          ]
        }
      ],
      "source": [
        "# 10. MLP 학습을 실행하며 Train , Test set의 Loss 및 Test set Accuracy를 확인\n",
        "for Epoch in range(1,EPOCHS + 1):\n",
        "    train(model, train_loader, optimizer, log_interval = 200)\n",
        "    test_loss, test_accuracy = evaluate(model, test_loader)\n",
        "    print(\"\\n[EPOCH: {}], \\tTest Loss: {:.4f}, \\tTest Accuracy: {:.2f} %\\n\".\n",
        "    format(Epoch, test_loss, test_accuracy))"
      ]
    },
    {
      "cell_type": "code",
      "execution_count": null,
      "metadata": {
        "colab": {
          "background_save": true
        },
        "id": "hHUPcvWqQSlt",
        "outputId": "43425e29-6a12-46bc-9b15-25206270903a"
      },
      "outputs": [
        {
          "name": "stderr",
          "output_type": "stream",
          "text": [
            "/usr/local/lib/python3.10/dist-packages/torchvision/models/_utils.py:223: UserWarning: Arguments other than a weight enum or `None` for 'weights' are deprecated since 0.13 and may be removed in the future. The current behavior is equivalent to passing `weights=ResNet34_Weights.IMAGENET1K_V1`. You can also use `weights=ResNet34_Weights.DEFAULT` to get the most up-to-date weights.\n",
            "  warnings.warn(msg)\n",
            "Downloading: \"https://download.pytorch.org/models/resnet34-b627a593.pth\" to /root/.cache/torch/hub/checkpoints/resnet34-b627a593.pth\n",
            "100%|██████████| 83.3M/83.3M [00:00<00:00, 197MB/s]\n"
          ]
        },
        {
          "name": "stdout",
          "output_type": "stream",
          "text": [
            "Train Epoch: 1 [0/50000(0%)]\tTrain Loss: 2.445264\n",
            "Train Epoch: 1 [6400/50000(13%)]\tTrain Loss: 1.421064\n",
            "Train Epoch: 1 [12800/50000(26%)]\tTrain Loss: 1.546113\n",
            "Train Epoch: 1 [19200/50000(38%)]\tTrain Loss: 1.150633\n",
            "Train Epoch: 1 [25600/50000(51%)]\tTrain Loss: 0.871748\n",
            "Train Epoch: 1 [32000/50000(64%)]\tTrain Loss: 0.960956\n",
            "Train Epoch: 1 [38400/50000(77%)]\tTrain Loss: 0.985834\n",
            "Train Epoch: 1 [44800/50000(90%)]\tTrain Loss: 0.880316\n",
            "\n",
            "[EPOCH: 1], \tTest Loss: 0.0257, \tTest Accuracy: 71.55 %\n",
            "\n",
            "Train Epoch: 2 [0/50000(0%)]\tTrain Loss: 0.636862\n",
            "Train Epoch: 2 [6400/50000(13%)]\tTrain Loss: 1.286201\n",
            "Train Epoch: 2 [12800/50000(26%)]\tTrain Loss: 1.070995\n",
            "Train Epoch: 2 [19200/50000(38%)]\tTrain Loss: 0.441947\n",
            "Train Epoch: 2 [25600/50000(51%)]\tTrain Loss: 0.536101\n",
            "Train Epoch: 2 [32000/50000(64%)]\tTrain Loss: 0.899613\n",
            "Train Epoch: 2 [38400/50000(77%)]\tTrain Loss: 0.928763\n",
            "Train Epoch: 2 [44800/50000(90%)]\tTrain Loss: 0.652242\n",
            "\n",
            "[EPOCH: 2], \tTest Loss: 0.0237, \tTest Accuracy: 74.40 %\n",
            "\n",
            "Train Epoch: 3 [0/50000(0%)]\tTrain Loss: 1.019342\n",
            "Train Epoch: 3 [6400/50000(13%)]\tTrain Loss: 0.782547\n",
            "Train Epoch: 3 [12800/50000(26%)]\tTrain Loss: 0.622665\n",
            "Train Epoch: 3 [19200/50000(38%)]\tTrain Loss: 0.678026\n",
            "Train Epoch: 3 [25600/50000(51%)]\tTrain Loss: 0.461352\n",
            "Train Epoch: 3 [32000/50000(64%)]\tTrain Loss: 0.531717\n",
            "Train Epoch: 3 [38400/50000(77%)]\tTrain Loss: 0.604433\n",
            "Train Epoch: 3 [44800/50000(90%)]\tTrain Loss: 0.293669\n",
            "\n",
            "[EPOCH: 3], \tTest Loss: 0.0206, \tTest Accuracy: 78.21 %\n",
            "\n",
            "Train Epoch: 4 [0/50000(0%)]\tTrain Loss: 0.386211\n",
            "Train Epoch: 4 [6400/50000(13%)]\tTrain Loss: 0.270988\n",
            "Train Epoch: 4 [12800/50000(26%)]\tTrain Loss: 0.433600\n",
            "Train Epoch: 4 [19200/50000(38%)]\tTrain Loss: 0.382678\n",
            "Train Epoch: 4 [25600/50000(51%)]\tTrain Loss: 0.942983\n",
            "Train Epoch: 4 [32000/50000(64%)]\tTrain Loss: 0.974407\n",
            "Train Epoch: 4 [38400/50000(77%)]\tTrain Loss: 0.743859\n",
            "Train Epoch: 4 [44800/50000(90%)]\tTrain Loss: 0.771650\n",
            "\n",
            "[EPOCH: 4], \tTest Loss: 0.0198, \tTest Accuracy: 79.21 %\n",
            "\n",
            "Train Epoch: 5 [0/50000(0%)]\tTrain Loss: 0.555740\n",
            "Train Epoch: 5 [6400/50000(13%)]\tTrain Loss: 0.419149\n",
            "Train Epoch: 5 [12800/50000(26%)]\tTrain Loss: 0.136251\n",
            "Train Epoch: 5 [19200/50000(38%)]\tTrain Loss: 0.159359\n",
            "Train Epoch: 5 [25600/50000(51%)]\tTrain Loss: 0.469038\n",
            "Train Epoch: 5 [32000/50000(64%)]\tTrain Loss: 0.397310\n",
            "Train Epoch: 5 [38400/50000(77%)]\tTrain Loss: 0.469945\n",
            "Train Epoch: 5 [44800/50000(90%)]\tTrain Loss: 0.695742\n",
            "\n",
            "[EPOCH: 5], \tTest Loss: 0.3557, \tTest Accuracy: 27.66 %\n",
            "\n",
            "Train Epoch: 6 [0/50000(0%)]\tTrain Loss: 1.265486\n",
            "Train Epoch: 6 [6400/50000(13%)]\tTrain Loss: 0.778064\n",
            "Train Epoch: 6 [12800/50000(26%)]\tTrain Loss: 0.341011\n",
            "Train Epoch: 6 [19200/50000(38%)]\tTrain Loss: 0.384259\n",
            "Train Epoch: 6 [25600/50000(51%)]\tTrain Loss: 0.481399\n",
            "Train Epoch: 6 [32000/50000(64%)]\tTrain Loss: 0.318390\n",
            "Train Epoch: 6 [38400/50000(77%)]\tTrain Loss: 0.153593\n",
            "Train Epoch: 6 [44800/50000(90%)]\tTrain Loss: 0.172897\n",
            "\n",
            "[EPOCH: 6], \tTest Loss: 0.0221, \tTest Accuracy: 79.22 %\n",
            "\n",
            "Train Epoch: 7 [0/50000(0%)]\tTrain Loss: 0.151134\n",
            "Train Epoch: 7 [6400/50000(13%)]\tTrain Loss: 0.579573\n",
            "Train Epoch: 7 [12800/50000(26%)]\tTrain Loss: 0.353501\n",
            "Train Epoch: 7 [19200/50000(38%)]\tTrain Loss: 0.086296\n",
            "Train Epoch: 7 [25600/50000(51%)]\tTrain Loss: 0.329013\n",
            "Train Epoch: 7 [32000/50000(64%)]\tTrain Loss: 1.531549\n",
            "Train Epoch: 7 [38400/50000(77%)]\tTrain Loss: 0.665883\n",
            "Train Epoch: 7 [44800/50000(90%)]\tTrain Loss: 0.562039\n",
            "\n",
            "[EPOCH: 7], \tTest Loss: 0.0200, \tTest Accuracy: 79.55 %\n",
            "\n",
            "Train Epoch: 8 [0/50000(0%)]\tTrain Loss: 0.124376\n",
            "Train Epoch: 8 [6400/50000(13%)]\tTrain Loss: 0.226001\n",
            "Train Epoch: 8 [12800/50000(26%)]\tTrain Loss: 0.323032\n",
            "Train Epoch: 8 [19200/50000(38%)]\tTrain Loss: 0.164292\n",
            "Train Epoch: 8 [25600/50000(51%)]\tTrain Loss: 0.168827\n",
            "Train Epoch: 8 [32000/50000(64%)]\tTrain Loss: 0.235219\n",
            "Train Epoch: 8 [38400/50000(77%)]\tTrain Loss: 0.216662\n",
            "Train Epoch: 8 [44800/50000(90%)]\tTrain Loss: 0.205254\n",
            "\n",
            "[EPOCH: 8], \tTest Loss: 0.0238, \tTest Accuracy: 77.97 %\n",
            "\n",
            "Train Epoch: 9 [0/50000(0%)]\tTrain Loss: 0.118902\n",
            "Train Epoch: 9 [6400/50000(13%)]\tTrain Loss: 0.241724\n",
            "Train Epoch: 9 [12800/50000(26%)]\tTrain Loss: 0.098124\n",
            "Train Epoch: 9 [19200/50000(38%)]\tTrain Loss: 0.033012\n",
            "Train Epoch: 9 [25600/50000(51%)]\tTrain Loss: 0.204653\n",
            "Train Epoch: 9 [32000/50000(64%)]\tTrain Loss: 0.203871\n",
            "Train Epoch: 9 [38400/50000(77%)]\tTrain Loss: 0.286555\n",
            "Train Epoch: 9 [44800/50000(90%)]\tTrain Loss: 0.152333\n",
            "\n",
            "[EPOCH: 9], \tTest Loss: 0.0217, \tTest Accuracy: 79.49 %\n",
            "\n",
            "Train Epoch: 10 [0/50000(0%)]\tTrain Loss: 0.208660\n",
            "Train Epoch: 10 [6400/50000(13%)]\tTrain Loss: 0.233000\n",
            "Train Epoch: 10 [12800/50000(26%)]\tTrain Loss: 0.246292\n",
            "Train Epoch: 10 [19200/50000(38%)]\tTrain Loss: 0.086683\n",
            "Train Epoch: 10 [25600/50000(51%)]\tTrain Loss: 0.445778\n",
            "Train Epoch: 10 [32000/50000(64%)]\tTrain Loss: 0.134023\n",
            "Train Epoch: 10 [38400/50000(77%)]\tTrain Loss: 0.057699\n",
            "Train Epoch: 10 [44800/50000(90%)]\tTrain Loss: 0.083168\n",
            "\n",
            "[EPOCH: 10], \tTest Loss: 0.0286, \tTest Accuracy: 75.80 %\n",
            "\n"
          ]
        }
      ],
      "source": [
        "# 11. ImageNet 데이터로 학습된 ResNet34 모델 불러온 후 Fine-tuning 해보기\n",
        "import torchvision.models as models\n",
        "model = models.resnet34(pretrained = True)\n",
        "num_ftrs = model.fc.in_features\n",
        "model.fc = nn.Linear(num_ftrs, 10)\n",
        "model.to(DEVICE)\n",
        "optimizer = torch.optim.Adam(model.parameters(),lr=0.001)\n",
        "\n",
        "for Epoch in range(1,EPOCHS + 1):\n",
        "    train(model, train_loader, optimizer, log_interval = 200)\n",
        "    test_loss, test_accuracy = evaluate(model, test_loader)\n",
        "    print(\"\\n[EPOCH: {}], \\tTest Loss: {:.4f}, \\tTest Accuracy: {:.2f} %\\n\".\n",
        "    format(Epoch, test_loss, test_accuracy))\n"
      ]
    },
    {
      "cell_type": "markdown",
      "metadata": {
        "id": "EdZbicCVT7pT"
      },
      "source": [
        "#[예제 4-6] 대용량의 데이터를 이용해 학습이 완료된 모델을 적은 수의 데이터에 맞게 Fine- tuning하는 Transfer Learning 실습하기"
      ]
    },
    {
      "cell_type": "code",
      "execution_count": null,
      "metadata": {
        "id": "hmDNCpfTUCdf"
      },
      "outputs": [],
      "source": [
        "# 1. module import\n",
        "import numpy as np\n",
        "import matplotlib.pyplot as plt\n",
        "\n",
        "import torch\n",
        "import torch.nn as nn\n",
        "import torch.nn.functional as F\n",
        "from torchvision import transforms, datasets"
      ]
    },
    {
      "cell_type": "code",
      "execution_count": null,
      "metadata": {
        "id": "wNoOv6FdUIe_",
        "colab": {
          "base_uri": "https://localhost:8080/"
        },
        "outputId": "94a0c65f-5ff9-4062-9d7c-d7d91370649d"
      },
      "outputs": [
        {
          "output_type": "stream",
          "name": "stdout",
          "text": [
            "Using PyTorch version: 2.4.1+cu121 Device: cpu\n"
          ]
        }
      ],
      "source": [
        "# 2. 딥러닝 모델 설계 시 활용 장비 확인\n",
        "if torch.cuda.is_available():\n",
        "  DEVICE = torch.device('cuda')\n",
        "else:\n",
        "  DEVICE = torch.device('cpu')\n",
        "\n",
        "print('Using PyTorch version:', torch.__version__, 'Device:', DEVICE)\n",
        "# Using PyTorch version: 1.5.0+cu101 Device: cuda"
      ]
    },
    {
      "cell_type": "code",
      "execution_count": null,
      "metadata": {
        "id": "VxIbcnsRUIdT"
      },
      "outputs": [],
      "source": [
        "BATCH_SIZE = 32\n",
        "EPOCHS = 10"
      ]
    },
    {
      "cell_type": "code",
      "source": [
        "!wget --no-check-certificate https://download.pytorch.org/tutorial/hymenoptera_data.zip\n",
        "\n",
        "import zipfile\n",
        "\n",
        "zip_file = 'hymenoptera_data.zip'\n",
        "zip_ref = zipfile.ZipFile(zip_file, 'r')\n",
        "zip_ref.extractall('./data')\n",
        "zip_ref.close()\n",
        "\n",
        "!rm hymenoptera_data.zip"
      ],
      "metadata": {
        "colab": {
          "base_uri": "https://localhost:8080/"
        },
        "id": "Uz_CF1cIrqZ7",
        "outputId": "602d3acd-307a-41de-fbe2-bbd55a87b104"
      },
      "execution_count": null,
      "outputs": [
        {
          "output_type": "stream",
          "name": "stdout",
          "text": [
            "--2024-09-30 16:06:42--  https://download.pytorch.org/tutorial/hymenoptera_data.zip\n",
            "Resolving download.pytorch.org (download.pytorch.org)... 3.167.99.82, 3.167.99.89, 3.167.99.125, ...\n",
            "Connecting to download.pytorch.org (download.pytorch.org)|3.167.99.82|:443... connected.\n",
            "HTTP request sent, awaiting response... 200 OK\n",
            "Length: 47286322 (45M) [application/zip]\n",
            "Saving to: ‘hymenoptera_data.zip’\n",
            "\n",
            "hymenoptera_data.zi 100%[===================>]  45.10M  76.2MB/s    in 0.6s    \n",
            "\n",
            "2024-09-30 16:06:43 (76.2 MB/s) - ‘hymenoptera_data.zip’ saved [47286322/47286322]\n",
            "\n"
          ]
        }
      ]
    },
    {
      "cell_type": "code",
      "execution_count": null,
      "metadata": {
        "id": "qc9WFZwIUIbW"
      },
      "outputs": [],
      "source": [
        "#3. 개미와 벌을 분류하기 위해 개미 이미지 데이터와 벌 이미지 데이터 불러오기(Train set, Test set 분리)\n",
        "import os\n",
        "data_transforms = {\n",
        "    'train':transforms.Compose([\n",
        "        transforms.RandomResizedCrop(224),\n",
        "        transforms.RandomHorizontalFlip(),\n",
        "        transforms.ToTensor(),\n",
        "        transforms.Normalize([0.5,0.5,0.5],[0.5,0.5,0.5])\n",
        "    ]),\n",
        "\n",
        "    'val': transforms.Compose([\n",
        "        transforms.CenterCrop(224),\n",
        "        transforms.Resize(256),\n",
        "        transforms.ToTensor(),\n",
        "        transforms.Normalize([0.5,0.5,0.5],[0.5,0.5,0.5])\n",
        "    ]),\n",
        "}\n",
        "\n",
        "\n",
        "data_dir = 'data/hymenoptera_data'\n",
        "image_datasets = {x: datasets.ImageFolder(os.path.join(data_dir, x),\n",
        "           data_transforms[x]) for x in ['train', 'val']}\n",
        "dataloaders = {x: torch.utils.data.DataLoader(image_datasets[x],\n",
        "            batch_size = BATCH_SIZE,\n",
        "            num_workers = 0,\n",
        "            shuffle = True) for x in ['train', 'val']}\n"
      ]
    },
    {
      "cell_type": "code",
      "execution_count": null,
      "metadata": {
        "id": "cgerteBFUIZj",
        "colab": {
          "base_uri": "https://localhost:8080/"
        },
        "outputId": "1bae6e89-e726-40b7-fd44-92bc2839c91c"
      },
      "outputs": [
        {
          "output_type": "stream",
          "name": "stdout",
          "text": [
            "X_train: torch.Size([32, 3, 224, 224]) type: torch.FloatTensor\n",
            "y_train: torch.Size([32]) type: torch.LongTensor\n"
          ]
        }
      ],
      "source": [
        "#4. 데이터 확인(1)\n",
        "for (X_train, y_train) in dataloaders['train']:\n",
        "  print('X_train:', X_train.size( ), 'type:', X_train.type())\n",
        "  print('y_train:', y_train.size( ), 'type:', y_train.type())\n",
        "  break\n",
        "\n",
        "## X_train: torch. Size([32, 3, 224, 224]) type: torch.FloatTensor\n",
        "## y_train: torch. Size([32]) type: torch.LongTensor"
      ]
    },
    {
      "cell_type": "code",
      "execution_count": null,
      "metadata": {
        "id": "gHsOoOwtUIXs",
        "colab": {
          "base_uri": "https://localhost:8080/",
          "height": 304
        },
        "outputId": "4274b5f6-18b8-46cb-f34d-4bfd1ea335f5"
      },
      "outputs": [
        {
          "output_type": "stream",
          "name": "stderr",
          "text": [
            "WARNING:matplotlib.image:Clipping input data to the valid range for imshow with RGB data ([0..1] for floats or [0..255] for integers).\n",
            "WARNING:matplotlib.image:Clipping input data to the valid range for imshow with RGB data ([0..1] for floats or [0..255] for integers).\n",
            "WARNING:matplotlib.image:Clipping input data to the valid range for imshow with RGB data ([0..1] for floats or [0..255] for integers).\n",
            "WARNING:matplotlib.image:Clipping input data to the valid range for imshow with RGB data ([0..1] for floats or [0..255] for integers).\n",
            "WARNING:matplotlib.image:Clipping input data to the valid range for imshow with RGB data ([0..1] for floats or [0..255] for integers).\n",
            "WARNING:matplotlib.image:Clipping input data to the valid range for imshow with RGB data ([0..1] for floats or [0..255] for integers).\n",
            "WARNING:matplotlib.image:Clipping input data to the valid range for imshow with RGB data ([0..1] for floats or [0..255] for integers).\n",
            "WARNING:matplotlib.image:Clipping input data to the valid range for imshow with RGB data ([0..1] for floats or [0..255] for integers).\n",
            "WARNING:matplotlib.image:Clipping input data to the valid range for imshow with RGB data ([0..1] for floats or [0..255] for integers).\n",
            "WARNING:matplotlib.image:Clipping input data to the valid range for imshow with RGB data ([0..1] for floats or [0..255] for integers).\n"
          ]
        },
        {
          "output_type": "display_data",
          "data": {
            "text/plain": [
              "<Figure size 1000x100 with 10 Axes>"
            ],
            "image/png": "[encoded data removed]"
          },
          "metadata": {}
        }
      ],
      "source": [
        "# 5. 데이터 확인하기(2)\n",
        "pltsize = 1\n",
        "plt.figure(figsize=(10 * pltsize, pltsize))\n",
        "\n",
        "for i in range(10):\n",
        "  plt.subplot(1, 10, i + 1)\n",
        "  plt.axis ('off')\n",
        "  plt.imshow(np.transpose(X_train[i],(1,2,0)))\n",
        "  plt.title('Class: ' + str(y_train[i].item()))"
      ]
    },
    {
      "cell_type": "code",
      "execution_count": null,
      "metadata": {
        "id": "6KXJtei4UIV8"
      },
      "outputs": [],
      "source": [
        "# 6. 불러온 특정 모델 학습을 진행하며 학습 데이터에 대한 모델 성능을 확인하는 함수 정의\n",
        "def train(model, train_loader, optimizer, log_interval):\n",
        "  model.train()\n",
        "  for batch_idx,(image, label) in enumerate(train_loader):\n",
        "    image = image.to(DEVICE)\n",
        "    label = label.to(DEVICE)\n",
        "    optimizer.zero_grad()\n",
        "    output = model(image)\n",
        "    loss = criterion(output, label)\n",
        "    loss. backward()\n",
        "    optimizer.step()\n",
        "\n",
        "    if batch_idx % log_interval == 0:\n",
        "      print(\"Train Epoch: {} [{}/{}({:.0f}%)]\\tTrain Loss: {:.6f}\".format(\n",
        "          Epoch, batch_idx * len(image),\n",
        "          len(train_loader.dataset), 100. * batch_idx / len(train_loader),\n",
        "          loss.item()))"
      ]
    },
    {
      "cell_type": "code",
      "execution_count": null,
      "metadata": {
        "id": "wkhZUZu4XH6_"
      },
      "outputs": [],
      "source": [
        "# 7. 학습되는 과정 속에서 검증 데이터에 대한 모델 성능을 확인하는 함수 정의\n",
        "def evaluate(model, test_loader):\n",
        "    model.eval()\n",
        "    test_loss = 0\n",
        "    correct =0\n",
        "\n",
        "    with torch.no_grad():\n",
        "      for image, label in test_loader:\n",
        "          image = image.to(DEVICE)\n",
        "          label = label.to(DEVICE)\n",
        "          output = model(image)\n",
        "          test_loss += criterion(output, label).item()\n",
        "          prediction = output.max(1, keepdim = True)[1]\n",
        "          correct += prediction.eq(label.view_as(prediction)).sum().item()\n",
        "\n",
        "    test_loss /= len(test_loader.dataset)\n",
        "    test_accuracy = 100. * correct / len(test_loader.dataset)\n",
        "    return test_loss, test_accuracy\n"
      ]
    },
    {
      "cell_type": "code",
      "execution_count": null,
      "metadata": {
        "id": "nBKPT-eZXH5E",
        "colab": {
          "base_uri": "https://localhost:8080/"
        },
        "outputId": "ba4faae3-127c-4ce9-8ac7-3438261b2ace"
      },
      "outputs": [
        {
          "output_type": "execute_result",
          "data": {
            "text/plain": [
              "ResNet(\n",
              "  (conv1): Conv2d(3, 64, kernel_size=(7, 7), stride=(2, 2), padding=(3, 3), bias=False)\n",
              "  (bn1): BatchNorm2d(64, eps=1e-05, momentum=0.1, affine=True, track_running_stats=True)\n",
              "  (relu): ReLU(inplace=True)\n",
              "  (maxpool): MaxPool2d(kernel_size=3, stride=2, padding=1, dilation=1, ceil_mode=False)\n",
              "  (layer1): Sequential(\n",
              "    (0): BasicBlock(\n",
              "      (conv1): Conv2d(64, 64, kernel_size=(3, 3), stride=(1, 1), padding=(1, 1), bias=False)\n",
              "      (bn1): BatchNorm2d(64, eps=1e-05, momentum=0.1, affine=True, track_running_stats=True)\n",
              "      (relu): ReLU(inplace=True)\n",
              "      (conv2): Conv2d(64, 64, kernel_size=(3, 3), stride=(1, 1), padding=(1, 1), bias=False)\n",
              "      (bn2): BatchNorm2d(64, eps=1e-05, momentum=0.1, affine=True, track_running_stats=True)\n",
              "    )\n",
              "    (1): BasicBlock(\n",
              "      (conv1): Conv2d(64, 64, kernel_size=(3, 3), stride=(1, 1), padding=(1, 1), bias=False)\n",
              "      (bn1): BatchNorm2d(64, eps=1e-05, momentum=0.1, affine=True, track_running_stats=True)\n",
              "      (relu): ReLU(inplace=True)\n",
              "      (conv2): Conv2d(64, 64, kernel_size=(3, 3), stride=(1, 1), padding=(1, 1), bias=False)\n",
              "      (bn2): BatchNorm2d(64, eps=1e-05, momentum=0.1, affine=True, track_running_stats=True)\n",
              "    )\n",
              "  )\n",
              "  (layer2): Sequential(\n",
              "    (0): BasicBlock(\n",
              "      (conv1): Conv2d(64, 128, kernel_size=(3, 3), stride=(2, 2), padding=(1, 1), bias=False)\n",
              "      (bn1): BatchNorm2d(128, eps=1e-05, momentum=0.1, affine=True, track_running_stats=True)\n",
              "      (relu): ReLU(inplace=True)\n",
              "      (conv2): Conv2d(128, 128, kernel_size=(3, 3), stride=(1, 1), padding=(1, 1), bias=False)\n",
              "      (bn2): BatchNorm2d(128, eps=1e-05, momentum=0.1, affine=True, track_running_stats=True)\n",
              "      (downsample): Sequential(\n",
              "        (0): Conv2d(64, 128, kernel_size=(1, 1), stride=(2, 2), bias=False)\n",
              "        (1): BatchNorm2d(128, eps=1e-05, momentum=0.1, affine=True, track_running_stats=True)\n",
              "      )\n",
              "    )\n",
              "    (1): BasicBlock(\n",
              "      (conv1): Conv2d(128, 128, kernel_size=(3, 3), stride=(1, 1), padding=(1, 1), bias=False)\n",
              "      (bn1): BatchNorm2d(128, eps=1e-05, momentum=0.1, affine=True, track_running_stats=True)\n",
              "      (relu): ReLU(inplace=True)\n",
              "      (conv2): Conv2d(128, 128, kernel_size=(3, 3), stride=(1, 1), padding=(1, 1), bias=False)\n",
              "      (bn2): BatchNorm2d(128, eps=1e-05, momentum=0.1, affine=True, track_running_stats=True)\n",
              "    )\n",
              "  )\n",
              "  (layer3): Sequential(\n",
              "    (0): BasicBlock(\n",
              "      (conv1): Conv2d(128, 256, kernel_size=(3, 3), stride=(2, 2), padding=(1, 1), bias=False)\n",
              "      (bn1): BatchNorm2d(256, eps=1e-05, momentum=0.1, affine=True, track_running_stats=True)\n",
              "      (relu): ReLU(inplace=True)\n",
              "      (conv2): Conv2d(256, 256, kernel_size=(3, 3), stride=(1, 1), padding=(1, 1), bias=False)\n",
              "      (bn2): BatchNorm2d(256, eps=1e-05, momentum=0.1, affine=True, track_running_stats=True)\n",
              "      (downsample): Sequential(\n",
              "        (0): Conv2d(128, 256, kernel_size=(1, 1), stride=(2, 2), bias=False)\n",
              "        (1): BatchNorm2d(256, eps=1e-05, momentum=0.1, affine=True, track_running_stats=True)\n",
              "      )\n",
              "    )\n",
              "    (1): BasicBlock(\n",
              "      (conv1): Conv2d(256, 256, kernel_size=(3, 3), stride=(1, 1), padding=(1, 1), bias=False)\n",
              "      (bn1): BatchNorm2d(256, eps=1e-05, momentum=0.1, affine=True, track_running_stats=True)\n",
              "      (relu): ReLU(inplace=True)\n",
              "      (conv2): Conv2d(256, 256, kernel_size=(3, 3), stride=(1, 1), padding=(1, 1), bias=False)\n",
              "      (bn2): BatchNorm2d(256, eps=1e-05, momentum=0.1, affine=True, track_running_stats=True)\n",
              "    )\n",
              "  )\n",
              "  (layer4): Sequential(\n",
              "    (0): BasicBlock(\n",
              "      (conv1): Conv2d(256, 512, kernel_size=(3, 3), stride=(2, 2), padding=(1, 1), bias=False)\n",
              "      (bn1): BatchNorm2d(512, eps=1e-05, momentum=0.1, affine=True, track_running_stats=True)\n",
              "      (relu): ReLU(inplace=True)\n",
              "      (conv2): Conv2d(512, 512, kernel_size=(3, 3), stride=(1, 1), padding=(1, 1), bias=False)\n",
              "      (bn2): BatchNorm2d(512, eps=1e-05, momentum=0.1, affine=True, track_running_stats=True)\n",
              "      (downsample): Sequential(\n",
              "        (0): Conv2d(256, 512, kernel_size=(1, 1), stride=(2, 2), bias=False)\n",
              "        (1): BatchNorm2d(512, eps=1e-05, momentum=0.1, affine=True, track_running_stats=True)\n",
              "      )\n",
              "    )\n",
              "    (1): BasicBlock(\n",
              "      (conv1): Conv2d(512, 512, kernel_size=(3, 3), stride=(1, 1), padding=(1, 1), bias=False)\n",
              "      (bn1): BatchNorm2d(512, eps=1e-05, momentum=0.1, affine=True, track_running_stats=True)\n",
              "      (relu): ReLU(inplace=True)\n",
              "      (conv2): Conv2d(512, 512, kernel_size=(3, 3), stride=(1, 1), padding=(1, 1), bias=False)\n",
              "      (bn2): BatchNorm2d(512, eps=1e-05, momentum=0.1, affine=True, track_running_stats=True)\n",
              "    )\n",
              "  )\n",
              "  (avgpool): AdaptiveAvgPool2d(output_size=(1, 1))\n",
              "  (fc): Linear(in_features=512, out_features=2, bias=True)\n",
              ")"
            ]
          },
          "metadata": {},
          "execution_count": 42
        }
      ],
      "source": [
        "# 8. 파이토치 내에서 제공하는 미리 학습되지 않은 ResNet18 모델 불러온 후 Output 크기 설정\n",
        "import torchvision.models as models\n",
        "model = models.resnet18(pretrained = False)\n",
        "num_ftrs = model.fc.in_features\n",
        "model.fc = nn.Linear(num_ftrs, 2)\n",
        "model.to(DEVICE)\n",
        "\n",
        "#model.to(DEVICE)\n",
        "\n"
      ]
    },
    {
      "cell_type": "code",
      "execution_count": null,
      "metadata": {
        "id": "SSWR3LSgXH3E",
        "colab": {
          "base_uri": "https://localhost:8080/"
        },
        "outputId": "fa4f9390-b8be-4949-c269-19fc815356bc"
      },
      "outputs": [
        {
          "output_type": "stream",
          "name": "stdout",
          "text": [
            "ResNet(\n",
            "  (conv1): Conv2d(3, 64, kernel_size=(7, 7), stride=(2, 2), padding=(3, 3), bias=False)\n",
            "  (bn1): BatchNorm2d(64, eps=1e-05, momentum=0.1, affine=True, track_running_stats=True)\n",
            "  (relu): ReLU(inplace=True)\n",
            "  (maxpool): MaxPool2d(kernel_size=3, stride=2, padding=1, dilation=1, ceil_mode=False)\n",
            "  (layer1): Sequential(\n",
            "    (0): BasicBlock(\n",
            "      (conv1): Conv2d(64, 64, kernel_size=(3, 3), stride=(1, 1), padding=(1, 1), bias=False)\n",
            "      (bn1): BatchNorm2d(64, eps=1e-05, momentum=0.1, affine=True, track_running_stats=True)\n",
            "      (relu): ReLU(inplace=True)\n",
            "      (conv2): Conv2d(64, 64, kernel_size=(3, 3), stride=(1, 1), padding=(1, 1), bias=False)\n",
            "      (bn2): BatchNorm2d(64, eps=1e-05, momentum=0.1, affine=True, track_running_stats=True)\n",
            "    )\n",
            "    (1): BasicBlock(\n",
            "      (conv1): Conv2d(64, 64, kernel_size=(3, 3), stride=(1, 1), padding=(1, 1), bias=False)\n",
            "      (bn1): BatchNorm2d(64, eps=1e-05, momentum=0.1, affine=True, track_running_stats=True)\n",
            "      (relu): ReLU(inplace=True)\n",
            "      (conv2): Conv2d(64, 64, kernel_size=(3, 3), stride=(1, 1), padding=(1, 1), bias=False)\n",
            "      (bn2): BatchNorm2d(64, eps=1e-05, momentum=0.1, affine=True, track_running_stats=True)\n",
            "    )\n",
            "  )\n",
            "  (layer2): Sequential(\n",
            "    (0): BasicBlock(\n",
            "      (conv1): Conv2d(64, 128, kernel_size=(3, 3), stride=(2, 2), padding=(1, 1), bias=False)\n",
            "      (bn1): BatchNorm2d(128, eps=1e-05, momentum=0.1, affine=True, track_running_stats=True)\n",
            "      (relu): ReLU(inplace=True)\n",
            "      (conv2): Conv2d(128, 128, kernel_size=(3, 3), stride=(1, 1), padding=(1, 1), bias=False)\n",
            "      (bn2): BatchNorm2d(128, eps=1e-05, momentum=0.1, affine=True, track_running_stats=True)\n",
            "      (downsample): Sequential(\n",
            "        (0): Conv2d(64, 128, kernel_size=(1, 1), stride=(2, 2), bias=False)\n",
            "        (1): BatchNorm2d(128, eps=1e-05, momentum=0.1, affine=True, track_running_stats=True)\n",
            "      )\n",
            "    )\n",
            "    (1): BasicBlock(\n",
            "      (conv1): Conv2d(128, 128, kernel_size=(3, 3), stride=(1, 1), padding=(1, 1), bias=False)\n",
            "      (bn1): BatchNorm2d(128, eps=1e-05, momentum=0.1, affine=True, track_running_stats=True)\n",
            "      (relu): ReLU(inplace=True)\n",
            "      (conv2): Conv2d(128, 128, kernel_size=(3, 3), stride=(1, 1), padding=(1, 1), bias=False)\n",
            "      (bn2): BatchNorm2d(128, eps=1e-05, momentum=0.1, affine=True, track_running_stats=True)\n",
            "    )\n",
            "  )\n",
            "  (layer3): Sequential(\n",
            "    (0): BasicBlock(\n",
            "      (conv1): Conv2d(128, 256, kernel_size=(3, 3), stride=(2, 2), padding=(1, 1), bias=False)\n",
            "      (bn1): BatchNorm2d(256, eps=1e-05, momentum=0.1, affine=True, track_running_stats=True)\n",
            "      (relu): ReLU(inplace=True)\n",
            "      (conv2): Conv2d(256, 256, kernel_size=(3, 3), stride=(1, 1), padding=(1, 1), bias=False)\n",
            "      (bn2): BatchNorm2d(256, eps=1e-05, momentum=0.1, affine=True, track_running_stats=True)\n",
            "      (downsample): Sequential(\n",
            "        (0): Conv2d(128, 256, kernel_size=(1, 1), stride=(2, 2), bias=False)\n",
            "        (1): BatchNorm2d(256, eps=1e-05, momentum=0.1, affine=True, track_running_stats=True)\n",
            "      )\n",
            "    )\n",
            "    (1): BasicBlock(\n",
            "      (conv1): Conv2d(256, 256, kernel_size=(3, 3), stride=(1, 1), padding=(1, 1), bias=False)\n",
            "      (bn1): BatchNorm2d(256, eps=1e-05, momentum=0.1, affine=True, track_running_stats=True)\n",
            "      (relu): ReLU(inplace=True)\n",
            "      (conv2): Conv2d(256, 256, kernel_size=(3, 3), stride=(1, 1), padding=(1, 1), bias=False)\n",
            "      (bn2): BatchNorm2d(256, eps=1e-05, momentum=0.1, affine=True, track_running_stats=True)\n",
            "    )\n",
            "  )\n",
            "  (layer4): Sequential(\n",
            "    (0): BasicBlock(\n",
            "      (conv1): Conv2d(256, 512, kernel_size=(3, 3), stride=(2, 2), padding=(1, 1), bias=False)\n",
            "      (bn1): BatchNorm2d(512, eps=1e-05, momentum=0.1, affine=True, track_running_stats=True)\n",
            "      (relu): ReLU(inplace=True)\n",
            "      (conv2): Conv2d(512, 512, kernel_size=(3, 3), stride=(1, 1), padding=(1, 1), bias=False)\n",
            "      (bn2): BatchNorm2d(512, eps=1e-05, momentum=0.1, affine=True, track_running_stats=True)\n",
            "      (downsample): Sequential(\n",
            "        (0): Conv2d(256, 512, kernel_size=(1, 1), stride=(2, 2), bias=False)\n",
            "        (1): BatchNorm2d(512, eps=1e-05, momentum=0.1, affine=True, track_running_stats=True)\n",
            "      )\n",
            "    )\n",
            "    (1): BasicBlock(\n",
            "      (conv1): Conv2d(512, 512, kernel_size=(3, 3), stride=(1, 1), padding=(1, 1), bias=False)\n",
            "      (bn1): BatchNorm2d(512, eps=1e-05, momentum=0.1, affine=True, track_running_stats=True)\n",
            "      (relu): ReLU(inplace=True)\n",
            "      (conv2): Conv2d(512, 512, kernel_size=(3, 3), stride=(1, 1), padding=(1, 1), bias=False)\n",
            "      (bn2): BatchNorm2d(512, eps=1e-05, momentum=0.1, affine=True, track_running_stats=True)\n",
            "    )\n",
            "  )\n",
            "  (avgpool): AdaptiveAvgPool2d(output_size=(1, 1))\n",
            "  (fc): Linear(in_features=512, out_features=2, bias=True)\n",
            ")\n"
          ]
        }
      ],
      "source": [
        "# 9. Optimizer, Objective Function 설정하기\n",
        "\n",
        "optimizer = torch.optim.Adam(model.parameters(),lr=0.001)\n",
        "criterion = nn.CrossEntropyLoss()\n",
        "\n",
        "print(model)"
      ]
    },
    {
      "cell_type": "code",
      "execution_count": null,
      "metadata": {
        "id": "7Ya3J7H2XH1J",
        "colab": {
          "base_uri": "https://localhost:8080/"
        },
        "outputId": "dbc4b6df-c213-46ee-a996-193552f7658b"
      },
      "outputs": [
        {
          "output_type": "stream",
          "name": "stdout",
          "text": [
            "Train Epoch: 1 [0/244(0%)]\tTrain Loss: 0.735139\n",
            "Train Epoch: 1 [160/244(62%)]\tTrain Loss: 0.762399\n",
            "\n",
            "[EPOCH: 1], \tTest Loss: 0.1567, \tTest Accuracy: 55.56 %\n",
            "\n",
            "Train Epoch: 2 [0/244(0%)]\tTrain Loss: 0.748964\n",
            "Train Epoch: 2 [160/244(62%)]\tTrain Loss: 0.618288\n",
            "\n",
            "[EPOCH: 2], \tTest Loss: 0.0548, \tTest Accuracy: 59.48 %\n",
            "\n",
            "Train Epoch: 3 [0/244(0%)]\tTrain Loss: 0.603566\n",
            "Train Epoch: 3 [160/244(62%)]\tTrain Loss: 0.638922\n",
            "\n",
            "[EPOCH: 3], \tTest Loss: 0.0254, \tTest Accuracy: 60.13 %\n",
            "\n",
            "Train Epoch: 4 [0/244(0%)]\tTrain Loss: 0.630720\n",
            "Train Epoch: 4 [160/244(62%)]\tTrain Loss: 0.614407\n",
            "\n",
            "[EPOCH: 4], \tTest Loss: 0.0337, \tTest Accuracy: 63.40 %\n",
            "\n",
            "Train Epoch: 5 [0/244(0%)]\tTrain Loss: 0.609406\n",
            "Train Epoch: 5 [160/244(62%)]\tTrain Loss: 0.540107\n",
            "\n",
            "[EPOCH: 5], \tTest Loss: 0.0301, \tTest Accuracy: 66.01 %\n",
            "\n",
            "Train Epoch: 6 [0/244(0%)]\tTrain Loss: 0.717778\n",
            "Train Epoch: 6 [160/244(62%)]\tTrain Loss: 0.541823\n",
            "\n",
            "[EPOCH: 6], \tTest Loss: 0.0313, \tTest Accuracy: 47.06 %\n",
            "\n",
            "Train Epoch: 7 [0/244(0%)]\tTrain Loss: 0.623531\n",
            "Train Epoch: 7 [160/244(62%)]\tTrain Loss: 0.522063\n",
            "\n",
            "[EPOCH: 7], \tTest Loss: 0.0206, \tTest Accuracy: 64.71 %\n",
            "\n",
            "Train Epoch: 8 [0/244(0%)]\tTrain Loss: 0.468345\n",
            "Train Epoch: 8 [160/244(62%)]\tTrain Loss: 0.588610\n",
            "\n",
            "[EPOCH: 8], \tTest Loss: 0.0189, \tTest Accuracy: 67.32 %\n",
            "\n",
            "Train Epoch: 9 [0/244(0%)]\tTrain Loss: 0.420099\n",
            "Train Epoch: 9 [160/244(62%)]\tTrain Loss: 0.583197\n",
            "\n",
            "[EPOCH: 9], \tTest Loss: 0.0179, \tTest Accuracy: 75.16 %\n",
            "\n",
            "Train Epoch: 10 [0/244(0%)]\tTrain Loss: 0.475385\n",
            "Train Epoch: 10 [160/244(62%)]\tTrain Loss: 0.590212\n",
            "\n",
            "[EPOCH: 10], \tTest Loss: 0.0188, \tTest Accuracy: 67.97 %\n",
            "\n"
          ]
        }
      ],
      "source": [
        "# 10. 미리 학습되지 않은 ResNet18 학습을 실행하며 Train , Test set의 Loss 및 Test set Accuracy를 확인\n",
        "for Epoch in range(1,EPOCHS + 1):\n",
        "    train(model, dataloaders[\"train\"], optimizer, log_interval = 5)\n",
        "    test_loss, test_accuracy = evaluate(model, dataloaders[\"val\"])\n",
        "    print(\"\\n[EPOCH: {}], \\tTest Loss: {:.4f}, \\tTest Accuracy: {:.2f} %\\n\".\n",
        "    format(Epoch, test_loss, test_accuracy))"
      ]
    },
    {
      "cell_type": "code",
      "execution_count": null,
      "metadata": {
        "id": "mg9-DvphYTA5",
        "colab": {
          "base_uri": "https://localhost:8080/"
        },
        "outputId": "45e55c0b-6221-43a1-a758-4e5757584f62"
      },
      "outputs": [
        {
          "output_type": "stream",
          "name": "stderr",
          "text": [
            "/usr/local/lib/python3.10/dist-packages/torchvision/models/_utils.py:223: UserWarning: Arguments other than a weight enum or `None` for 'weights' are deprecated since 0.13 and may be removed in the future. The current behavior is equivalent to passing `weights=ResNet18_Weights.IMAGENET1K_V1`. You can also use `weights=ResNet18_Weights.DEFAULT` to get the most up-to-date weights.\n",
            "  warnings.warn(msg)\n",
            "Downloading: \"https://download.pytorch.org/models/resnet18-f37072fd.pth\" to /root/.cache/torch/hub/checkpoints/resnet18-f37072fd.pth\n",
            "100%|██████████| 44.7M/44.7M [00:00<00:00, 103MB/s]\n"
          ]
        },
        {
          "output_type": "stream",
          "name": "stdout",
          "text": [
            "Train Epoch: 1 [0/244(0%)]\tTrain Loss: 0.681059\n",
            "Train Epoch: 1 [160/244(62%)]\tTrain Loss: 1.049430\n",
            "\n",
            "[EPOCH: 1], \tTest Loss: 0.1334, \tTest Accuracy: 67.97 %\n",
            "\n",
            "Train Epoch: 2 [0/244(0%)]\tTrain Loss: 0.728613\n",
            "Train Epoch: 2 [160/244(62%)]\tTrain Loss: 0.922054\n",
            "\n",
            "[EPOCH: 2], \tTest Loss: 0.0764, \tTest Accuracy: 67.97 %\n",
            "\n",
            "Train Epoch: 3 [0/244(0%)]\tTrain Loss: 0.349718\n",
            "Train Epoch: 3 [160/244(62%)]\tTrain Loss: 0.196524\n",
            "\n",
            "[EPOCH: 3], \tTest Loss: 0.2867, \tTest Accuracy: 67.97 %\n",
            "\n",
            "Train Epoch: 4 [0/244(0%)]\tTrain Loss: 0.505687\n",
            "Train Epoch: 4 [160/244(62%)]\tTrain Loss: 0.304863\n",
            "\n",
            "[EPOCH: 4], \tTest Loss: 0.0386, \tTest Accuracy: 67.97 %\n",
            "\n",
            "Train Epoch: 5 [0/244(0%)]\tTrain Loss: 0.334383\n",
            "Train Epoch: 5 [160/244(62%)]\tTrain Loss: 0.298021\n",
            "\n",
            "[EPOCH: 5], \tTest Loss: 0.0152, \tTest Accuracy: 67.97 %\n",
            "\n",
            "Train Epoch: 6 [0/244(0%)]\tTrain Loss: 0.228321\n",
            "Train Epoch: 6 [160/244(62%)]\tTrain Loss: 0.108515\n",
            "\n",
            "[EPOCH: 6], \tTest Loss: 0.0289, \tTest Accuracy: 67.97 %\n",
            "\n",
            "Train Epoch: 7 [0/244(0%)]\tTrain Loss: 0.109426\n",
            "Train Epoch: 7 [160/244(62%)]\tTrain Loss: 0.423384\n",
            "\n",
            "[EPOCH: 7], \tTest Loss: 0.0161, \tTest Accuracy: 67.97 %\n",
            "\n",
            "Train Epoch: 8 [0/244(0%)]\tTrain Loss: 0.178548\n",
            "Train Epoch: 8 [160/244(62%)]\tTrain Loss: 0.281422\n",
            "\n",
            "[EPOCH: 8], \tTest Loss: 0.0381, \tTest Accuracy: 67.97 %\n",
            "\n",
            "Train Epoch: 9 [0/244(0%)]\tTrain Loss: 0.191542\n",
            "Train Epoch: 9 [160/244(62%)]\tTrain Loss: 0.360464\n",
            "\n",
            "[EPOCH: 9], \tTest Loss: 0.0106, \tTest Accuracy: 67.97 %\n",
            "\n",
            "Train Epoch: 10 [0/244(0%)]\tTrain Loss: 0.239427\n",
            "Train Epoch: 10 [160/244(62%)]\tTrain Loss: 0.200574\n",
            "\n",
            "[EPOCH: 10], \tTest Loss: 0.0109, \tTest Accuracy: 67.97 %\n",
            "\n"
          ]
        }
      ],
      "source": [
        "# 11. ImageNet 데이터로 미리 학습된 ResNet18 모델 불러온 후 개미,벌 이미지 데이터에 맞게 Fine-tuning 해보기\n",
        "\n",
        "model = models.resnet18(pretrained = True)\n",
        "num_ftrs = model.fc.in_features\n",
        "model.fc = nn.Linear(num_ftrs, 2)\n",
        "model.to(DEVICE)\n",
        "\n",
        "optimizer = torch.optim.Adam(model.parameters(),lr=0.001)\n",
        "EPOCHS = 10\n",
        "for Epoch in range(1,EPOCHS + 1):\n",
        "    train(model, dataloaders[\"train\"], optimizer, log_interval = 5)\n",
        "\n",
        "    valid_loss, valid_accuracy = evaluate(model, dataloaders[\"val\"])\n",
        "    print(\"\\n[EPOCH: {}], \\tTest Loss: {:.4f}, \\tTest Accuracy: {:.2f} %\\n\".\n",
        "          format(Epoch, valid_loss, test_accuracy))\n"
      ]
    },
    {
      "cell_type": "markdown",
      "source": [
        "# 추가문제(빈칸)"
      ],
      "metadata": {
        "id": "lpTvIxxE2F7M"
      }
    },
    {
      "cell_type": "code",
      "source": [
        "import os\n",
        "import numpy as np\n",
        "import matplotlib.pyplot as plt\n",
        "\n",
        "import torch\n",
        "import torch.nn as nn\n",
        "import torch.nn.functional as F\n",
        "from torchvision import transforms, datasets\n",
        "\n",
        "if torch.cuda.is_available():\n",
        "    DEVICE = torch.device('cuda')\n",
        "else:\n",
        "    DEVICE = torch.device('cpu')\n",
        "\n",
        "print('Using PyTorch version:', torch.__version__, ' Device:', DEVICE)\n",
        "\n",
        "BATCH_SIZE = 32\n",
        "EPOCHS = 10\n",
        "\n",
        "!wget --no-check-certificate https://download.pytorch.org/tutorial/hymenoptera_data.zip\n",
        "\n",
        "import zipfile\n",
        "\n",
        "zip_file = 'hymenoptera_data.zip'\n",
        "zip_ref = zipfile.ZipFile(zip_file, 'r')\n",
        "zip_ref.extractall('./data')\n",
        "zip_ref.close()\n",
        "\n",
        "!rm hymenoptera_data.zip\n",
        "\n",
        "#####################################################################################################\n",
        "## 문제 1. 다음과 같은 요구 사항을 만족하는 이미지 전처리 파이프라인을 구성하는 코드를 작성하세요. ##\n",
        "## < 요구사항 >                                                                                    ##\n",
        "## (1) 훈련 데이터 : 이미지를 무작위로 자르고 크기를 224x224로 조정 & 이미지를 좌우로 무작위 반전  ##\n",
        "##                 & 각 채널(빨강, 초록, 파랑)의 평균과 표준편차를 [0.5, 0.5, 0.5]로 정규화        ##\n",
        "## (2) 검증 데이터 : 이미지를 가운데 부분만 자르고 크기를 224x224로 설정 & 이미지의 크기는 256x256 ##\n",
        "##                 & 각 채널(빨강, 초록, 파랑)의 평균과 표준편차를 [0.5, 0.5, 0.5]로 정규화        ##\n",
        "#####################################################################################################\n",
        "\n",
        "#####################################################################################################\n",
        "data_transforms = {\n",
        "    'train': transforms.Compose([\n",
        "        transforms.RandomResizedCrop(224),\n",
        "        transforms.RandomHorizontalFlip(),\n",
        "        transforms.ToTensor(),\n",
        "        transforms.Normalize([0.5, 0.5, 0.5], [0.5, 0.5, 0.5])\n",
        "    ]),\n",
        "    'val': transforms.Compose([\n",
        "        transforms.CenterCrop(224),\n",
        "        transforms.Resize(256),\n",
        "        transforms.ToTensor(),\n",
        "        transforms.Normalize([0.5, 0.5, 0.5], [0.5, 0.5, 0.5])\n",
        "    ]),\n",
        "}\n",
        "#####################################################################################################\n",
        "\n",
        "data_dir = 'data/hymenoptera_data'\n",
        "image_datasets = {x: datasets.ImageFolder(os.path.join(data_dir, x),\n",
        "           data_transforms[x]) for x in ['train', 'val']}\n",
        "dataloaders = {x: torch.utils.data.DataLoader(image_datasets[x],\n",
        "            batch_size = BATCH_SIZE,\n",
        "            num_workers = 0,\n",
        "            shuffle = True) for x in ['train', 'val']}\n",
        "\n",
        "##############################################################################################################################################\n",
        "## 문제 2. 다음의 예시처럼 나오도록 모델 학습 및 평가 함수를 작성하세요.                                                                    ##\n",
        "## < 출력 예시 >                                                                                                                            ##\n",
        "## Train Epoch: 1 [1280/60000 (2%)]    Train Loss: 0.645321                                                                                 ##\n",
        "## Train Epoch: 1 [2560/60000 (4%)]    Train Loss: 0.612456                                                                                 ##\n",
        "## ...                                                                                                                                      ##\n",
        "## [EPOCH: 1],    Test Loss: 0.5123,    Test Accuracy: 82.45%                                                                               ##\n",
        "##                                                                                                                                          ##\n",
        "## < 힌트 >                                                                                                                                 ##\n",
        "## 1. model.train()과 model.eval()을 통해 모델의 모드를 설정할 수 있습니다.                                                                 ##\n",
        "## 2. 모델이 여러 출력을 반환하는 경우, 첫 번째 출력만 사용하여 손실을 계산하세요. [if isinstance(outputs, tuple)를 사용하세요]             ##\n",
        "## 3. 학습할 때는 옵티마이저의 기울기를 초기화하고, backward 함수를 통해 기울기를 계산한 후 옵티마이저로 가중치를 업데이트하세요.           ##\n",
        "## 4. 평가할 때는 torch.no_grad()를 사용하여 기울기를 계산하지 않도록 설정하세요.                                                           ##\n",
        "## 5. 특정 간격마다 학습 상태를 출력하세요.                                                                                                 ##\n",
        "##############################################################################################################################################\n",
        "\n",
        "##############################################################################################################################################\n",
        "def train(model, train_loader, optimizer, log_interval):\n",
        "    model.train()\n",
        "    for batch_idx, (image, label) in enumerate(train_loader):\n",
        "        image = image.to(DEVICE)\n",
        "        label = label.to(DEVICE)\n",
        "        optimizer.zero_grad()\n",
        "\n",
        "        outputs = model(image)\n",
        "        if isinstance(outputs, tuple):\n",
        "            output = outputs[0]\n",
        "        else:\n",
        "            output = outputs\n",
        "\n",
        "        loss = criterion(output, label)\n",
        "        loss.backward()\n",
        "        optimizer.step()\n",
        "\n",
        "        if batch_idx % log_interval == 0:\n",
        "            print(\"Train Epoch: {} [{}/{} ({:.0f}%)]\\tTrain Loss: {:.6f}\".format(\n",
        "                epoch, batch_idx * len(image),\n",
        "                len(train_loader.dataset), 100. * batch_idx / len(train_loader),\n",
        "                loss.item()))\n",
        "\n",
        "def evaluate(model, test_loader):\n",
        "    model.eval()\n",
        "    test_loss = 0\n",
        "    correct = 0\n",
        "\n",
        "    with torch.no_grad():\n",
        "        for image, label in test_loader:\n",
        "            image = image.to(DEVICE)\n",
        "            label = label.to(DEVICE)\n",
        "\n",
        "            outputs = model(image)\n",
        "            if isinstance(outputs, tuple):\n",
        "                output = outputs[0]\n",
        "            else:\n",
        "                output = outputs\n",
        "\n",
        "            test_loss += criterion(output, label).item()\n",
        "            prediction = output.max(1, keepdim=True)[1]\n",
        "            correct += prediction.eq(label.view_as(prediction)).sum().item()\n",
        "\n",
        "    test_loss /= len(test_loader.dataset)\n",
        "    test_accuracy = 100. * correct / len(test_loader.dataset)\n",
        "    return test_loss, test_accuracy\n",
        "##############################################################################################################################################\n",
        "\n",
        "import torchvision.models as models\n",
        "model = models.googlenet(pretrained=False)  # GoogLeNet instead of ResNet18\n",
        "num_ftrs = model.fc.in_features\n",
        "model.fc = nn.Linear(num_ftrs, 2)\n",
        "model.to(DEVICE)\n",
        "\n",
        "optimizer = torch.optim.Adam(model.parameters(), lr=0.0001)\n",
        "criterion = nn.CrossEntropyLoss()\n",
        "\n",
        "print(model)\n",
        "\n",
        "print('미리 학습되지 않은 GoogLeNet 학습을 실행하며 Test set의 Loss와 Accuracy 확인하기 \\n')\n",
        "\n",
        "for epoch in range(1, EPOCHS + 1):\n",
        "    train(model, dataloaders[\"train\"], optimizer, log_interval=5)\n",
        "    test_loss, test_accuracy = evaluate(model, dataloaders[\"val\"])\n",
        "    print('\\n[EPOCH: {}], \\tTest Loss: {:.4f}, \\tTest Accuracy: {:.2f} % \\n'.format(epoch, test_loss, test_accuracy))\n",
        "\n",
        "model = models.googlenet(pretrained=True)\n",
        "num_ftrs = model.fc.in_features\n",
        "model.fc = nn.Linear(num_ftrs, 2)\n",
        "model.to(DEVICE)\n",
        "\n",
        "optimizer = torch.optim.Adam(model.parameters(), lr=0.0001)\n",
        "\n",
        "for epoch in range(1, EPOCHS + 1):\n",
        "    train(model, dataloaders[\"train\"], optimizer, log_interval=5)\n",
        "    valid_loss, valid_accuracy = evaluate(model, dataloaders[\"val\"])\n",
        "    print(\"\\n[EPOCH: {}], \\tTest Loss: {:.4f}, \\tTest Accuracy: {:.2f}% \\n\".format(epoch, valid_loss, valid_accuracy))\n",
        ""
      ],
      "metadata": {
        "colab": {
          "base_uri": "https://localhost:8080/"
        },
        "id": "kq9giBhb1lty",
        "outputId": "1b2d9e30-9d73-44d0-9abd-f502e0c109e5"
      },
      "execution_count": 53,
      "outputs": [
        {
          "output_type": "stream",
          "name": "stdout",
          "text": [
            "Using PyTorch version: 2.4.1+cu121  Device: cpu\n",
            "--2024-09-30 17:12:04--  https://download.pytorch.org/tutorial/hymenoptera_data.zip\n",
            "Resolving download.pytorch.org (download.pytorch.org)... 3.168.73.122, 3.168.73.93, 3.168.73.5, ...\n",
            "Connecting to download.pytorch.org (download.pytorch.org)|3.168.73.122|:443... connected.\n",
            "HTTP request sent, awaiting response... 200 OK\n",
            "Length: 47286322 (45M) [application/zip]\n",
            "Saving to: ‘hymenoptera_data.zip’\n",
            "\n",
            "hymenoptera_data.zi 100%[===================>]  45.10M   154MB/s    in 0.3s    \n",
            "\n",
            "2024-09-30 17:12:05 (154 MB/s) - ‘hymenoptera_data.zip’ saved [47286322/47286322]\n",
            "\n",
            "GoogLeNet(\n",
            "  (conv1): BasicConv2d(\n",
            "    (conv): Conv2d(3, 64, kernel_size=(7, 7), stride=(2, 2), padding=(3, 3), bias=False)\n",
            "    (bn): BatchNorm2d(64, eps=0.001, momentum=0.1, affine=True, track_running_stats=True)\n",
            "  )\n",
            "  (maxpool1): MaxPool2d(kernel_size=3, stride=2, padding=0, dilation=1, ceil_mode=True)\n",
            "  (conv2): BasicConv2d(\n",
            "    (conv): Conv2d(64, 64, kernel_size=(1, 1), stride=(1, 1), bias=False)\n",
            "    (bn): BatchNorm2d(64, eps=0.001, momentum=0.1, affine=True, track_running_stats=True)\n",
            "  )\n",
            "  (conv3): BasicConv2d(\n",
            "    (conv): Conv2d(64, 192, kernel_size=(3, 3), stride=(1, 1), padding=(1, 1), bias=False)\n",
            "    (bn): BatchNorm2d(192, eps=0.001, momentum=0.1, affine=True, track_running_stats=True)\n",
            "  )\n",
            "  (maxpool2): MaxPool2d(kernel_size=3, stride=2, padding=0, dilation=1, ceil_mode=True)\n",
            "  (inception3a): Inception(\n",
            "    (branch1): BasicConv2d(\n",
            "      (conv): Conv2d(192, 64, kernel_size=(1, 1), stride=(1, 1), bias=False)\n",
            "      (bn): BatchNorm2d(64, eps=0.001, momentum=0.1, affine=True, track_running_stats=True)\n",
            "    )\n",
            "    (branch2): Sequential(\n",
            "      (0): BasicConv2d(\n",
            "        (conv): Conv2d(192, 96, kernel_size=(1, 1), stride=(1, 1), bias=False)\n",
            "        (bn): BatchNorm2d(96, eps=0.001, momentum=0.1, affine=True, track_running_stats=True)\n",
            "      )\n",
            "      (1): BasicConv2d(\n",
            "        (conv): Conv2d(96, 128, kernel_size=(3, 3), stride=(1, 1), padding=(1, 1), bias=False)\n",
            "        (bn): BatchNorm2d(128, eps=0.001, momentum=0.1, affine=True, track_running_stats=True)\n",
            "      )\n",
            "    )\n",
            "    (branch3): Sequential(\n",
            "      (0): BasicConv2d(\n",
            "        (conv): Conv2d(192, 16, kernel_size=(1, 1), stride=(1, 1), bias=False)\n",
            "        (bn): BatchNorm2d(16, eps=0.001, momentum=0.1, affine=True, track_running_stats=True)\n",
            "      )\n",
            "      (1): BasicConv2d(\n",
            "        (conv): Conv2d(16, 32, kernel_size=(3, 3), stride=(1, 1), padding=(1, 1), bias=False)\n",
            "        (bn): BatchNorm2d(32, eps=0.001, momentum=0.1, affine=True, track_running_stats=True)\n",
            "      )\n",
            "    )\n",
            "    (branch4): Sequential(\n",
            "      (0): MaxPool2d(kernel_size=3, stride=1, padding=1, dilation=1, ceil_mode=True)\n",
            "      (1): BasicConv2d(\n",
            "        (conv): Conv2d(192, 32, kernel_size=(1, 1), stride=(1, 1), bias=False)\n",
            "        (bn): BatchNorm2d(32, eps=0.001, momentum=0.1, affine=True, track_running_stats=True)\n",
            "      )\n",
            "    )\n",
            "  )\n",
            "  (inception3b): Inception(\n",
            "    (branch1): BasicConv2d(\n",
            "      (conv): Conv2d(256, 128, kernel_size=(1, 1), stride=(1, 1), bias=False)\n",
            "      (bn): BatchNorm2d(128, eps=0.001, momentum=0.1, affine=True, track_running_stats=True)\n",
            "    )\n",
            "    (branch2): Sequential(\n",
            "      (0): BasicConv2d(\n",
            "        (conv): Conv2d(256, 128, kernel_size=(1, 1), stride=(1, 1), bias=False)\n",
            "        (bn): BatchNorm2d(128, eps=0.001, momentum=0.1, affine=True, track_running_stats=True)\n",
            "      )\n",
            "      (1): BasicConv2d(\n",
            "        (conv): Conv2d(128, 192, kernel_size=(3, 3), stride=(1, 1), padding=(1, 1), bias=False)\n",
            "        (bn): BatchNorm2d(192, eps=0.001, momentum=0.1, affine=True, track_running_stats=True)\n",
            "      )\n",
            "    )\n",
            "    (branch3): Sequential(\n",
            "      (0): BasicConv2d(\n",
            "        (conv): Conv2d(256, 32, kernel_size=(1, 1), stride=(1, 1), bias=False)\n",
            "        (bn): BatchNorm2d(32, eps=0.001, momentum=0.1, affine=True, track_running_stats=True)\n",
            "      )\n",
            "      (1): BasicConv2d(\n",
            "        (conv): Conv2d(32, 96, kernel_size=(3, 3), stride=(1, 1), padding=(1, 1), bias=False)\n",
            "        (bn): BatchNorm2d(96, eps=0.001, momentum=0.1, affine=True, track_running_stats=True)\n",
            "      )\n",
            "    )\n",
            "    (branch4): Sequential(\n",
            "      (0): MaxPool2d(kernel_size=3, stride=1, padding=1, dilation=1, ceil_mode=True)\n",
            "      (1): BasicConv2d(\n",
            "        (conv): Conv2d(256, 64, kernel_size=(1, 1), stride=(1, 1), bias=False)\n",
            "        (bn): BatchNorm2d(64, eps=0.001, momentum=0.1, affine=True, track_running_stats=True)\n",
            "      )\n",
            "    )\n",
            "  )\n",
            "  (maxpool3): MaxPool2d(kernel_size=3, stride=2, padding=0, dilation=1, ceil_mode=True)\n",
            "  (inception4a): Inception(\n",
            "    (branch1): BasicConv2d(\n",
            "      (conv): Conv2d(480, 192, kernel_size=(1, 1), stride=(1, 1), bias=False)\n",
            "      (bn): BatchNorm2d(192, eps=0.001, momentum=0.1, affine=True, track_running_stats=True)\n",
            "    )\n",
            "    (branch2): Sequential(\n",
            "      (0): BasicConv2d(\n",
            "        (conv): Conv2d(480, 96, kernel_size=(1, 1), stride=(1, 1), bias=False)\n",
            "        (bn): BatchNorm2d(96, eps=0.001, momentum=0.1, affine=True, track_running_stats=True)\n",
            "      )\n",
            "      (1): BasicConv2d(\n",
            "        (conv): Conv2d(96, 208, kernel_size=(3, 3), stride=(1, 1), padding=(1, 1), bias=False)\n",
            "        (bn): BatchNorm2d(208, eps=0.001, momentum=0.1, affine=True, track_running_stats=True)\n",
            "      )\n",
            "    )\n",
            "    (branch3): Sequential(\n",
            "      (0): BasicConv2d(\n",
            "        (conv): Conv2d(480, 16, kernel_size=(1, 1), stride=(1, 1), bias=False)\n",
            "        (bn): BatchNorm2d(16, eps=0.001, momentum=0.1, affine=True, track_running_stats=True)\n",
            "      )\n",
            "      (1): BasicConv2d(\n",
            "        (conv): Conv2d(16, 48, kernel_size=(3, 3), stride=(1, 1), padding=(1, 1), bias=False)\n",
            "        (bn): BatchNorm2d(48, eps=0.001, momentum=0.1, affine=True, track_running_stats=True)\n",
            "      )\n",
            "    )\n",
            "    (branch4): Sequential(\n",
            "      (0): MaxPool2d(kernel_size=3, stride=1, padding=1, dilation=1, ceil_mode=True)\n",
            "      (1): BasicConv2d(\n",
            "        (conv): Conv2d(480, 64, kernel_size=(1, 1), stride=(1, 1), bias=False)\n",
            "        (bn): BatchNorm2d(64, eps=0.001, momentum=0.1, affine=True, track_running_stats=True)\n",
            "      )\n",
            "    )\n",
            "  )\n",
            "  (inception4b): Inception(\n",
            "    (branch1): BasicConv2d(\n",
            "      (conv): Conv2d(512, 160, kernel_size=(1, 1), stride=(1, 1), bias=False)\n",
            "      (bn): BatchNorm2d(160, eps=0.001, momentum=0.1, affine=True, track_running_stats=True)\n",
            "    )\n",
            "    (branch2): Sequential(\n",
            "      (0): BasicConv2d(\n",
            "        (conv): Conv2d(512, 112, kernel_size=(1, 1), stride=(1, 1), bias=False)\n",
            "        (bn): BatchNorm2d(112, eps=0.001, momentum=0.1, affine=True, track_running_stats=True)\n",
            "      )\n",
            "      (1): BasicConv2d(\n",
            "        (conv): Conv2d(112, 224, kernel_size=(3, 3), stride=(1, 1), padding=(1, 1), bias=False)\n",
            "        (bn): BatchNorm2d(224, eps=0.001, momentum=0.1, affine=True, track_running_stats=True)\n",
            "      )\n",
            "    )\n",
            "    (branch3): Sequential(\n",
            "      (0): BasicConv2d(\n",
            "        (conv): Conv2d(512, 24, kernel_size=(1, 1), stride=(1, 1), bias=False)\n",
            "        (bn): BatchNorm2d(24, eps=0.001, momentum=0.1, affine=True, track_running_stats=True)\n",
            "      )\n",
            "      (1): BasicConv2d(\n",
            "        (conv): Conv2d(24, 64, kernel_size=(3, 3), stride=(1, 1), padding=(1, 1), bias=False)\n",
            "        (bn): BatchNorm2d(64, eps=0.001, momentum=0.1, affine=True, track_running_stats=True)\n",
            "      )\n",
            "    )\n",
            "    (branch4): Sequential(\n",
            "      (0): MaxPool2d(kernel_size=3, stride=1, padding=1, dilation=1, ceil_mode=True)\n",
            "      (1): BasicConv2d(\n",
            "        (conv): Conv2d(512, 64, kernel_size=(1, 1), stride=(1, 1), bias=False)\n",
            "        (bn): BatchNorm2d(64, eps=0.001, momentum=0.1, affine=True, track_running_stats=True)\n",
            "      )\n",
            "    )\n",
            "  )\n",
            "  (inception4c): Inception(\n",
            "    (branch1): BasicConv2d(\n",
            "      (conv): Conv2d(512, 128, kernel_size=(1, 1), stride=(1, 1), bias=False)\n",
            "      (bn): BatchNorm2d(128, eps=0.001, momentum=0.1, affine=True, track_running_stats=True)\n",
            "    )\n",
            "    (branch2): Sequential(\n",
            "      (0): BasicConv2d(\n",
            "        (conv): Conv2d(512, 128, kernel_size=(1, 1), stride=(1, 1), bias=False)\n",
            "        (bn): BatchNorm2d(128, eps=0.001, momentum=0.1, affine=True, track_running_stats=True)\n",
            "      )\n",
            "      (1): BasicConv2d(\n",
            "        (conv): Conv2d(128, 256, kernel_size=(3, 3), stride=(1, 1), padding=(1, 1), bias=False)\n",
            "        (bn): BatchNorm2d(256, eps=0.001, momentum=0.1, affine=True, track_running_stats=True)\n",
            "      )\n",
            "    )\n",
            "    (branch3): Sequential(\n",
            "      (0): BasicConv2d(\n",
            "        (conv): Conv2d(512, 24, kernel_size=(1, 1), stride=(1, 1), bias=False)\n",
            "        (bn): BatchNorm2d(24, eps=0.001, momentum=0.1, affine=True, track_running_stats=True)\n",
            "      )\n",
            "      (1): BasicConv2d(\n",
            "        (conv): Conv2d(24, 64, kernel_size=(3, 3), stride=(1, 1), padding=(1, 1), bias=False)\n",
            "        (bn): BatchNorm2d(64, eps=0.001, momentum=0.1, affine=True, track_running_stats=True)\n",
            "      )\n",
            "    )\n",
            "    (branch4): Sequential(\n",
            "      (0): MaxPool2d(kernel_size=3, stride=1, padding=1, dilation=1, ceil_mode=True)\n",
            "      (1): BasicConv2d(\n",
            "        (conv): Conv2d(512, 64, kernel_size=(1, 1), stride=(1, 1), bias=False)\n",
            "        (bn): BatchNorm2d(64, eps=0.001, momentum=0.1, affine=True, track_running_stats=True)\n",
            "      )\n",
            "    )\n",
            "  )\n",
            "  (inception4d): Inception(\n",
            "    (branch1): BasicConv2d(\n",
            "      (conv): Conv2d(512, 112, kernel_size=(1, 1), stride=(1, 1), bias=False)\n",
            "      (bn): BatchNorm2d(112, eps=0.001, momentum=0.1, affine=True, track_running_stats=True)\n",
            "    )\n",
            "    (branch2): Sequential(\n",
            "      (0): BasicConv2d(\n",
            "        (conv): Conv2d(512, 144, kernel_size=(1, 1), stride=(1, 1), bias=False)\n",
            "        (bn): BatchNorm2d(144, eps=0.001, momentum=0.1, affine=True, track_running_stats=True)\n",
            "      )\n",
            "      (1): BasicConv2d(\n",
            "        (conv): Conv2d(144, 288, kernel_size=(3, 3), stride=(1, 1), padding=(1, 1), bias=False)\n",
            "        (bn): BatchNorm2d(288, eps=0.001, momentum=0.1, affine=True, track_running_stats=True)\n",
            "      )\n",
            "    )\n",
            "    (branch3): Sequential(\n",
            "      (0): BasicConv2d(\n",
            "        (conv): Conv2d(512, 32, kernel_size=(1, 1), stride=(1, 1), bias=False)\n",
            "        (bn): BatchNorm2d(32, eps=0.001, momentum=0.1, affine=True, track_running_stats=True)\n",
            "      )\n",
            "      (1): BasicConv2d(\n",
            "        (conv): Conv2d(32, 64, kernel_size=(3, 3), stride=(1, 1), padding=(1, 1), bias=False)\n",
            "        (bn): BatchNorm2d(64, eps=0.001, momentum=0.1, affine=True, track_running_stats=True)\n",
            "      )\n",
            "    )\n",
            "    (branch4): Sequential(\n",
            "      (0): MaxPool2d(kernel_size=3, stride=1, padding=1, dilation=1, ceil_mode=True)\n",
            "      (1): BasicConv2d(\n",
            "        (conv): Conv2d(512, 64, kernel_size=(1, 1), stride=(1, 1), bias=False)\n",
            "        (bn): BatchNorm2d(64, eps=0.001, momentum=0.1, affine=True, track_running_stats=True)\n",
            "      )\n",
            "    )\n",
            "  )\n",
            "  (inception4e): Inception(\n",
            "    (branch1): BasicConv2d(\n",
            "      (conv): Conv2d(528, 256, kernel_size=(1, 1), stride=(1, 1), bias=False)\n",
            "      (bn): BatchNorm2d(256, eps=0.001, momentum=0.1, affine=True, track_running_stats=True)\n",
            "    )\n",
            "    (branch2): Sequential(\n",
            "      (0): BasicConv2d(\n",
            "        (conv): Conv2d(528, 160, kernel_size=(1, 1), stride=(1, 1), bias=False)\n",
            "        (bn): BatchNorm2d(160, eps=0.001, momentum=0.1, affine=True, track_running_stats=True)\n",
            "      )\n",
            "      (1): BasicConv2d(\n",
            "        (conv): Conv2d(160, 320, kernel_size=(3, 3), stride=(1, 1), padding=(1, 1), bias=False)\n",
            "        (bn): BatchNorm2d(320, eps=0.001, momentum=0.1, affine=True, track_running_stats=True)\n",
            "      )\n",
            "    )\n",
            "    (branch3): Sequential(\n",
            "      (0): BasicConv2d(\n",
            "        (conv): Conv2d(528, 32, kernel_size=(1, 1), stride=(1, 1), bias=False)\n",
            "        (bn): BatchNorm2d(32, eps=0.001, momentum=0.1, affine=True, track_running_stats=True)\n",
            "      )\n",
            "      (1): BasicConv2d(\n",
            "        (conv): Conv2d(32, 128, kernel_size=(3, 3), stride=(1, 1), padding=(1, 1), bias=False)\n",
            "        (bn): BatchNorm2d(128, eps=0.001, momentum=0.1, affine=True, track_running_stats=True)\n",
            "      )\n",
            "    )\n",
            "    (branch4): Sequential(\n",
            "      (0): MaxPool2d(kernel_size=3, stride=1, padding=1, dilation=1, ceil_mode=True)\n",
            "      (1): BasicConv2d(\n",
            "        (conv): Conv2d(528, 128, kernel_size=(1, 1), stride=(1, 1), bias=False)\n",
            "        (bn): BatchNorm2d(128, eps=0.001, momentum=0.1, affine=True, track_running_stats=True)\n",
            "      )\n",
            "    )\n",
            "  )\n",
            "  (maxpool4): MaxPool2d(kernel_size=2, stride=2, padding=0, dilation=1, ceil_mode=True)\n",
            "  (inception5a): Inception(\n",
            "    (branch1): BasicConv2d(\n",
            "      (conv): Conv2d(832, 256, kernel_size=(1, 1), stride=(1, 1), bias=False)\n",
            "      (bn): BatchNorm2d(256, eps=0.001, momentum=0.1, affine=True, track_running_stats=True)\n",
            "    )\n",
            "    (branch2): Sequential(\n",
            "      (0): BasicConv2d(\n",
            "        (conv): Conv2d(832, 160, kernel_size=(1, 1), stride=(1, 1), bias=False)\n",
            "        (bn): BatchNorm2d(160, eps=0.001, momentum=0.1, affine=True, track_running_stats=True)\n",
            "      )\n",
            "      (1): BasicConv2d(\n",
            "        (conv): Conv2d(160, 320, kernel_size=(3, 3), stride=(1, 1), padding=(1, 1), bias=False)\n",
            "        (bn): BatchNorm2d(320, eps=0.001, momentum=0.1, affine=True, track_running_stats=True)\n",
            "      )\n",
            "    )\n",
            "    (branch3): Sequential(\n",
            "      (0): BasicConv2d(\n",
            "        (conv): Conv2d(832, 32, kernel_size=(1, 1), stride=(1, 1), bias=False)\n",
            "        (bn): BatchNorm2d(32, eps=0.001, momentum=0.1, affine=True, track_running_stats=True)\n",
            "      )\n",
            "      (1): BasicConv2d(\n",
            "        (conv): Conv2d(32, 128, kernel_size=(3, 3), stride=(1, 1), padding=(1, 1), bias=False)\n",
            "        (bn): BatchNorm2d(128, eps=0.001, momentum=0.1, affine=True, track_running_stats=True)\n",
            "      )\n",
            "    )\n",
            "    (branch4): Sequential(\n",
            "      (0): MaxPool2d(kernel_size=3, stride=1, padding=1, dilation=1, ceil_mode=True)\n",
            "      (1): BasicConv2d(\n",
            "        (conv): Conv2d(832, 128, kernel_size=(1, 1), stride=(1, 1), bias=False)\n",
            "        (bn): BatchNorm2d(128, eps=0.001, momentum=0.1, affine=True, track_running_stats=True)\n",
            "      )\n",
            "    )\n",
            "  )\n",
            "  (inception5b): Inception(\n",
            "    (branch1): BasicConv2d(\n",
            "      (conv): Conv2d(832, 384, kernel_size=(1, 1), stride=(1, 1), bias=False)\n",
            "      (bn): BatchNorm2d(384, eps=0.001, momentum=0.1, affine=True, track_running_stats=True)\n",
            "    )\n",
            "    (branch2): Sequential(\n",
            "      (0): BasicConv2d(\n",
            "        (conv): Conv2d(832, 192, kernel_size=(1, 1), stride=(1, 1), bias=False)\n",
            "        (bn): BatchNorm2d(192, eps=0.001, momentum=0.1, affine=True, track_running_stats=True)\n",
            "      )\n",
            "      (1): BasicConv2d(\n",
            "        (conv): Conv2d(192, 384, kernel_size=(3, 3), stride=(1, 1), padding=(1, 1), bias=False)\n",
            "        (bn): BatchNorm2d(384, eps=0.001, momentum=0.1, affine=True, track_running_stats=True)\n",
            "      )\n",
            "    )\n",
            "    (branch3): Sequential(\n",
            "      (0): BasicConv2d(\n",
            "        (conv): Conv2d(832, 48, kernel_size=(1, 1), stride=(1, 1), bias=False)\n",
            "        (bn): BatchNorm2d(48, eps=0.001, momentum=0.1, affine=True, track_running_stats=True)\n",
            "      )\n",
            "      (1): BasicConv2d(\n",
            "        (conv): Conv2d(48, 128, kernel_size=(3, 3), stride=(1, 1), padding=(1, 1), bias=False)\n",
            "        (bn): BatchNorm2d(128, eps=0.001, momentum=0.1, affine=True, track_running_stats=True)\n",
            "      )\n",
            "    )\n",
            "    (branch4): Sequential(\n",
            "      (0): MaxPool2d(kernel_size=3, stride=1, padding=1, dilation=1, ceil_mode=True)\n",
            "      (1): BasicConv2d(\n",
            "        (conv): Conv2d(832, 128, kernel_size=(1, 1), stride=(1, 1), bias=False)\n",
            "        (bn): BatchNorm2d(128, eps=0.001, momentum=0.1, affine=True, track_running_stats=True)\n",
            "      )\n",
            "    )\n",
            "  )\n",
            "  (aux1): InceptionAux(\n",
            "    (conv): BasicConv2d(\n",
            "      (conv): Conv2d(512, 128, kernel_size=(1, 1), stride=(1, 1), bias=False)\n",
            "      (bn): BatchNorm2d(128, eps=0.001, momentum=0.1, affine=True, track_running_stats=True)\n",
            "    )\n",
            "    (fc1): Linear(in_features=2048, out_features=1024, bias=True)\n",
            "    (fc2): Linear(in_features=1024, out_features=1000, bias=True)\n",
            "    (dropout): Dropout(p=0.7, inplace=False)\n",
            "  )\n",
            "  (aux2): InceptionAux(\n",
            "    (conv): BasicConv2d(\n",
            "      (conv): Conv2d(528, 128, kernel_size=(1, 1), stride=(1, 1), bias=False)\n",
            "      (bn): BatchNorm2d(128, eps=0.001, momentum=0.1, affine=True, track_running_stats=True)\n",
            "    )\n",
            "    (fc1): Linear(in_features=2048, out_features=1024, bias=True)\n",
            "    (fc2): Linear(in_features=1024, out_features=1000, bias=True)\n",
            "    (dropout): Dropout(p=0.7, inplace=False)\n",
            "  )\n",
            "  (avgpool): AdaptiveAvgPool2d(output_size=(1, 1))\n",
            "  (dropout): Dropout(p=0.2, inplace=False)\n",
            "  (fc): Linear(in_features=1024, out_features=2, bias=True)\n",
            ")\n",
            "미리 학습되지 않은 GoogLeNet 학습을 실행하며 Test set의 Loss와 Accuracy 확인하기 \n",
            "\n",
            "Train Epoch: 1 [0/244 (0%)]\tTrain Loss: 0.665046\n",
            "Train Epoch: 1 [160/244 (62%)]\tTrain Loss: 0.671971\n",
            "\n",
            "[EPOCH: 1], \tTest Loss: 0.0231, \tTest Accuracy: 45.75 % \n",
            "\n",
            "Train Epoch: 2 [0/244 (0%)]\tTrain Loss: 0.543669\n",
            "Train Epoch: 2 [160/244 (62%)]\tTrain Loss: 0.590589\n",
            "\n",
            "[EPOCH: 2], \tTest Loss: 0.0250, \tTest Accuracy: 45.75 % \n",
            "\n",
            "Train Epoch: 3 [0/244 (0%)]\tTrain Loss: 0.509915\n",
            "Train Epoch: 3 [160/244 (62%)]\tTrain Loss: 0.608932\n",
            "\n",
            "[EPOCH: 3], \tTest Loss: 0.0288, \tTest Accuracy: 45.75 % \n",
            "\n",
            "Train Epoch: 4 [0/244 (0%)]\tTrain Loss: 0.539844\n",
            "Train Epoch: 4 [160/244 (62%)]\tTrain Loss: 0.438585\n",
            "\n",
            "[EPOCH: 4], \tTest Loss: 0.0353, \tTest Accuracy: 45.75 % \n",
            "\n",
            "Train Epoch: 5 [0/244 (0%)]\tTrain Loss: 0.474630\n",
            "Train Epoch: 5 [160/244 (62%)]\tTrain Loss: 0.730399\n",
            "\n",
            "[EPOCH: 5], \tTest Loss: 0.0617, \tTest Accuracy: 45.75 % \n",
            "\n",
            "Train Epoch: 6 [0/244 (0%)]\tTrain Loss: 0.594653\n",
            "Train Epoch: 6 [160/244 (62%)]\tTrain Loss: 0.465701\n",
            "\n",
            "[EPOCH: 6], \tTest Loss: 0.0242, \tTest Accuracy: 45.75 % \n",
            "\n",
            "Train Epoch: 7 [0/244 (0%)]\tTrain Loss: 0.573729\n",
            "Train Epoch: 7 [160/244 (62%)]\tTrain Loss: 0.420969\n",
            "\n",
            "[EPOCH: 7], \tTest Loss: 0.0255, \tTest Accuracy: 51.63 % \n",
            "\n",
            "Train Epoch: 8 [0/244 (0%)]\tTrain Loss: 0.379945\n",
            "Train Epoch: 8 [160/244 (62%)]\tTrain Loss: 0.492520\n",
            "\n",
            "[EPOCH: 8], \tTest Loss: 0.0262, \tTest Accuracy: 55.56 % \n",
            "\n",
            "Train Epoch: 9 [0/244 (0%)]\tTrain Loss: 0.396790\n",
            "Train Epoch: 9 [160/244 (62%)]\tTrain Loss: 0.528735\n",
            "\n",
            "[EPOCH: 9], \tTest Loss: 0.0239, \tTest Accuracy: 66.01 % \n",
            "\n",
            "Train Epoch: 10 [0/244 (0%)]\tTrain Loss: 0.318155\n",
            "Train Epoch: 10 [160/244 (62%)]\tTrain Loss: 0.315921\n",
            "\n",
            "[EPOCH: 10], \tTest Loss: 0.0190, \tTest Accuracy: 75.16 % \n",
            "\n",
            "Train Epoch: 1 [0/244 (0%)]\tTrain Loss: 0.771355\n",
            "Train Epoch: 1 [160/244 (62%)]\tTrain Loss: 0.548062\n",
            "\n",
            "[EPOCH: 1], \tTest Loss: 0.0154, \tTest Accuracy: 87.58% \n",
            "\n",
            "Train Epoch: 2 [0/244 (0%)]\tTrain Loss: 0.458821\n",
            "Train Epoch: 2 [160/244 (62%)]\tTrain Loss: 0.383137\n",
            "\n",
            "[EPOCH: 2], \tTest Loss: 0.0105, \tTest Accuracy: 93.46% \n",
            "\n",
            "Train Epoch: 3 [0/244 (0%)]\tTrain Loss: 0.393753\n",
            "Train Epoch: 3 [160/244 (62%)]\tTrain Loss: 0.257519\n",
            "\n",
            "[EPOCH: 3], \tTest Loss: 0.0079, \tTest Accuracy: 94.12% \n",
            "\n",
            "Train Epoch: 4 [0/244 (0%)]\tTrain Loss: 0.160020\n",
            "Train Epoch: 4 [160/244 (62%)]\tTrain Loss: 0.336310\n",
            "\n",
            "[EPOCH: 4], \tTest Loss: 0.0070, \tTest Accuracy: 92.81% \n",
            "\n",
            "Train Epoch: 5 [0/244 (0%)]\tTrain Loss: 0.264867\n",
            "Train Epoch: 5 [160/244 (62%)]\tTrain Loss: 0.130020\n",
            "\n",
            "[EPOCH: 5], \tTest Loss: 0.0059, \tTest Accuracy: 94.12% \n",
            "\n",
            "Train Epoch: 6 [0/244 (0%)]\tTrain Loss: 0.085052\n",
            "Train Epoch: 6 [160/244 (62%)]\tTrain Loss: 0.157631\n",
            "\n",
            "[EPOCH: 6], \tTest Loss: 0.0054, \tTest Accuracy: 94.77% \n",
            "\n",
            "Train Epoch: 7 [0/244 (0%)]\tTrain Loss: 0.115439\n",
            "Train Epoch: 7 [160/244 (62%)]\tTrain Loss: 0.068834\n",
            "\n",
            "[EPOCH: 7], \tTest Loss: 0.0050, \tTest Accuracy: 94.77% \n",
            "\n",
            "Train Epoch: 8 [0/244 (0%)]\tTrain Loss: 0.100962\n",
            "Train Epoch: 8 [160/244 (62%)]\tTrain Loss: 0.071941\n",
            "\n",
            "[EPOCH: 8], \tTest Loss: 0.0053, \tTest Accuracy: 93.46% \n",
            "\n",
            "Train Epoch: 9 [0/244 (0%)]\tTrain Loss: 0.147212\n",
            "Train Epoch: 9 [160/244 (62%)]\tTrain Loss: 0.174996\n",
            "\n",
            "[EPOCH: 9], \tTest Loss: 0.0051, \tTest Accuracy: 94.77% \n",
            "\n",
            "Train Epoch: 10 [0/244 (0%)]\tTrain Loss: 0.064410\n",
            "Train Epoch: 10 [160/244 (62%)]\tTrain Loss: 0.101499\n",
            "\n",
            "[EPOCH: 10], \tTest Loss: 0.0045, \tTest Accuracy: 94.77% \n",
            "\n"
          ]
        }
      ]
    },
    {
      "cell_type": "code",
      "source": [],
      "metadata": {
        "id": "ujIP8DC52cem"
      },
      "execution_count": null,
      "outputs": []
    }
  ],
  "metadata": {
    "accelerator": "TPU",
    "colab": {
      "gpuType": "V28",
      "provenance": [],
      "authorship_tag": "ABX9TyPKY7N5s9KOhGzGffTp3LGO",
      "include_colab_link": true
    },
    "kernelspec": {
      "display_name": "Python 3",
      "name": "python3"
    },
    "language_info": {
      "name": "python"
    }
  },
  "nbformat": 4,
  "nbformat_minor": 0
}